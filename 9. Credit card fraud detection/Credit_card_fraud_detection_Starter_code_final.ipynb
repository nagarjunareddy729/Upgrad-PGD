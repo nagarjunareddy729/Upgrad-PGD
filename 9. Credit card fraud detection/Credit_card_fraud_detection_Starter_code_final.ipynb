{
 "cells": [
  {
   "cell_type": "markdown",
   "metadata": {
    "id": "R-zqM5kYz-6N"
   },
   "source": [
    "## Credit Card Fraud Detection\n",
    "\n",
    "In this project you will predict fraudulent credit card transactions with the help of Machine learning models. Please import the following libraries to get started."
   ]
  },
  {
   "cell_type": "code",
   "execution_count": 4,
   "metadata": {
    "colab": {
     "base_uri": "https://localhost:8080/"
    },
    "executionInfo": {
     "elapsed": 1244,
     "status": "ok",
     "timestamp": 1609744766134,
     "user": {
      "displayName": "nagarjuna reddy",
      "photoUrl": "https://lh6.googleusercontent.com/-0UEvu1DIQbM/AAAAAAAAAAI/AAAAAAAAE-Q/tTeeTJXIjog/s64/photo.jpg",
      "userId": "04925622570529180373"
     },
     "user_tz": -330
    },
    "id": "7ZtaWuDK0FfY",
    "outputId": "b3f5dc6c-8353-4611-c050-7eb0375532ef"
   },
   "outputs": [
    {
     "name": "stdout",
     "output_type": "stream",
     "text": [
      "Drive already mounted at /content/drive; to attempt to forcibly remount, call drive.mount(\"/content/drive\", force_remount=True).\n"
     ]
    }
   ],
   "source": [
    "from google.colab import drive\n",
    "drive.mount('/content/drive')"
   ]
  },
  {
   "cell_type": "code",
   "execution_count": 5,
   "metadata": {
    "executionInfo": {
     "elapsed": 1668,
     "status": "ok",
     "timestamp": 1609744766810,
     "user": {
      "displayName": "nagarjuna reddy",
      "photoUrl": "https://lh6.googleusercontent.com/-0UEvu1DIQbM/AAAAAAAAAAI/AAAAAAAAE-Q/tTeeTJXIjog/s64/photo.jpg",
      "userId": "04925622570529180373"
     },
     "user_tz": -330
    },
    "id": "-b5sPEMxz-6V",
    "scrolled": false
   },
   "outputs": [],
   "source": [
    "# Import libraries\n",
    "\n",
    "import warnings\n",
    "warnings.filterwarnings('ignore')\n",
    "\n",
    "import numpy as np\n",
    "import pandas as pd\n",
    "\n",
    "import matplotlib.pyplot as plt\n",
    "%matplotlib inline\n",
    "import seaborn as sns\n",
    "\n",
    "from sklearn import metrics\n",
    "from sklearn import preprocessing\n",
    "from sklearn import model_selection"
   ]
  },
  {
   "cell_type": "markdown",
   "metadata": {
    "id": "7S_MS8kOz-6W"
   },
   "source": [
    "## Exploratory data analysis"
   ]
  },
  {
   "cell_type": "code",
   "execution_count": 6,
   "metadata": {
    "colab": {
     "base_uri": "https://localhost:8080/",
     "height": 215
    },
    "executionInfo": {
     "elapsed": 4877,
     "status": "ok",
     "timestamp": 1609744770538,
     "user": {
      "displayName": "nagarjuna reddy",
      "photoUrl": "https://lh6.googleusercontent.com/-0UEvu1DIQbM/AAAAAAAAAAI/AAAAAAAAE-Q/tTeeTJXIjog/s64/photo.jpg",
      "userId": "04925622570529180373"
     },
     "user_tz": -330
    },
    "id": "LnTSPSpiz-6W",
    "outputId": "018d60f9-9598-4f1c-e3ef-7928f0016df2"
   },
   "outputs": [
    {
     "data": {
      "text/html": [
       "<div>\n",
       "<style scoped>\n",
       "    .dataframe tbody tr th:only-of-type {\n",
       "        vertical-align: middle;\n",
       "    }\n",
       "\n",
       "    .dataframe tbody tr th {\n",
       "        vertical-align: top;\n",
       "    }\n",
       "\n",
       "    .dataframe thead th {\n",
       "        text-align: right;\n",
       "    }\n",
       "</style>\n",
       "<table border=\"1\" class=\"dataframe\">\n",
       "  <thead>\n",
       "    <tr style=\"text-align: right;\">\n",
       "      <th></th>\n",
       "      <th>Time</th>\n",
       "      <th>V1</th>\n",
       "      <th>V2</th>\n",
       "      <th>V3</th>\n",
       "      <th>V4</th>\n",
       "      <th>V5</th>\n",
       "      <th>V6</th>\n",
       "      <th>V7</th>\n",
       "      <th>V8</th>\n",
       "      <th>V9</th>\n",
       "      <th>V10</th>\n",
       "      <th>V11</th>\n",
       "      <th>V12</th>\n",
       "      <th>V13</th>\n",
       "      <th>V14</th>\n",
       "      <th>V15</th>\n",
       "      <th>V16</th>\n",
       "      <th>V17</th>\n",
       "      <th>V18</th>\n",
       "      <th>V19</th>\n",
       "      <th>V20</th>\n",
       "      <th>V21</th>\n",
       "      <th>V22</th>\n",
       "      <th>V23</th>\n",
       "      <th>V24</th>\n",
       "      <th>V25</th>\n",
       "      <th>V26</th>\n",
       "      <th>V27</th>\n",
       "      <th>V28</th>\n",
       "      <th>Amount</th>\n",
       "      <th>Class</th>\n",
       "    </tr>\n",
       "  </thead>\n",
       "  <tbody>\n",
       "    <tr>\n",
       "      <th>0</th>\n",
       "      <td>0.0</td>\n",
       "      <td>-1.359807</td>\n",
       "      <td>-0.072781</td>\n",
       "      <td>2.536347</td>\n",
       "      <td>1.378155</td>\n",
       "      <td>-0.338321</td>\n",
       "      <td>0.462388</td>\n",
       "      <td>0.239599</td>\n",
       "      <td>0.098698</td>\n",
       "      <td>0.363787</td>\n",
       "      <td>0.090794</td>\n",
       "      <td>-0.551600</td>\n",
       "      <td>-0.617801</td>\n",
       "      <td>-0.991390</td>\n",
       "      <td>-0.311169</td>\n",
       "      <td>1.468177</td>\n",
       "      <td>-0.470401</td>\n",
       "      <td>0.207971</td>\n",
       "      <td>0.025791</td>\n",
       "      <td>0.403993</td>\n",
       "      <td>0.251412</td>\n",
       "      <td>-0.018307</td>\n",
       "      <td>0.277838</td>\n",
       "      <td>-0.110474</td>\n",
       "      <td>0.066928</td>\n",
       "      <td>0.128539</td>\n",
       "      <td>-0.189115</td>\n",
       "      <td>0.133558</td>\n",
       "      <td>-0.021053</td>\n",
       "      <td>149.62</td>\n",
       "      <td>0</td>\n",
       "    </tr>\n",
       "    <tr>\n",
       "      <th>1</th>\n",
       "      <td>0.0</td>\n",
       "      <td>1.191857</td>\n",
       "      <td>0.266151</td>\n",
       "      <td>0.166480</td>\n",
       "      <td>0.448154</td>\n",
       "      <td>0.060018</td>\n",
       "      <td>-0.082361</td>\n",
       "      <td>-0.078803</td>\n",
       "      <td>0.085102</td>\n",
       "      <td>-0.255425</td>\n",
       "      <td>-0.166974</td>\n",
       "      <td>1.612727</td>\n",
       "      <td>1.065235</td>\n",
       "      <td>0.489095</td>\n",
       "      <td>-0.143772</td>\n",
       "      <td>0.635558</td>\n",
       "      <td>0.463917</td>\n",
       "      <td>-0.114805</td>\n",
       "      <td>-0.183361</td>\n",
       "      <td>-0.145783</td>\n",
       "      <td>-0.069083</td>\n",
       "      <td>-0.225775</td>\n",
       "      <td>-0.638672</td>\n",
       "      <td>0.101288</td>\n",
       "      <td>-0.339846</td>\n",
       "      <td>0.167170</td>\n",
       "      <td>0.125895</td>\n",
       "      <td>-0.008983</td>\n",
       "      <td>0.014724</td>\n",
       "      <td>2.69</td>\n",
       "      <td>0</td>\n",
       "    </tr>\n",
       "    <tr>\n",
       "      <th>2</th>\n",
       "      <td>1.0</td>\n",
       "      <td>-1.358354</td>\n",
       "      <td>-1.340163</td>\n",
       "      <td>1.773209</td>\n",
       "      <td>0.379780</td>\n",
       "      <td>-0.503198</td>\n",
       "      <td>1.800499</td>\n",
       "      <td>0.791461</td>\n",
       "      <td>0.247676</td>\n",
       "      <td>-1.514654</td>\n",
       "      <td>0.207643</td>\n",
       "      <td>0.624501</td>\n",
       "      <td>0.066084</td>\n",
       "      <td>0.717293</td>\n",
       "      <td>-0.165946</td>\n",
       "      <td>2.345865</td>\n",
       "      <td>-2.890083</td>\n",
       "      <td>1.109969</td>\n",
       "      <td>-0.121359</td>\n",
       "      <td>-2.261857</td>\n",
       "      <td>0.524980</td>\n",
       "      <td>0.247998</td>\n",
       "      <td>0.771679</td>\n",
       "      <td>0.909412</td>\n",
       "      <td>-0.689281</td>\n",
       "      <td>-0.327642</td>\n",
       "      <td>-0.139097</td>\n",
       "      <td>-0.055353</td>\n",
       "      <td>-0.059752</td>\n",
       "      <td>378.66</td>\n",
       "      <td>0</td>\n",
       "    </tr>\n",
       "    <tr>\n",
       "      <th>3</th>\n",
       "      <td>1.0</td>\n",
       "      <td>-0.966272</td>\n",
       "      <td>-0.185226</td>\n",
       "      <td>1.792993</td>\n",
       "      <td>-0.863291</td>\n",
       "      <td>-0.010309</td>\n",
       "      <td>1.247203</td>\n",
       "      <td>0.237609</td>\n",
       "      <td>0.377436</td>\n",
       "      <td>-1.387024</td>\n",
       "      <td>-0.054952</td>\n",
       "      <td>-0.226487</td>\n",
       "      <td>0.178228</td>\n",
       "      <td>0.507757</td>\n",
       "      <td>-0.287924</td>\n",
       "      <td>-0.631418</td>\n",
       "      <td>-1.059647</td>\n",
       "      <td>-0.684093</td>\n",
       "      <td>1.965775</td>\n",
       "      <td>-1.232622</td>\n",
       "      <td>-0.208038</td>\n",
       "      <td>-0.108300</td>\n",
       "      <td>0.005274</td>\n",
       "      <td>-0.190321</td>\n",
       "      <td>-1.175575</td>\n",
       "      <td>0.647376</td>\n",
       "      <td>-0.221929</td>\n",
       "      <td>0.062723</td>\n",
       "      <td>0.061458</td>\n",
       "      <td>123.50</td>\n",
       "      <td>0</td>\n",
       "    </tr>\n",
       "    <tr>\n",
       "      <th>4</th>\n",
       "      <td>2.0</td>\n",
       "      <td>-1.158233</td>\n",
       "      <td>0.877737</td>\n",
       "      <td>1.548718</td>\n",
       "      <td>0.403034</td>\n",
       "      <td>-0.407193</td>\n",
       "      <td>0.095921</td>\n",
       "      <td>0.592941</td>\n",
       "      <td>-0.270533</td>\n",
       "      <td>0.817739</td>\n",
       "      <td>0.753074</td>\n",
       "      <td>-0.822843</td>\n",
       "      <td>0.538196</td>\n",
       "      <td>1.345852</td>\n",
       "      <td>-1.119670</td>\n",
       "      <td>0.175121</td>\n",
       "      <td>-0.451449</td>\n",
       "      <td>-0.237033</td>\n",
       "      <td>-0.038195</td>\n",
       "      <td>0.803487</td>\n",
       "      <td>0.408542</td>\n",
       "      <td>-0.009431</td>\n",
       "      <td>0.798278</td>\n",
       "      <td>-0.137458</td>\n",
       "      <td>0.141267</td>\n",
       "      <td>-0.206010</td>\n",
       "      <td>0.502292</td>\n",
       "      <td>0.219422</td>\n",
       "      <td>0.215153</td>\n",
       "      <td>69.99</td>\n",
       "      <td>0</td>\n",
       "    </tr>\n",
       "  </tbody>\n",
       "</table>\n",
       "</div>"
      ],
      "text/plain": [
       "   Time        V1        V2        V3  ...       V27       V28  Amount  Class\n",
       "0   0.0 -1.359807 -0.072781  2.536347  ...  0.133558 -0.021053  149.62      0\n",
       "1   0.0  1.191857  0.266151  0.166480  ... -0.008983  0.014724    2.69      0\n",
       "2   1.0 -1.358354 -1.340163  1.773209  ... -0.055353 -0.059752  378.66      0\n",
       "3   1.0 -0.966272 -0.185226  1.792993  ...  0.062723  0.061458  123.50      0\n",
       "4   2.0 -1.158233  0.877737  1.548718  ...  0.219422  0.215153   69.99      0\n",
       "\n",
       "[5 rows x 31 columns]"
      ]
     },
     "execution_count": 6,
     "metadata": {
      "tags": []
     },
     "output_type": "execute_result"
    }
   ],
   "source": [
    "# Read data from csv\n",
    "\n",
    "df = pd.read_csv('/content/drive/MyDrive/Colab Notebooks/creditcard.csv') #/content/drive/MyDrive/Colab Notebooks/\n",
    "df.head()"
   ]
  },
  {
   "cell_type": "code",
   "execution_count": 7,
   "metadata": {
    "colab": {
     "base_uri": "https://localhost:8080/"
    },
    "executionInfo": {
     "elapsed": 4656,
     "status": "ok",
     "timestamp": 1609744770539,
     "user": {
      "displayName": "nagarjuna reddy",
      "photoUrl": "https://lh6.googleusercontent.com/-0UEvu1DIQbM/AAAAAAAAAAI/AAAAAAAAE-Q/tTeeTJXIjog/s64/photo.jpg",
      "userId": "04925622570529180373"
     },
     "user_tz": -330
    },
    "id": "PsG3-ztkz-6X",
    "outputId": "91342d3f-79ff-41b7-ccb2-39ee5dd85506"
   },
   "outputs": [
    {
     "name": "stdout",
     "output_type": "stream",
     "text": [
      "<class 'pandas.core.frame.DataFrame'>\n",
      "RangeIndex: 284807 entries, 0 to 284806\n",
      "Data columns (total 31 columns):\n",
      " #   Column  Non-Null Count   Dtype  \n",
      "---  ------  --------------   -----  \n",
      " 0   Time    284807 non-null  float64\n",
      " 1   V1      284807 non-null  float64\n",
      " 2   V2      284807 non-null  float64\n",
      " 3   V3      284807 non-null  float64\n",
      " 4   V4      284807 non-null  float64\n",
      " 5   V5      284807 non-null  float64\n",
      " 6   V6      284807 non-null  float64\n",
      " 7   V7      284807 non-null  float64\n",
      " 8   V8      284807 non-null  float64\n",
      " 9   V9      284807 non-null  float64\n",
      " 10  V10     284807 non-null  float64\n",
      " 11  V11     284807 non-null  float64\n",
      " 12  V12     284807 non-null  float64\n",
      " 13  V13     284807 non-null  float64\n",
      " 14  V14     284807 non-null  float64\n",
      " 15  V15     284807 non-null  float64\n",
      " 16  V16     284807 non-null  float64\n",
      " 17  V17     284807 non-null  float64\n",
      " 18  V18     284807 non-null  float64\n",
      " 19  V19     284807 non-null  float64\n",
      " 20  V20     284807 non-null  float64\n",
      " 21  V21     284807 non-null  float64\n",
      " 22  V22     284807 non-null  float64\n",
      " 23  V23     284807 non-null  float64\n",
      " 24  V24     284807 non-null  float64\n",
      " 25  V25     284807 non-null  float64\n",
      " 26  V26     284807 non-null  float64\n",
      " 27  V27     284807 non-null  float64\n",
      " 28  V28     284807 non-null  float64\n",
      " 29  Amount  284807 non-null  float64\n",
      " 30  Class   284807 non-null  int64  \n",
      "dtypes: float64(30), int64(1)\n",
      "memory usage: 67.4 MB\n"
     ]
    }
   ],
   "source": [
    "#observe the different feature type present in the data\n",
    "\n",
    "df.info()"
   ]
  },
  {
   "cell_type": "markdown",
   "metadata": {
    "id": "tiB_dDzPz-6X"
   },
   "source": [
    "Here we will observe the distribution of our classes"
   ]
  },
  {
   "cell_type": "code",
   "execution_count": 8,
   "metadata": {
    "executionInfo": {
     "elapsed": 4153,
     "status": "ok",
     "timestamp": 1609744770539,
     "user": {
      "displayName": "nagarjuna reddy",
      "photoUrl": "https://lh6.googleusercontent.com/-0UEvu1DIQbM/AAAAAAAAAAI/AAAAAAAAE-Q/tTeeTJXIjog/s64/photo.jpg",
      "userId": "04925622570529180373"
     },
     "user_tz": -330
    },
    "id": "esGd9zCsz-6X"
   },
   "outputs": [],
   "source": [
    "# analysing Class variable\n",
    "\n",
    "classes=df['Class'].value_counts()\n",
    "normal_share=classes[0]/df['Class'].count()*100\n",
    "fraud_share=classes[1]/df['Class'].count()*100"
   ]
  },
  {
   "cell_type": "code",
   "execution_count": 9,
   "metadata": {
    "colab": {
     "base_uri": "https://localhost:8080/",
     "height": 367
    },
    "executionInfo": {
     "elapsed": 4466,
     "status": "ok",
     "timestamp": 1609744771122,
     "user": {
      "displayName": "nagarjuna reddy",
      "photoUrl": "https://lh6.googleusercontent.com/-0UEvu1DIQbM/AAAAAAAAAAI/AAAAAAAAE-Q/tTeeTJXIjog/s64/photo.jpg",
      "userId": "04925622570529180373"
     },
     "user_tz": -330
    },
    "id": "Sd-WhQmfz-6Y",
    "outputId": "72bf2cfe-c679-4a44-aaf4-c9c9442ec5c4"
   },
   "outputs": [
    {
     "data": {
      "text/plain": [
       "<BarContainer object of 2 artists>"
      ]
     },
     "execution_count": 9,
     "metadata": {
      "tags": []
     },
     "output_type": "execute_result"
    },
    {
     "data": {
      "image/png": "[encoded data removed]",
      "text/plain": [
       "<Figure size 864x360 with 2 Axes>"
      ]
     },
     "metadata": {
      "needs_background": "light",
      "tags": []
     },
     "output_type": "display_data"
    }
   ],
   "source": [
    "# Create a bar plot for the number and percentage of fraudulent vs non-fraudulent transcations\n",
    "\n",
    "plt.figure(figsize=(12,5))\n",
    "plt.subplot(121)\n",
    "plt.title('# fraudulent vs # non-fraudulent transcations')\n",
    "sns.countplot(df['Class'])\n",
    "\n",
    "plt.subplot(122)\n",
    "plt.title('% fraudulent vs % non-fraudulent transcations')\n",
    "plt.bar([0, 1], [normal_share, fraud_share], width = 0.4)"
   ]
  },
  {
   "cell_type": "markdown",
   "metadata": {
    "id": "7qJG17Jpz-6Y"
   },
   "source": [
    "From above plots, we can see that there are negligible amount of fraudulent transactions which is our focus class. This indicates the dataset is a very highly imbalanced dataset. "
   ]
  },
  {
   "cell_type": "code",
   "execution_count": 10,
   "metadata": {
    "colab": {
     "base_uri": "https://localhost:8080/",
     "height": 282
    },
    "executionInfo": {
     "elapsed": 5815,
     "status": "ok",
     "timestamp": 1609744773090,
     "user": {
      "displayName": "nagarjuna reddy",
      "photoUrl": "https://lh6.googleusercontent.com/-0UEvu1DIQbM/AAAAAAAAAAI/AAAAAAAAE-Q/tTeeTJXIjog/s64/photo.jpg",
      "userId": "04925622570529180373"
     },
     "user_tz": -330
    },
    "id": "FHl8vNHTz-6Y",
    "outputId": "853b167c-9e2c-4b57-9f68-43b543190b21"
   },
   "outputs": [
    {
     "data": {
      "text/plain": [
       "<matplotlib.collections.PathCollection at 0x7f09dac57400>"
      ]
     },
     "execution_count": 10,
     "metadata": {
      "tags": []
     },
     "output_type": "execute_result"
    },
    {
     "data": {
      "image/png": "[encoded data removed]",
      "text/plain": [
       "<Figure size 432x288 with 1 Axes>"
      ]
     },
     "metadata": {
      "needs_background": "light",
      "tags": []
     },
     "output_type": "display_data"
    }
   ],
   "source": [
    "# Create a scatter plot to observe the distribution of classes with time\n",
    "\n",
    "plt.scatter(df['Time'], df['Class'])"
   ]
  },
  {
   "cell_type": "markdown",
   "metadata": {
    "id": "hyvEf_kPz-6Z"
   },
   "source": [
    "From above plot, the distribution of Time across both the classes is same and we can also say that there are no outliers."
   ]
  },
  {
   "cell_type": "code",
   "execution_count": 11,
   "metadata": {
    "colab": {
     "base_uri": "https://localhost:8080/",
     "height": 282
    },
    "executionInfo": {
     "elapsed": 7256,
     "status": "ok",
     "timestamp": 1609744775142,
     "user": {
      "displayName": "nagarjuna reddy",
      "photoUrl": "https://lh6.googleusercontent.com/-0UEvu1DIQbM/AAAAAAAAAAI/AAAAAAAAE-Q/tTeeTJXIjog/s64/photo.jpg",
      "userId": "04925622570529180373"
     },
     "user_tz": -330
    },
    "id": "QYIvhcR7z-6Z",
    "outputId": "805ae0fd-8907-41cf-b60b-9c766f53f648"
   },
   "outputs": [
    {
     "data": {
      "text/plain": [
       "<matplotlib.collections.PathCollection at 0x7f09da79a1d0>"
      ]
     },
     "execution_count": 11,
     "metadata": {
      "tags": []
     },
     "output_type": "execute_result"
    },
    {
     "data": {
      "image/png": "[encoded data removed]",
      "text/plain": [
       "<Figure size 432x288 with 1 Axes>"
      ]
     },
     "metadata": {
      "needs_background": "light",
      "tags": []
     },
     "output_type": "display_data"
    }
   ],
   "source": [
    "# Create a scatter plot to observe the distribution of classes with Amount\n",
    "\n",
    "plt.scatter(df['Amount'], df['Class'])"
   ]
  },
  {
   "cell_type": "markdown",
   "metadata": {
    "id": "0JQSQG5Tz-6Z"
   },
   "source": [
    "From above plot, the distribution of Amount across both the classes is quite opposite to each other. It is quite clear that there are outliers in Amount for Non fraudulent trasactions but they are expected as the customers are expected to perform some high value transactions. Distribution of Amount from Fraudulent transactions is from 0 to 5000 which are not extremely high value transactions but are significantly high which should be taken care of. "
   ]
  },
  {
   "cell_type": "markdown",
   "metadata": {
    "id": "jVzVjxnTz-6Z"
   },
   "source": [
    "Dropping the Time variable as it does not add much information"
   ]
  },
  {
   "cell_type": "code",
   "execution_count": 12,
   "metadata": {
    "colab": {
     "base_uri": "https://localhost:8080/",
     "height": 215
    },
    "executionInfo": {
     "elapsed": 6531,
     "status": "ok",
     "timestamp": 1609744775146,
     "user": {
      "displayName": "nagarjuna reddy",
      "photoUrl": "https://lh6.googleusercontent.com/-0UEvu1DIQbM/AAAAAAAAAAI/AAAAAAAAE-Q/tTeeTJXIjog/s64/photo.jpg",
      "userId": "04925622570529180373"
     },
     "user_tz": -330
    },
    "id": "sKj3qYd0z-6a",
    "outputId": "8b588698-8009-4374-c36d-eb0c8e77cc59"
   },
   "outputs": [
    {
     "data": {
      "text/html": [
       "<div>\n",
       "<style scoped>\n",
       "    .dataframe tbody tr th:only-of-type {\n",
       "        vertical-align: middle;\n",
       "    }\n",
       "\n",
       "    .dataframe tbody tr th {\n",
       "        vertical-align: top;\n",
       "    }\n",
       "\n",
       "    .dataframe thead th {\n",
       "        text-align: right;\n",
       "    }\n",
       "</style>\n",
       "<table border=\"1\" class=\"dataframe\">\n",
       "  <thead>\n",
       "    <tr style=\"text-align: right;\">\n",
       "      <th></th>\n",
       "      <th>V1</th>\n",
       "      <th>V2</th>\n",
       "      <th>V3</th>\n",
       "      <th>V4</th>\n",
       "      <th>V5</th>\n",
       "      <th>V6</th>\n",
       "      <th>V7</th>\n",
       "      <th>V8</th>\n",
       "      <th>V9</th>\n",
       "      <th>V10</th>\n",
       "      <th>V11</th>\n",
       "      <th>V12</th>\n",
       "      <th>V13</th>\n",
       "      <th>V14</th>\n",
       "      <th>V15</th>\n",
       "      <th>V16</th>\n",
       "      <th>V17</th>\n",
       "      <th>V18</th>\n",
       "      <th>V19</th>\n",
       "      <th>V20</th>\n",
       "      <th>V21</th>\n",
       "      <th>V22</th>\n",
       "      <th>V23</th>\n",
       "      <th>V24</th>\n",
       "      <th>V25</th>\n",
       "      <th>V26</th>\n",
       "      <th>V27</th>\n",
       "      <th>V28</th>\n",
       "      <th>Amount</th>\n",
       "      <th>Class</th>\n",
       "    </tr>\n",
       "  </thead>\n",
       "  <tbody>\n",
       "    <tr>\n",
       "      <th>0</th>\n",
       "      <td>-1.359807</td>\n",
       "      <td>-0.072781</td>\n",
       "      <td>2.536347</td>\n",
       "      <td>1.378155</td>\n",
       "      <td>-0.338321</td>\n",
       "      <td>0.462388</td>\n",
       "      <td>0.239599</td>\n",
       "      <td>0.098698</td>\n",
       "      <td>0.363787</td>\n",
       "      <td>0.090794</td>\n",
       "      <td>-0.551600</td>\n",
       "      <td>-0.617801</td>\n",
       "      <td>-0.991390</td>\n",
       "      <td>-0.311169</td>\n",
       "      <td>1.468177</td>\n",
       "      <td>-0.470401</td>\n",
       "      <td>0.207971</td>\n",
       "      <td>0.025791</td>\n",
       "      <td>0.403993</td>\n",
       "      <td>0.251412</td>\n",
       "      <td>-0.018307</td>\n",
       "      <td>0.277838</td>\n",
       "      <td>-0.110474</td>\n",
       "      <td>0.066928</td>\n",
       "      <td>0.128539</td>\n",
       "      <td>-0.189115</td>\n",
       "      <td>0.133558</td>\n",
       "      <td>-0.021053</td>\n",
       "      <td>149.62</td>\n",
       "      <td>0</td>\n",
       "    </tr>\n",
       "    <tr>\n",
       "      <th>1</th>\n",
       "      <td>1.191857</td>\n",
       "      <td>0.266151</td>\n",
       "      <td>0.166480</td>\n",
       "      <td>0.448154</td>\n",
       "      <td>0.060018</td>\n",
       "      <td>-0.082361</td>\n",
       "      <td>-0.078803</td>\n",
       "      <td>0.085102</td>\n",
       "      <td>-0.255425</td>\n",
       "      <td>-0.166974</td>\n",
       "      <td>1.612727</td>\n",
       "      <td>1.065235</td>\n",
       "      <td>0.489095</td>\n",
       "      <td>-0.143772</td>\n",
       "      <td>0.635558</td>\n",
       "      <td>0.463917</td>\n",
       "      <td>-0.114805</td>\n",
       "      <td>-0.183361</td>\n",
       "      <td>-0.145783</td>\n",
       "      <td>-0.069083</td>\n",
       "      <td>-0.225775</td>\n",
       "      <td>-0.638672</td>\n",
       "      <td>0.101288</td>\n",
       "      <td>-0.339846</td>\n",
       "      <td>0.167170</td>\n",
       "      <td>0.125895</td>\n",
       "      <td>-0.008983</td>\n",
       "      <td>0.014724</td>\n",
       "      <td>2.69</td>\n",
       "      <td>0</td>\n",
       "    </tr>\n",
       "    <tr>\n",
       "      <th>2</th>\n",
       "      <td>-1.358354</td>\n",
       "      <td>-1.340163</td>\n",
       "      <td>1.773209</td>\n",
       "      <td>0.379780</td>\n",
       "      <td>-0.503198</td>\n",
       "      <td>1.800499</td>\n",
       "      <td>0.791461</td>\n",
       "      <td>0.247676</td>\n",
       "      <td>-1.514654</td>\n",
       "      <td>0.207643</td>\n",
       "      <td>0.624501</td>\n",
       "      <td>0.066084</td>\n",
       "      <td>0.717293</td>\n",
       "      <td>-0.165946</td>\n",
       "      <td>2.345865</td>\n",
       "      <td>-2.890083</td>\n",
       "      <td>1.109969</td>\n",
       "      <td>-0.121359</td>\n",
       "      <td>-2.261857</td>\n",
       "      <td>0.524980</td>\n",
       "      <td>0.247998</td>\n",
       "      <td>0.771679</td>\n",
       "      <td>0.909412</td>\n",
       "      <td>-0.689281</td>\n",
       "      <td>-0.327642</td>\n",
       "      <td>-0.139097</td>\n",
       "      <td>-0.055353</td>\n",
       "      <td>-0.059752</td>\n",
       "      <td>378.66</td>\n",
       "      <td>0</td>\n",
       "    </tr>\n",
       "    <tr>\n",
       "      <th>3</th>\n",
       "      <td>-0.966272</td>\n",
       "      <td>-0.185226</td>\n",
       "      <td>1.792993</td>\n",
       "      <td>-0.863291</td>\n",
       "      <td>-0.010309</td>\n",
       "      <td>1.247203</td>\n",
       "      <td>0.237609</td>\n",
       "      <td>0.377436</td>\n",
       "      <td>-1.387024</td>\n",
       "      <td>-0.054952</td>\n",
       "      <td>-0.226487</td>\n",
       "      <td>0.178228</td>\n",
       "      <td>0.507757</td>\n",
       "      <td>-0.287924</td>\n",
       "      <td>-0.631418</td>\n",
       "      <td>-1.059647</td>\n",
       "      <td>-0.684093</td>\n",
       "      <td>1.965775</td>\n",
       "      <td>-1.232622</td>\n",
       "      <td>-0.208038</td>\n",
       "      <td>-0.108300</td>\n",
       "      <td>0.005274</td>\n",
       "      <td>-0.190321</td>\n",
       "      <td>-1.175575</td>\n",
       "      <td>0.647376</td>\n",
       "      <td>-0.221929</td>\n",
       "      <td>0.062723</td>\n",
       "      <td>0.061458</td>\n",
       "      <td>123.50</td>\n",
       "      <td>0</td>\n",
       "    </tr>\n",
       "    <tr>\n",
       "      <th>4</th>\n",
       "      <td>-1.158233</td>\n",
       "      <td>0.877737</td>\n",
       "      <td>1.548718</td>\n",
       "      <td>0.403034</td>\n",
       "      <td>-0.407193</td>\n",
       "      <td>0.095921</td>\n",
       "      <td>0.592941</td>\n",
       "      <td>-0.270533</td>\n",
       "      <td>0.817739</td>\n",
       "      <td>0.753074</td>\n",
       "      <td>-0.822843</td>\n",
       "      <td>0.538196</td>\n",
       "      <td>1.345852</td>\n",
       "      <td>-1.119670</td>\n",
       "      <td>0.175121</td>\n",
       "      <td>-0.451449</td>\n",
       "      <td>-0.237033</td>\n",
       "      <td>-0.038195</td>\n",
       "      <td>0.803487</td>\n",
       "      <td>0.408542</td>\n",
       "      <td>-0.009431</td>\n",
       "      <td>0.798278</td>\n",
       "      <td>-0.137458</td>\n",
       "      <td>0.141267</td>\n",
       "      <td>-0.206010</td>\n",
       "      <td>0.502292</td>\n",
       "      <td>0.219422</td>\n",
       "      <td>0.215153</td>\n",
       "      <td>69.99</td>\n",
       "      <td>0</td>\n",
       "    </tr>\n",
       "  </tbody>\n",
       "</table>\n",
       "</div>"
      ],
      "text/plain": [
       "         V1        V2        V3        V4  ...       V27       V28  Amount  Class\n",
       "0 -1.359807 -0.072781  2.536347  1.378155  ...  0.133558 -0.021053  149.62      0\n",
       "1  1.191857  0.266151  0.166480  0.448154  ... -0.008983  0.014724    2.69      0\n",
       "2 -1.358354 -1.340163  1.773209  0.379780  ... -0.055353 -0.059752  378.66      0\n",
       "3 -0.966272 -0.185226  1.792993 -0.863291  ...  0.062723  0.061458  123.50      0\n",
       "4 -1.158233  0.877737  1.548718  0.403034  ...  0.219422  0.215153   69.99      0\n",
       "\n",
       "[5 rows x 30 columns]"
      ]
     },
     "execution_count": 12,
     "metadata": {
      "tags": []
     },
     "output_type": "execute_result"
    }
   ],
   "source": [
    "# Drop unnecessary columns\n",
    "\n",
    "df.drop(columns='Time', inplace=True)\n",
    "df.head()"
   ]
  },
  {
   "cell_type": "markdown",
   "metadata": {
    "id": "-OlBAuXdz-6a"
   },
   "source": [
    "### Splitting the data into train & test data"
   ]
  },
  {
   "cell_type": "code",
   "execution_count": 13,
   "metadata": {
    "executionInfo": {
     "elapsed": 1261,
     "status": "ok",
     "timestamp": 1609744784156,
     "user": {
      "displayName": "nagarjuna reddy",
      "photoUrl": "https://lh6.googleusercontent.com/-0UEvu1DIQbM/AAAAAAAAAAI/AAAAAAAAE-Q/tTeeTJXIjog/s64/photo.jpg",
      "userId": "04925622570529180373"
     },
     "user_tz": -330
    },
    "id": "YoX0YeOaz-6a"
   },
   "outputs": [],
   "source": [
    "# pop Class to create y\n",
    "y= df.pop('Class') #class variable"
   ]
  },
  {
   "cell_type": "code",
   "execution_count": 14,
   "metadata": {
    "executionInfo": {
     "elapsed": 1552,
     "status": "ok",
     "timestamp": 1609744784772,
     "user": {
      "displayName": "nagarjuna reddy",
      "photoUrl": "https://lh6.googleusercontent.com/-0UEvu1DIQbM/AAAAAAAAAAI/AAAAAAAAE-Q/tTeeTJXIjog/s64/photo.jpg",
      "userId": "04925622570529180373"
     },
     "user_tz": -330
    },
    "id": "iHJN4e_yz-6a"
   },
   "outputs": [],
   "source": [
    "# Splitting data into train and test sets\n",
    "from sklearn import model_selection\n",
    "\n",
    "X_train, X_test, y_train, y_test = model_selection.train_test_split(df, y, train_size=.8, random_state=42, stratify=y)"
   ]
  },
  {
   "cell_type": "markdown",
   "metadata": {
    "id": "gpF5g0mVz-6b"
   },
   "source": [
    "##### Preserve X_test & y_test to evaluate on the test data once you build the model"
   ]
  },
  {
   "cell_type": "code",
   "execution_count": 15,
   "metadata": {
    "colab": {
     "base_uri": "https://localhost:8080/"
    },
    "executionInfo": {
     "elapsed": 1581,
     "status": "ok",
     "timestamp": 1609744785352,
     "user": {
      "displayName": "nagarjuna reddy",
      "photoUrl": "https://lh6.googleusercontent.com/-0UEvu1DIQbM/AAAAAAAAAAI/AAAAAAAAE-Q/tTeeTJXIjog/s64/photo.jpg",
      "userId": "04925622570529180373"
     },
     "user_tz": -330
    },
    "id": "cYUbM67-z-6b",
    "outputId": "e1e7a379-b72c-42b3-d876-e8fa1419d7a4"
   },
   "outputs": [
    {
     "name": "stdout",
     "output_type": "stream",
     "text": [
      "492\n",
      "394\n",
      "98\n"
     ]
    }
   ],
   "source": [
    "# Checking fraudulent trasactions in train and test sets\n",
    "print(np.sum(y))\n",
    "print(np.sum(y_train))\n",
    "print(np.sum(y_test))"
   ]
  },
  {
   "cell_type": "markdown",
   "metadata": {
    "id": "cr39Ey4bz-6b"
   },
   "source": [
    "### Plotting the distribution of a variable"
   ]
  },
  {
   "cell_type": "code",
   "execution_count": 16,
   "metadata": {
    "colab": {
     "base_uri": "https://localhost:8080/",
     "height": 296
    },
    "executionInfo": {
     "elapsed": 5529,
     "status": "ok",
     "timestamp": 1609744790223,
     "user": {
      "displayName": "nagarjuna reddy",
      "photoUrl": "https://lh6.googleusercontent.com/-0UEvu1DIQbM/AAAAAAAAAAI/AAAAAAAAE-Q/tTeeTJXIjog/s64/photo.jpg",
      "userId": "04925622570529180373"
     },
     "user_tz": -330
    },
    "id": "7_L0bvJIz-6b",
    "outputId": "1095ef64-63e1-4a06-d07d-f696f5cc4ace"
   },
   "outputs": [
    {
     "data": {
      "text/plain": [
       "<matplotlib.axes._subplots.AxesSubplot at 0x7f09da74eac8>"
      ]
     },
     "execution_count": 16,
     "metadata": {
      "tags": []
     },
     "output_type": "execute_result"
    },
    {
     "data": {
      "image/png": "[encoded data removed]",
      "text/plain": [
       "<Figure size 432x288 with 1 Axes>"
      ]
     },
     "metadata": {
      "needs_background": "light",
      "tags": []
     },
     "output_type": "display_data"
    }
   ],
   "source": [
    "# plot the histogram of a variable from the dataset to see the skewness\n",
    "\n",
    "sns.distplot(X_train['V1'])"
   ]
  },
  {
   "cell_type": "markdown",
   "metadata": {
    "id": "rKZ0xli0z-6b"
   },
   "source": [
    "From the above plot we can see the there is skewness in the distribution."
   ]
  },
  {
   "cell_type": "markdown",
   "metadata": {
    "id": "8oBlbGjTz-6c"
   },
   "source": [
    "### If there is skewness present in the distribution use:\n",
    "- <b>Power Transformer</b> package present in the <b>preprocessing library provided by sklearn</b> to make distribution more gaussian"
   ]
  },
  {
   "cell_type": "code",
   "execution_count": 17,
   "metadata": {
    "executionInfo": {
     "elapsed": 16691,
     "status": "ok",
     "timestamp": 1609744802832,
     "user": {
      "displayName": "nagarjuna reddy",
      "photoUrl": "https://lh6.googleusercontent.com/-0UEvu1DIQbM/AAAAAAAAAAI/AAAAAAAAE-Q/tTeeTJXIjog/s64/photo.jpg",
      "userId": "04925622570529180373"
     },
     "user_tz": -330
    },
    "id": "oVPOHkhkz-6c"
   },
   "outputs": [],
   "source": [
    "# - Apply : preprocessing.PowerTransformer(copy=False) to fit & transform the train & test data\n",
    "\n",
    "pt = preprocessing.PowerTransformer(copy=False)\n",
    "\n",
    "X_train_pt = pt.fit_transform(X_train)\n",
    "X_test_pt = pt.transform(X_test)"
   ]
  },
  {
   "cell_type": "code",
   "execution_count": 18,
   "metadata": {
    "colab": {
     "base_uri": "https://localhost:8080/",
     "height": 282
    },
    "executionInfo": {
     "elapsed": 17801,
     "status": "ok",
     "timestamp": 1609744804636,
     "user": {
      "displayName": "nagarjuna reddy",
      "photoUrl": "https://lh6.googleusercontent.com/-0UEvu1DIQbM/AAAAAAAAAAI/AAAAAAAAE-Q/tTeeTJXIjog/s64/photo.jpg",
      "userId": "04925622570529180373"
     },
     "user_tz": -330
    },
    "id": "vrd3zVW4z-6c",
    "outputId": "382f15de-52df-4c63-c674-4a49d6d76dbd"
   },
   "outputs": [
    {
     "data": {
      "text/plain": [
       "<matplotlib.axes._subplots.AxesSubplot at 0x7f09da436f28>"
      ]
     },
     "execution_count": 18,
     "metadata": {
      "tags": []
     },
     "output_type": "execute_result"
    },
    {
     "data": {
      "image/png": "[encoded data removed]",
      "text/plain": [
       "<Figure size 432x288 with 1 Axes>"
      ]
     },
     "metadata": {
      "needs_background": "light",
      "tags": []
     },
     "output_type": "display_data"
    }
   ],
   "source": [
    "# plot the histogram of a variable from the dataset again to see the result \n",
    "\n",
    "sns.distplot(X_train_pt[:, 0])"
   ]
  },
  {
   "cell_type": "markdown",
   "metadata": {
    "id": "4sYdiGCXFmhc"
   },
   "source": [
    "After applying Power Transformation, skewnness has been reduced to some extent."
   ]
  },
  {
   "cell_type": "markdown",
   "metadata": {
    "id": "b6oE_PA5z-6c"
   },
   "source": [
    "## Model Building\n",
    "- Build different models on the imbalanced dataset and see the result"
   ]
  },
  {
   "cell_type": "code",
   "execution_count": 16,
   "metadata": {
    "executionInfo": {
     "elapsed": 20320,
     "status": "ok",
     "timestamp": 1609734261849,
     "user": {
      "displayName": "nagarjuna reddy",
      "photoUrl": "https://lh6.googleusercontent.com/-0UEvu1DIQbM/AAAAAAAAAAI/AAAAAAAAE-Q/tTeeTJXIjog/s64/photo.jpg",
      "userId": "04925622570529180373"
     },
     "user_tz": -330
    },
    "id": "3TOCMKLOz-6c",
    "scrolled": false
   },
   "outputs": [],
   "source": [
    "# Logistic Regression\n",
    "\n",
    "from sklearn import linear_model #import the package\n",
    "\n",
    "num_C = [0, 0.05, 0.1, 0.15]  #--> list of values\n",
    "cv_num = [3, 4, 5]  #--> list of values"
   ]
  },
  {
   "cell_type": "markdown",
   "metadata": {
    "id": "LxIDfIGPz-6d"
   },
   "source": [
    "#### perfom cross validation on the X_train & y_train to create:\n",
    "- X_train_cv\n",
    "- X_test_cv \n",
    "- y_train_cv\n",
    "- y_test_cv "
   ]
  },
  {
   "cell_type": "code",
   "execution_count": 17,
   "metadata": {
    "colab": {
     "base_uri": "https://localhost:8080/"
    },
    "executionInfo": {
     "elapsed": 51130,
     "status": "ok",
     "timestamp": 1609734293387,
     "user": {
      "displayName": "nagarjuna reddy",
      "photoUrl": "https://lh6.googleusercontent.com/-0UEvu1DIQbM/AAAAAAAAAAI/AAAAAAAAE-Q/tTeeTJXIjog/s64/photo.jpg",
      "userId": "04925622570529180373"
     },
     "user_tz": -330
    },
    "id": "NnI-lyFmz-6d",
    "outputId": "c218b429-5c43-4804-88ce-0bd0eb7bc690"
   },
   "outputs": [
    {
     "name": "stdout",
     "output_type": "stream",
     "text": [
      "Fitting 3 folds for each of 8 candidates, totalling 24 fits\n"
     ]
    },
    {
     "name": "stderr",
     "output_type": "stream",
     "text": [
      "[Parallel(n_jobs=-1)]: Using backend LokyBackend with 2 concurrent workers.\n",
      "[Parallel(n_jobs=-1)]: Done  24 out of  24 | elapsed:    5.0s finished\n",
      "[Parallel(n_jobs=-1)]: Using backend LokyBackend with 2 concurrent workers.\n",
      "[Parallel(n_jobs=-1)]: Done   1 out of   1 | elapsed:    1.9s finished\n"
     ]
    },
    {
     "name": "stdout",
     "output_type": "stream",
     "text": [
      "0.9761427704118701\n",
      "LogisticRegression(C=0.05, class_weight=None, dual=False, fit_intercept=True,\n",
      "                   intercept_scaling=1, l1_ratio=None, max_iter=100,\n",
      "                   multi_class='auto', n_jobs=-1, penalty='l2', random_state=42,\n",
      "                   solver='lbfgs', tol=0.0001, verbose=1, warm_start=False)\n",
      "Fitting 4 folds for each of 8 candidates, totalling 32 fits\n"
     ]
    },
    {
     "name": "stderr",
     "output_type": "stream",
     "text": [
      "[Parallel(n_jobs=-1)]: Using backend LokyBackend with 2 concurrent workers.\n",
      "[Parallel(n_jobs=-1)]: Done  32 out of  32 | elapsed:    6.5s finished\n",
      "[Parallel(n_jobs=-1)]: Using backend LokyBackend with 2 concurrent workers.\n",
      "[Parallel(n_jobs=-1)]: Done   1 out of   1 | elapsed:    2.0s finished\n"
     ]
    },
    {
     "name": "stdout",
     "output_type": "stream",
     "text": [
      "0.9800890753724286\n",
      "LogisticRegression(C=0.05, class_weight=None, dual=False, fit_intercept=True,\n",
      "                   intercept_scaling=1, l1_ratio=None, max_iter=100,\n",
      "                   multi_class='auto', n_jobs=-1, penalty='l2', random_state=42,\n",
      "                   solver='lbfgs', tol=0.0001, verbose=1, warm_start=False)\n",
      "Fitting 5 folds for each of 8 candidates, totalling 40 fits\n"
     ]
    },
    {
     "name": "stderr",
     "output_type": "stream",
     "text": [
      "[Parallel(n_jobs=-1)]: Using backend LokyBackend with 2 concurrent workers.\n",
      "[Parallel(n_jobs=-1)]: Done  40 out of  40 | elapsed:    9.3s finished\n",
      "[Parallel(n_jobs=-1)]: Using backend LokyBackend with 2 concurrent workers.\n",
      "[Parallel(n_jobs=-1)]: Done   1 out of   1 | elapsed:    2.3s finished\n",
      "[Parallel(n_jobs=-1)]: Using backend LokyBackend with 2 concurrent workers.\n"
     ]
    },
    {
     "name": "stdout",
     "output_type": "stream",
     "text": [
      "0.9800701793614144\n",
      "LogisticRegression(C=0.05, class_weight=None, dual=False, fit_intercept=True,\n",
      "                   intercept_scaling=1, l1_ratio=None, max_iter=100,\n",
      "                   multi_class='auto', n_jobs=-1, penalty='l2', random_state=42,\n",
      "                   solver='lbfgs', tol=0.0001, verbose=1, warm_start=False)\n",
      "AUC score on train data is 0.8269264223111475\n",
      "AUC score on test data is 0.822707870139772\n",
      "Best C value is 0.05\n"
     ]
    },
    {
     "name": "stderr",
     "output_type": "stream",
     "text": [
      "[Parallel(n_jobs=-1)]: Done   1 out of   1 | elapsed:    2.3s finished\n"
     ]
    }
   ],
   "source": [
    "#perform cross validation\n",
    "\n",
    "#perform hyperparameter tuning\n",
    "\n",
    "best_scr_ub = []\n",
    "best_est_ub = []\n",
    "\n",
    "best_est_lr_ub = []\n",
    "best_score_lr_ub = []\n",
    "\n",
    "for k_lr_ub in cv_num:\n",
    "    sk_lr_ub = model_selection.StratifiedKFold(n_splits=k_lr_ub)\n",
    "    for train_ind, test_ind in sk_lr_ub.split(X_train, y_train):\n",
    "        X_train_cv, X_test_cv = X_train_pt[train_ind], X_train_pt[test_ind] \n",
    "        y_train_cv, y_test_cv = np.array(y_train)[train_ind], np.array(y_train)[test_ind]\n",
    "    log_re_ub = linear_model.LogisticRegression(n_jobs=-1, random_state=42, verbose=1)\n",
    "    params_lr_ub = {'penalty' : ['l1', 'l2'], \n",
    "              'C' : num_C}\n",
    "    gs_Log_ub = model_selection.GridSearchCV(log_re_ub, \n",
    "                                             param_grid=params_lr_ub, \n",
    "                                             scoring='roc_auc', \n",
    "                                             n_jobs=-1, \n",
    "                                             cv=sk_lr_ub, \n",
    "                                             verbose=1)\n",
    "    gs_Log_ub.fit(X_train_cv, y_train_cv)\n",
    "    print(gs_Log_ub.best_score_)\n",
    "    print(gs_Log_ub.best_estimator_)\n",
    "    best_score_lr_ub.append(gs_Log_ub.best_score_)\n",
    "    best_est_lr_ub.append(gs_Log_ub.best_estimator_)\n",
    "    \n",
    "lr_best_ub = best_est_lr_ub[best_score_lr_ub.index(max(best_score_lr_ub))] # Getting the best estimator\n",
    "lr_best_ub.fit(X_train_cv, y_train_cv) # fit using best estimator\n",
    "\n",
    "#print the evaluation result by choosing a evaluation metric\n",
    "\n",
    "print(\"AUC score on train data is {}\".format(metrics.roc_auc_score(y_train_cv, lr_best_ub.predict(X_train_cv))))\n",
    "print(\"AUC score on test data is {}\".format(metrics.roc_auc_score(y_test_cv, lr_best_ub.predict(X_test_cv))))\n",
    "best_scr_ub.append(metrics.roc_auc_score(y_test_cv, lr_best_ub.predict(X_test_cv)))\n",
    "best_est_ub.append(lr_best_ub)\n",
    "\n",
    "\n",
    "#print the optimum value of hyperparameters\n",
    "\n",
    "print('Best C value is {}'.format(lr_best_ub.get_params()['C']))"
   ]
  },
  {
   "cell_type": "markdown",
   "metadata": {
    "id": "PgP3rzn2z-6g"
   },
   "source": [
    "### Similarly explore other algorithms by building models like:\n",
    "- KNN\n",
    "- SVM\n",
    "- Decision Tree\n",
    "- Random Forest\n",
    "- XGBoost"
   ]
  },
  {
   "cell_type": "code",
   "execution_count": 18,
   "metadata": {
    "colab": {
     "base_uri": "https://localhost:8080/"
    },
    "executionInfo": {
     "elapsed": 4635887,
     "status": "ok",
     "timestamp": 1609738878773,
     "user": {
      "displayName": "nagarjuna reddy",
      "photoUrl": "https://lh6.googleusercontent.com/-0UEvu1DIQbM/AAAAAAAAAAI/AAAAAAAAE-Q/tTeeTJXIjog/s64/photo.jpg",
      "userId": "04925622570529180373"
     },
     "user_tz": -330
    },
    "id": "pkdPrhWM699A",
    "outputId": "56c0a5b5-a562-4162-8123-4b970ad9c45e"
   },
   "outputs": [
    {
     "name": "stdout",
     "output_type": "stream",
     "text": [
      "Fitting 3 folds for each of 48 candidates, totalling 144 fits\n"
     ]
    },
    {
     "name": "stderr",
     "output_type": "stream",
     "text": [
      "[Parallel(n_jobs=-1)]: Using backend LokyBackend with 2 concurrent workers.\n",
      "[Parallel(n_jobs=-1)]: Done  46 tasks      | elapsed:  3.4min\n",
      "[Parallel(n_jobs=-1)]: Done 144 out of 144 | elapsed: 14.1min finished\n",
      "[Parallel(n_jobs=-1)]: Using backend ThreadingBackend with 2 concurrent workers.\n",
      "[Parallel(n_jobs=-1)]: Done  20 out of  20 | elapsed:   14.1s finished\n",
      "[Parallel(n_jobs=-1)]: Using backend LokyBackend with 2 concurrent workers.\n"
     ]
    },
    {
     "name": "stdout",
     "output_type": "stream",
     "text": [
      "0.9713836678299591\n",
      "RandomForestClassifier(bootstrap=True, ccp_alpha=0.0, class_weight=None,\n",
      "                       criterion='gini', max_depth=10, max_features='auto',\n",
      "                       max_leaf_nodes=None, max_samples=None,\n",
      "                       min_impurity_decrease=0.0, min_impurity_split=None,\n",
      "                       min_samples_leaf=10, min_samples_split=2,\n",
      "                       min_weight_fraction_leaf=0.0, n_estimators=20, n_jobs=-1,\n",
      "                       oob_score=False, random_state=42, verbose=1,\n",
      "                       warm_start=False)\n",
      "Fitting 4 folds for each of 48 candidates, totalling 192 fits\n"
     ]
    },
    {
     "name": "stderr",
     "output_type": "stream",
     "text": [
      "[Parallel(n_jobs=-1)]: Done  46 tasks      | elapsed:  3.9min\n",
      "[Parallel(n_jobs=-1)]: Done 192 out of 192 | elapsed: 24.7min finished\n",
      "[Parallel(n_jobs=-1)]: Using backend ThreadingBackend with 2 concurrent workers.\n",
      "[Parallel(n_jobs=-1)]: Done  20 out of  20 | elapsed:   21.2s finished\n",
      "[Parallel(n_jobs=-1)]: Using backend LokyBackend with 2 concurrent workers.\n"
     ]
    },
    {
     "name": "stdout",
     "output_type": "stream",
     "text": [
      "0.9709855542522543\n",
      "RandomForestClassifier(bootstrap=True, ccp_alpha=0.0, class_weight=None,\n",
      "                       criterion='gini', max_depth=15, max_features='auto',\n",
      "                       max_leaf_nodes=None, max_samples=None,\n",
      "                       min_impurity_decrease=0.0, min_impurity_split=None,\n",
      "                       min_samples_leaf=15, min_samples_split=2,\n",
      "                       min_weight_fraction_leaf=0.0, n_estimators=20, n_jobs=-1,\n",
      "                       oob_score=False, random_state=42, verbose=1,\n",
      "                       warm_start=False)\n",
      "Fitting 5 folds for each of 48 candidates, totalling 240 fits\n"
     ]
    },
    {
     "name": "stderr",
     "output_type": "stream",
     "text": [
      "[Parallel(n_jobs=-1)]: Done  46 tasks      | elapsed:  4.4min\n",
      "[Parallel(n_jobs=-1)]: Done 196 tasks      | elapsed: 27.6min\n",
      "[Parallel(n_jobs=-1)]: Done 240 out of 240 | elapsed: 36.5min finished\n",
      "[Parallel(n_jobs=-1)]: Using backend ThreadingBackend with 2 concurrent workers.\n",
      "[Parallel(n_jobs=-1)]: Done  15 out of  15 | elapsed:   15.8s finished\n",
      "[Parallel(n_jobs=-1)]: Using backend ThreadingBackend with 2 concurrent workers.\n"
     ]
    },
    {
     "name": "stdout",
     "output_type": "stream",
     "text": [
      "0.9773225487099051\n",
      "RandomForestClassifier(bootstrap=True, ccp_alpha=0.0, class_weight=None,\n",
      "                       criterion='gini', max_depth=12, max_features='auto',\n",
      "                       max_leaf_nodes=None, max_samples=None,\n",
      "                       min_impurity_decrease=0.0, min_impurity_split=None,\n",
      "                       min_samples_leaf=10, min_samples_split=2,\n",
      "                       min_weight_fraction_leaf=0.0, n_estimators=15, n_jobs=-1,\n",
      "                       oob_score=False, random_state=42, verbose=1,\n",
      "                       warm_start=False)\n"
     ]
    },
    {
     "name": "stderr",
     "output_type": "stream",
     "text": [
      "[Parallel(n_jobs=-1)]: Done  15 out of  15 | elapsed:   15.9s finished\n",
      "[Parallel(n_jobs=2)]: Using backend ThreadingBackend with 2 concurrent workers.\n",
      "[Parallel(n_jobs=2)]: Done  15 out of  15 | elapsed:    0.2s finished\n"
     ]
    },
    {
     "name": "stdout",
     "output_type": "stream",
     "text": [
      "AUC score on train data is 0.8856565810413063\n",
      "AUC score on test data is 0.8860209922336528\n"
     ]
    },
    {
     "name": "stderr",
     "output_type": "stream",
     "text": [
      "[Parallel(n_jobs=2)]: Using backend ThreadingBackend with 2 concurrent workers.\n",
      "[Parallel(n_jobs=2)]: Done  15 out of  15 | elapsed:    0.0s finished\n",
      "[Parallel(n_jobs=2)]: Using backend ThreadingBackend with 2 concurrent workers.\n",
      "[Parallel(n_jobs=2)]: Done  15 out of  15 | elapsed:    0.0s finished\n"
     ]
    },
    {
     "name": "stdout",
     "output_type": "stream",
     "text": [
      "Best n_estimators value is 15\n",
      "Best max_depth value is 12\n",
      "Best min_samples_leaf value is 10\n"
     ]
    }
   ],
   "source": [
    "# Model building using RandomForest\n",
    "\n",
    "from sklearn.ensemble import RandomForestClassifier\n",
    "\n",
    "best_est_rf_ub = []\n",
    "best_score_rf_ub = []\n",
    "\n",
    "for k_rf_ub in cv_num:\n",
    "    sk_rf_ub = model_selection.StratifiedKFold(n_splits=k_rf_ub)\n",
    "    for train_ind, test_ind in sk_rf_ub.split(X_train, y_train):\n",
    "        X_train_cv, X_test_cv = X_train_pt[train_ind], X_train_pt[test_ind] \n",
    "        y_train_cv, y_test_cv = np.array(y_train)[train_ind], np.array(y_train)[test_ind]\n",
    "    rf_ub = RandomForestClassifier(n_jobs=-1, random_state=42, verbose=1)\n",
    "    params_rf_ub = {'n_estimators' : [5, 10, 15, 20],\n",
    "          'max_depth' : [7, 10, 12, 15],\n",
    "          'min_samples_leaf' : [5, 10, 15]\n",
    "          }\n",
    "    gs_rf_ub = model_selection.GridSearchCV(rf_ub, \n",
    "                                            param_grid=params_rf_ub, \n",
    "                                            scoring='roc_auc', \n",
    "                                            n_jobs=-1, \n",
    "                                            cv=sk_rf_ub, \n",
    "                                            verbose=1)\n",
    "    gs_rf_ub.fit(X_train_cv, y_train_cv)\n",
    "    print(gs_rf_ub.best_score_)\n",
    "    print(gs_rf_ub.best_estimator_)\n",
    "    best_score_rf_ub.append(gs_rf_ub.best_score_)\n",
    "    best_est_rf_ub.append(gs_rf_ub.best_estimator_)\n",
    "\n",
    "rf_best_ub = best_est_rf_ub[best_score_rf_ub.index(max(best_score_rf_ub))] # Getting the best estimator\n",
    "rf_best_ub.fit(X_train_cv, y_train_cv) # fit using best estimator\n",
    "\n",
    "#print the evaluation result by choosing a evaluation metric\n",
    "\n",
    "print(\"AUC score on train data is {}\".format(metrics.roc_auc_score(y_train_cv, rf_best_ub.predict(X_train_cv))))\n",
    "print(\"AUC score on test data is {}\".format(metrics.roc_auc_score(y_test_cv, rf_best_ub.predict(X_test_cv))))\n",
    "best_scr_ub.append(metrics.roc_auc_score(y_test_cv, rf_best_ub.predict(X_test_cv)))\n",
    "best_est_ub.append(rf_best_ub)\n",
    "\n",
    "#print the optimum value of hyperparameters\n",
    "\n",
    "print('Best n_estimators value is {}'.format(rf_best_ub.get_params()['n_estimators']))\n",
    "print('Best max_depth value is {}'.format(rf_best_ub.get_params()['max_depth']))\n",
    "print('Best min_samples_leaf value is {}'.format(rf_best_ub.get_params()['min_samples_leaf']))"
   ]
  },
  {
   "cell_type": "code",
   "execution_count": 19,
   "metadata": {
    "colab": {
     "base_uri": "https://localhost:8080/"
    },
    "executionInfo": {
     "elapsed": 7240833,
     "status": "ok",
     "timestamp": 1609741484040,
     "user": {
      "displayName": "nagarjuna reddy",
      "photoUrl": "https://lh6.googleusercontent.com/-0UEvu1DIQbM/AAAAAAAAAAI/AAAAAAAAE-Q/tTeeTJXIjog/s64/photo.jpg",
      "userId": "04925622570529180373"
     },
     "user_tz": -330
    },
    "id": "xY3egBWtNQfP",
    "outputId": "d338e3a1-5bd6-437c-f57d-f6e223bce82f"
   },
   "outputs": [
    {
     "name": "stdout",
     "output_type": "stream",
     "text": [
      "Fitting 3 folds for each of 64 candidates, totalling 192 fits\n"
     ]
    },
    {
     "name": "stderr",
     "output_type": "stream",
     "text": [
      "[Parallel(n_jobs=-1)]: Using backend LokyBackend with 2 concurrent workers.\n",
      "[Parallel(n_jobs=-1)]: Done  46 tasks      | elapsed:  2.2min\n",
      "[Parallel(n_jobs=-1)]: Done 192 out of 192 | elapsed:  8.9min finished\n"
     ]
    },
    {
     "name": "stdout",
     "output_type": "stream",
     "text": [
      "0.9383582397956696\n",
      "DecisionTreeClassifier(ccp_alpha=0.0, class_weight=None, criterion='gini',\n",
      "                       max_depth=12, max_features=None, max_leaf_nodes=15,\n",
      "                       min_impurity_decrease=0.0, min_impurity_split=None,\n",
      "                       min_samples_leaf=20, min_samples_split=2,\n",
      "                       min_weight_fraction_leaf=0.0, presort='deprecated',\n",
      "                       random_state=None, splitter='best')\n",
      "Fitting 4 folds for each of 64 candidates, totalling 256 fits\n"
     ]
    },
    {
     "name": "stderr",
     "output_type": "stream",
     "text": [
      "[Parallel(n_jobs=-1)]: Using backend LokyBackend with 2 concurrent workers.\n",
      "[Parallel(n_jobs=-1)]: Done  46 tasks      | elapsed:  2.3min\n",
      "[Parallel(n_jobs=-1)]: Done 196 tasks      | elapsed: 10.5min\n",
      "[Parallel(n_jobs=-1)]: Done 256 out of 256 | elapsed: 13.7min finished\n"
     ]
    },
    {
     "name": "stdout",
     "output_type": "stream",
     "text": [
      "0.9427853965087394\n",
      "DecisionTreeClassifier(ccp_alpha=0.0, class_weight=None, criterion='gini',\n",
      "                       max_depth=15, max_features=None, max_leaf_nodes=15,\n",
      "                       min_impurity_decrease=0.0, min_impurity_split=None,\n",
      "                       min_samples_leaf=22, min_samples_split=2,\n",
      "                       min_weight_fraction_leaf=0.0, presort='deprecated',\n",
      "                       random_state=None, splitter='best')\n",
      "Fitting 5 folds for each of 64 candidates, totalling 320 fits\n"
     ]
    },
    {
     "name": "stderr",
     "output_type": "stream",
     "text": [
      "[Parallel(n_jobs=-1)]: Using backend LokyBackend with 2 concurrent workers.\n",
      "[Parallel(n_jobs=-1)]: Done  46 tasks      | elapsed:  2.5min\n",
      "[Parallel(n_jobs=-1)]: Done 196 tasks      | elapsed: 12.0min\n",
      "[Parallel(n_jobs=-1)]: Done 320 out of 320 | elapsed: 20.2min finished\n"
     ]
    },
    {
     "name": "stdout",
     "output_type": "stream",
     "text": [
      "0.9387663518527705\n",
      "DecisionTreeClassifier(ccp_alpha=0.0, class_weight=None, criterion='gini',\n",
      "                       max_depth=12, max_features=None, max_leaf_nodes=20,\n",
      "                       min_impurity_decrease=0.0, min_impurity_split=None,\n",
      "                       min_samples_leaf=20, min_samples_split=2,\n",
      "                       min_weight_fraction_leaf=0.0, presort='deprecated',\n",
      "                       random_state=None, splitter='best')\n",
      "AUC score on train data is 0.8951556599909818\n",
      "AUC score on test data is 0.8670006761814392\n",
      "Best max_depth value is 15\n",
      "Best min_samples_leaf value is 22\n",
      "Best max_leaf_nodes value is 15\n"
     ]
    }
   ],
   "source": [
    "# Model building using Decision tree\n",
    "\n",
    "from sklearn.tree import DecisionTreeClassifier\n",
    "\n",
    "best_est_dt_ub = []\n",
    "best_score_dt_ub = []\n",
    "\n",
    "for k_dt_ub in cv_num:\n",
    "    sk_dt_ub = model_selection.StratifiedKFold(n_splits=k_dt_ub)\n",
    "    for train_ind, test_ind in sk_dt_ub.split(X_train, y_train):\n",
    "        X_train_cv, X_test_cv = X_train_pt[train_ind], X_train_pt[test_ind] \n",
    "        y_train_cv, y_test_cv = np.array(y_train)[train_ind], np.array(y_train)[test_ind]\n",
    "    dt_ub = DecisionTreeClassifier()\n",
    "    params_dt_ub = {'max_depth' : [10, 12, 15, 17],\n",
    "          'min_samples_leaf' : [15, 20, 22, 25],\n",
    "          'max_leaf_nodes' : [10, 15, 20, 25]\n",
    "          }\n",
    "    gs_dt_ub = model_selection.GridSearchCV(dt_ub, \n",
    "                                            param_grid=params_dt_ub, \n",
    "                                            scoring='roc_auc', \n",
    "                                            n_jobs=-1, \n",
    "                                            cv=sk_dt_ub, \n",
    "                                            verbose=1)\n",
    "    gs_dt_ub.fit(X_train_cv, y_train_cv)\n",
    "    print(gs_dt_ub.best_score_)\n",
    "    print(gs_dt_ub.best_estimator_)\n",
    "    best_score_dt_ub.append(gs_dt_ub.best_score_)\n",
    "    best_est_dt_ub.append(gs_dt_ub.best_estimator_)\n",
    "    \n",
    "dt_best_ub = best_est_dt_ub[best_score_dt_ub.index(max(best_score_dt_ub))] # Getting the best estimator\n",
    "dt_best_ub.fit(X_train_cv, y_train_cv) # fit using best estimator\n",
    "\n",
    "#print the evaluation result by choosing a evaluation metric\n",
    "\n",
    "print(\"AUC score on train data is {}\".format(metrics.roc_auc_score(y_train_cv, dt_best_ub.predict(X_train_cv))))\n",
    "print(\"AUC score on test data is {}\".format(metrics.roc_auc_score(y_test_cv, dt_best_ub.predict(X_test_cv))))\n",
    "best_scr_ub.append(metrics.roc_auc_score(y_test_cv, dt_best_ub.predict(X_test_cv)))\n",
    "best_est_ub.append(dt_best_ub)\n",
    "\n",
    "#print the optimum value of hyperparameters\n",
    "\n",
    "print('Best max_depth value is {}'.format(dt_best_ub.get_params()['max_depth']))\n",
    "print('Best min_samples_leaf value is {}'.format(dt_best_ub.get_params()['min_samples_leaf']))\n",
    "print('Best max_leaf_nodes value is {}'.format(dt_best_ub.get_params()['max_leaf_nodes']))"
   ]
  },
  {
   "cell_type": "markdown",
   "metadata": {
    "id": "cpDnUfNcz-6g"
   },
   "source": [
    "#### Proceed with the model which shows the best result \n",
    "- Apply the best hyperparameter on the model\n",
    "- Predict on the test dataset"
   ]
  },
  {
   "cell_type": "code",
   "execution_count": 21,
   "metadata": {
    "colab": {
     "base_uri": "https://localhost:8080/"
    },
    "executionInfo": {
     "elapsed": 7259676,
     "status": "ok",
     "timestamp": 1609741503772,
     "user": {
      "displayName": "nagarjuna reddy",
      "photoUrl": "https://lh6.googleusercontent.com/-0UEvu1DIQbM/AAAAAAAAAAI/AAAAAAAAE-Q/tTeeTJXIjog/s64/photo.jpg",
      "userId": "04925622570529180373"
     },
     "user_tz": -330
    },
    "id": "5jLAdjPrz-6g",
    "outputId": "5fdd5173-230d-4744-fed6-19498514377f"
   },
   "outputs": [
    {
     "name": "stderr",
     "output_type": "stream",
     "text": [
      "[Parallel(n_jobs=-1)]: Using backend ThreadingBackend with 2 concurrent workers.\n",
      "[Parallel(n_jobs=-1)]: Done  15 out of  15 | elapsed:   19.5s finished\n",
      "[Parallel(n_jobs=2)]: Using backend ThreadingBackend with 2 concurrent workers.\n",
      "[Parallel(n_jobs=2)]: Done  15 out of  15 | elapsed:    0.1s finished\n"
     ]
    },
    {
     "name": "stdout",
     "output_type": "stream",
     "text": [
      "AUC score on X_test data is 0.8774542984047867\n"
     ]
    }
   ],
   "source": [
    "clf = best_est_ub[best_scr_ub.index(max(best_scr_ub))]  #initialise the model with optimum hyperparameters\n",
    "clf.fit(X_train, y_train) # fit the train data with optimum hyperparameters\n",
    "print(\"AUC score on X_test data is {}\".format(metrics.roc_auc_score(y_test, clf.predict(X_test))))"
   ]
  },
  {
   "cell_type": "markdown",
   "metadata": {
    "id": "7LnDVJCBz-6g"
   },
   "source": [
    "### Print the important features of the best model to understand the dataset\n",
    "- This will not give much explanation on the already transformed dataset\n",
    "- But it will help us in understanding if the dataset is not PCA transformed"
   ]
  },
  {
   "cell_type": "code",
   "execution_count": 22,
   "metadata": {
    "colab": {
     "base_uri": "https://localhost:8080/",
     "height": 915
    },
    "executionInfo": {
     "elapsed": 7352699,
     "status": "ok",
     "timestamp": 1609731400134,
     "user": {
      "displayName": "nagarjuna reddy",
      "photoUrl": "https://lh6.googleusercontent.com/-0UEvu1DIQbM/AAAAAAAAAAI/AAAAAAAAE-Q/tTeeTJXIjog/s64/photo.jpg",
      "userId": "04925622570529180373"
     },
     "user_tz": -330
    },
    "id": "q-vl7b4yz-6g",
    "outputId": "6348aff8-f22f-4d4f-9ce0-5a462f3e9337"
   },
   "outputs": [
    {
     "name": "stdout",
     "output_type": "stream",
     "text": [
      "Top var = 14\n",
      "2nd Top var = 17\n",
      "3rd Top var = 12\n"
     ]
    },
    {
     "data": {
      "text/plain": [
       "<matplotlib.legend.Legend at 0x7feca2d60518>"
      ]
     },
     "execution_count": 22,
     "metadata": {
      "tags": []
     },
     "output_type": "execute_result"
    },
    {
     "data": {
      "image/png": "[encoded data removed]",
      "text/plain": [
       "<Figure size 1440x1440 with 1 Axes>"
      ]
     },
     "metadata": {
      "needs_background": "light",
      "tags": []
     },
     "output_type": "display_data"
    }
   ],
   "source": [
    "var_imp = []\n",
    "for i in clf.feature_importances_:\n",
    "    var_imp.append(i)\n",
    "print('Top var =', var_imp.index(np.sort(clf.feature_importances_)[-1])+1)\n",
    "print('2nd Top var =', var_imp.index(np.sort(clf.feature_importances_)[-2])+1)\n",
    "print('3rd Top var =', var_imp.index(np.sort(clf.feature_importances_)[-3])+1)\n",
    "\n",
    "# Variable on Index-16 and Index-13 seems to be the top 2 variables\n",
    "top_var_index = var_imp.index(np.sort(clf.feature_importances_)[-1])\n",
    "second_top_var_index = var_imp.index(np.sort(clf.feature_importances_)[-2])\n",
    "\n",
    "X_train_1 = X_train.to_numpy()[np.where(y_train==1.0)]\n",
    "X_train_0 = X_train.to_numpy()[np.where(y_train==0.0)]\n",
    "\n",
    "np.random.shuffle(X_train_0)\n",
    "\n",
    "import matplotlib.pyplot as plt\n",
    "%matplotlib inline\n",
    "plt.rcParams['figure.figsize'] = [20, 20]\n",
    "\n",
    "plt.scatter(X_train_1[:, top_var_index], X_train_1[:, second_top_var_index], label='Actual Class-1 Examples')\n",
    "plt.scatter(X_train_0[:X_train_1.shape[0], top_var_index], X_train_0[:X_train_1.shape[0], second_top_var_index],\n",
    "            label='Actual Class-0 Examples')\n",
    "plt.legend()"
   ]
  },
  {
   "cell_type": "markdown",
   "metadata": {
    "id": "7pzJ5A_uz-6h"
   },
   "source": [
    "## Model building with balancing Classes\n",
    "\n",
    "##### Perform class balancing with :\n",
    "- Random Oversampling\n",
    "- SMOTE\n",
    "- ADASYN"
   ]
  },
  {
   "cell_type": "markdown",
   "metadata": {
    "id": "2xFt8GbIz-6h"
   },
   "source": [
    "## Model Building\n",
    "- Build different models on the balanced dataset and see the result"
   ]
  },
  {
   "cell_type": "code",
   "execution_count": 19,
   "metadata": {
    "executionInfo": {
     "elapsed": 1241,
     "status": "ok",
     "timestamp": 1609744824881,
     "user": {
      "displayName": "nagarjuna reddy",
      "photoUrl": "https://lh6.googleusercontent.com/-0UEvu1DIQbM/AAAAAAAAAAI/AAAAAAAAE-Q/tTeeTJXIjog/s64/photo.jpg",
      "userId": "04925622570529180373"
     },
     "user_tz": -330
    },
    "id": "9BBqehXBz-6h"
   },
   "outputs": [],
   "source": [
    "# Logistic Regression\n",
    "\n",
    "from sklearn import linear_model #import the package\n",
    "\n",
    "num_C = [4, 6, 8, 10, 12]  #--> list of values\n",
    "cv_num = [3, 4, 5]  #--> list of values"
   ]
  },
  {
   "cell_type": "markdown",
   "metadata": {
    "id": "AIcFNO9rz-6h"
   },
   "source": [
    "#### perfom cross validation on the X_train & y_train to create:\n",
    "- X_train_cv\n",
    "- X_test_cv \n",
    "- y_train_cv\n",
    "- y_test_cv "
   ]
  },
  {
   "cell_type": "markdown",
   "metadata": {
    "id": "KnhksKFRz-6i"
   },
   "source": [
    "### Random Oversampling"
   ]
  },
  {
   "cell_type": "code",
   "execution_count": 20,
   "metadata": {
    "colab": {
     "base_uri": "https://localhost:8080/"
    },
    "executionInfo": {
     "elapsed": 102494,
     "status": "ok",
     "timestamp": 1609744926963,
     "user": {
      "displayName": "nagarjuna reddy",
      "photoUrl": "https://lh6.googleusercontent.com/-0UEvu1DIQbM/AAAAAAAAAAI/AAAAAAAAE-Q/tTeeTJXIjog/s64/photo.jpg",
      "userId": "04925622570529180373"
     },
     "user_tz": -330
    },
    "id": "_uJRaQP6z-6i",
    "outputId": "bc0b2656-0ec8-412a-a68e-fa98c6b52ee7",
    "scrolled": false
   },
   "outputs": [
    {
     "name": "stdout",
     "output_type": "stream",
     "text": [
      "Fitting 3 folds for each of 10 candidates, totalling 30 fits\n"
     ]
    },
    {
     "name": "stderr",
     "output_type": "stream",
     "text": [
      "[Parallel(n_jobs=-1)]: Using backend LokyBackend with 2 concurrent workers.\n",
      "[Parallel(n_jobs=-1)]: Done  30 out of  30 | elapsed:   15.4s finished\n",
      "[Parallel(n_jobs=-1)]: Using backend LokyBackend with 2 concurrent workers.\n",
      "[Parallel(n_jobs=-1)]: Done   1 out of   1 | elapsed:    5.4s finished\n"
     ]
    },
    {
     "name": "stdout",
     "output_type": "stream",
     "text": [
      "0.9854275877587387\n",
      "LogisticRegression(C=10, class_weight=None, dual=False, fit_intercept=True,\n",
      "                   intercept_scaling=1, l1_ratio=None, max_iter=100,\n",
      "                   multi_class='auto', n_jobs=-1, penalty='l2', random_state=42,\n",
      "                   solver='lbfgs', tol=0.0001, verbose=1, warm_start=False)\n",
      "Fitting 4 folds for each of 10 candidates, totalling 40 fits\n"
     ]
    },
    {
     "name": "stderr",
     "output_type": "stream",
     "text": [
      "[Parallel(n_jobs=-1)]: Using backend LokyBackend with 2 concurrent workers.\n",
      "[Parallel(n_jobs=-1)]: Done  40 out of  40 | elapsed:   24.0s finished\n",
      "[Parallel(n_jobs=-1)]: Using backend LokyBackend with 2 concurrent workers.\n",
      "[Parallel(n_jobs=-1)]: Done   1 out of   1 | elapsed:    6.3s finished\n"
     ]
    },
    {
     "name": "stdout",
     "output_type": "stream",
     "text": [
      "0.9870128878553597\n",
      "LogisticRegression(C=12, class_weight=None, dual=False, fit_intercept=True,\n",
      "                   intercept_scaling=1, l1_ratio=None, max_iter=100,\n",
      "                   multi_class='auto', n_jobs=-1, penalty='l2', random_state=42,\n",
      "                   solver='lbfgs', tol=0.0001, verbose=1, warm_start=False)\n",
      "Fitting 5 folds for each of 10 candidates, totalling 50 fits\n"
     ]
    },
    {
     "name": "stderr",
     "output_type": "stream",
     "text": [
      "[Parallel(n_jobs=-1)]: Using backend LokyBackend with 2 concurrent workers.\n",
      "[Parallel(n_jobs=-1)]: Done  50 out of  50 | elapsed:   34.1s finished\n",
      "[Parallel(n_jobs=-1)]: Using backend LokyBackend with 2 concurrent workers.\n",
      "[Parallel(n_jobs=-1)]: Done   1 out of   1 | elapsed:    7.0s finished\n",
      "[Parallel(n_jobs=-1)]: Using backend LokyBackend with 2 concurrent workers.\n"
     ]
    },
    {
     "name": "stdout",
     "output_type": "stream",
     "text": [
      "0.9869991914684653\n",
      "LogisticRegression(C=12, class_weight=None, dual=False, fit_intercept=True,\n",
      "                   intercept_scaling=1, l1_ratio=None, max_iter=100,\n",
      "                   multi_class='auto', n_jobs=-1, penalty='l2', random_state=42,\n",
      "                   solver='lbfgs', tol=0.0001, verbose=1, warm_start=False)\n"
     ]
    },
    {
     "name": "stderr",
     "output_type": "stream",
     "text": [
      "[Parallel(n_jobs=-1)]: Done   1 out of   1 | elapsed:    7.1s finished\n"
     ]
    },
    {
     "name": "stdout",
     "output_type": "stream",
     "text": [
      "AUC score on train data is 0.9504783992174148\n",
      "AUC score on test data is 0.9487696558709523\n",
      "Best C value is 12\n"
     ]
    }
   ],
   "source": [
    "from imblearn import over_sampling #- import the packages\n",
    "\n",
    "#perform cross validation & then balance classes on X_train_cv & y_train_cv using Random Oversampling\n",
    "\n",
    "#perform hyperparameter tuning\n",
    "\n",
    "best_scr_bal = []\n",
    "best_est_bal = {}\n",
    "\n",
    "best_est_lr_ro = []\n",
    "best_score_lr_ro = []\n",
    "for k_lr_ro in cv_num:\n",
    "    sk_lr_ro = model_selection.StratifiedKFold(n_splits=k_lr_ro)\n",
    "    for train_ind, test_ind in sk_lr_ro.split(X_train, y_train):\n",
    "        X_train_cv, X_test_cv = X_train_pt[train_ind], X_train_pt[test_ind] \n",
    "        y_train_cv, y_test_cv = np.array(y_train)[train_ind], np.array(y_train)[test_ind]\n",
    "    ros =  over_sampling.RandomOverSampler()\n",
    "    X_train_cv, y_train_cv = ros.fit_resample(X_train_cv, y_train_cv)\n",
    "    log_re_ro = linear_model.LogisticRegression(n_jobs=-1, random_state=42, verbose=1)\n",
    "    params_lr_ro = {'penalty' : ['l1', 'l2'], \n",
    "              'C' : num_C}\n",
    "    gs_Log_ro = model_selection.GridSearchCV(log_re_ro, \n",
    "                                             param_grid=params_lr_ro, \n",
    "                                             scoring='roc_auc', \n",
    "                                             n_jobs=-1, \n",
    "                                             cv=sk_lr_ro, \n",
    "                                             verbose=1)\n",
    "    gs_Log_ro.fit(X_train_cv, y_train_cv)\n",
    "    print(gs_Log_ro.best_score_)\n",
    "    print(gs_Log_ro.best_estimator_)\n",
    "    best_score_lr_ro.append(gs_Log_ro.best_score_)\n",
    "    best_est_lr_ro.append(gs_Log_ro.best_estimator_)\n",
    "    \n",
    "lr_best_ro = best_est_lr_ro[best_score_lr_ro.index(max(best_score_lr_ro))] # Getting the best estimator\n",
    "lr_best_ro.fit(X_train_cv, y_train_cv) # fit using best estimator\n",
    "\n",
    "#print the evaluation result by choosing a evaluation metric\n",
    "\n",
    "print(\"AUC score on train data is {}\".format(metrics.roc_auc_score(y_train_cv, lr_best_ro.predict(X_train_cv))))\n",
    "print(\"AUC score on test data is {}\".format(metrics.roc_auc_score(y_test_cv, lr_best_ro.predict(X_test_cv))))\n",
    "best_scr_bal.append(metrics.roc_auc_score(y_test_cv, lr_best_ro.predict(X_test_cv)))\n",
    "best_est_bal['lr_best_ro'] = lr_best_ro\n",
    "\n",
    "#print the optimum value of hyperparameters\n",
    "\n",
    "print('Best C value is {}'.format(lr_best_ro.get_params()['C']))"
   ]
  },
  {
   "cell_type": "markdown",
   "metadata": {
    "id": "yGfsAChXz-6i"
   },
   "source": [
    "### Similarly explore other algorithms on balanced dataset by building models like:\n",
    "- KNN\n",
    "- SVM\n",
    "- Decision Tree\n",
    "- Random Forest\n",
    "- XGBoost"
   ]
  },
  {
   "cell_type": "code",
   "execution_count": 21,
   "metadata": {
    "colab": {
     "base_uri": "https://localhost:8080/"
    },
    "executionInfo": {
     "elapsed": 4018537,
     "status": "ok",
     "timestamp": 1609748843573,
     "user": {
      "displayName": "nagarjuna reddy",
      "photoUrl": "https://lh6.googleusercontent.com/-0UEvu1DIQbM/AAAAAAAAAAI/AAAAAAAAE-Q/tTeeTJXIjog/s64/photo.jpg",
      "userId": "04925622570529180373"
     },
     "user_tz": -330
    },
    "id": "eygOKRf-cMfR",
    "outputId": "89d0cfb4-3e2c-4028-8ce9-e8b91beff1f3"
   },
   "outputs": [
    {
     "name": "stdout",
     "output_type": "stream",
     "text": [
      "Fitting 3 folds for each of 36 candidates, totalling 108 fits\n"
     ]
    },
    {
     "name": "stderr",
     "output_type": "stream",
     "text": [
      "[Parallel(n_jobs=-1)]: Using backend LokyBackend with 2 concurrent workers.\n",
      "[Parallel(n_jobs=-1)]: Done  46 tasks      | elapsed:  4.1min\n",
      "[Parallel(n_jobs=-1)]: Done 108 out of 108 | elapsed: 12.3min finished\n",
      "[Parallel(n_jobs=-1)]: Using backend ThreadingBackend with 2 concurrent workers.\n",
      "[Parallel(n_jobs=-1)]: Done  30 out of  30 | elapsed:   17.7s finished\n"
     ]
    },
    {
     "name": "stdout",
     "output_type": "stream",
     "text": [
      "0.9972124204105186\n",
      "RandomForestClassifier(bootstrap=True, ccp_alpha=0.0, class_weight=None,\n",
      "                       criterion='gini', max_depth=9, max_features='auto',\n",
      "                       max_leaf_nodes=20, max_samples=None,\n",
      "                       min_impurity_decrease=0.0, min_impurity_split=None,\n",
      "                       min_samples_leaf=1, min_samples_split=2,\n",
      "                       min_weight_fraction_leaf=0.0, n_estimators=30, n_jobs=-1,\n",
      "                       oob_score=False, random_state=42, verbose=1,\n",
      "                       warm_start=False)\n",
      "Fitting 4 folds for each of 36 candidates, totalling 144 fits\n"
     ]
    },
    {
     "name": "stderr",
     "output_type": "stream",
     "text": [
      "[Parallel(n_jobs=-1)]: Using backend LokyBackend with 2 concurrent workers.\n",
      "[Parallel(n_jobs=-1)]: Done  46 tasks      | elapsed:  4.6min\n",
      "[Parallel(n_jobs=-1)]: Done 144 out of 144 | elapsed: 21.0min finished\n",
      "[Parallel(n_jobs=-1)]: Using backend ThreadingBackend with 2 concurrent workers.\n",
      "[Parallel(n_jobs=-1)]: Done  30 out of  30 | elapsed:   20.4s finished\n"
     ]
    },
    {
     "name": "stdout",
     "output_type": "stream",
     "text": [
      "0.9973026095627888\n",
      "RandomForestClassifier(bootstrap=True, ccp_alpha=0.0, class_weight=None,\n",
      "                       criterion='gini', max_depth=9, max_features='auto',\n",
      "                       max_leaf_nodes=20, max_samples=None,\n",
      "                       min_impurity_decrease=0.0, min_impurity_split=None,\n",
      "                       min_samples_leaf=1, min_samples_split=2,\n",
      "                       min_weight_fraction_leaf=0.0, n_estimators=30, n_jobs=-1,\n",
      "                       oob_score=False, random_state=42, verbose=1,\n",
      "                       warm_start=False)\n",
      "Fitting 5 folds for each of 36 candidates, totalling 180 fits\n"
     ]
    },
    {
     "name": "stderr",
     "output_type": "stream",
     "text": [
      "[Parallel(n_jobs=-1)]: Using backend LokyBackend with 2 concurrent workers.\n",
      "[Parallel(n_jobs=-1)]: Done  46 tasks      | elapsed:  5.3min\n",
      "[Parallel(n_jobs=-1)]: Done 180 out of 180 | elapsed: 30.6min finished\n",
      "[Parallel(n_jobs=-1)]: Using backend ThreadingBackend with 2 concurrent workers.\n",
      "[Parallel(n_jobs=-1)]: Done  30 out of  30 | elapsed:   21.6s finished\n",
      "[Parallel(n_jobs=-1)]: Using backend ThreadingBackend with 2 concurrent workers.\n"
     ]
    },
    {
     "name": "stdout",
     "output_type": "stream",
     "text": [
      "0.9972548358706639\n",
      "RandomForestClassifier(bootstrap=True, ccp_alpha=0.0, class_weight=None,\n",
      "                       criterion='gini', max_depth=9, max_features='auto',\n",
      "                       max_leaf_nodes=20, max_samples=None,\n",
      "                       min_impurity_decrease=0.0, min_impurity_split=None,\n",
      "                       min_samples_leaf=1, min_samples_split=2,\n",
      "                       min_weight_fraction_leaf=0.0, n_estimators=30, n_jobs=-1,\n",
      "                       oob_score=False, random_state=42, verbose=1,\n",
      "                       warm_start=False)\n"
     ]
    },
    {
     "name": "stderr",
     "output_type": "stream",
     "text": [
      "[Parallel(n_jobs=-1)]: Done  30 out of  30 | elapsed:   21.6s finished\n",
      "[Parallel(n_jobs=2)]: Using backend ThreadingBackend with 2 concurrent workers.\n",
      "[Parallel(n_jobs=2)]: Done  30 out of  30 | elapsed:    0.4s finished\n",
      "[Parallel(n_jobs=2)]: Using backend ThreadingBackend with 2 concurrent workers.\n"
     ]
    },
    {
     "name": "stdout",
     "output_type": "stream",
     "text": [
      "AUC score on train data is 0.9697462643093848\n",
      "AUC score on test data is 0.9334553984600872\n",
      "Best n_estimators value is 30\n",
      "Best max_depth value is 9\n",
      "Best max_leaf_nodes value is 20\n"
     ]
    },
    {
     "name": "stderr",
     "output_type": "stream",
     "text": [
      "[Parallel(n_jobs=2)]: Done  30 out of  30 | elapsed:    0.1s finished\n",
      "[Parallel(n_jobs=2)]: Using backend ThreadingBackend with 2 concurrent workers.\n",
      "[Parallel(n_jobs=2)]: Done  30 out of  30 | elapsed:    0.1s finished\n"
     ]
    }
   ],
   "source": [
    "# Model building using RandomForest\n",
    "\n",
    "from sklearn.ensemble import RandomForestClassifier\n",
    "\n",
    "best_est_rf_ro = []\n",
    "best_score_rf_ro = []\n",
    "\n",
    "for k_rf_ro in cv_num:\n",
    "    sk_rf_ro = model_selection.StratifiedKFold(n_splits=k_rf_ro)\n",
    "    for train_ind, test_ind in sk_rf_ro.split(X_train, y_train):\n",
    "        X_train_cv, X_test_cv = X_train_pt[train_ind], X_train_pt[test_ind] \n",
    "        y_train_cv, y_test_cv = np.array(y_train)[train_ind], np.array(y_train)[test_ind]\n",
    "    ros =  over_sampling.RandomOverSampler()\n",
    "    X_train_cv, y_train_cv = ros.fit_resample(X_train_cv, y_train_cv)\n",
    "    rf_ro = RandomForestClassifier(n_jobs=-1, random_state=42, verbose=1)\n",
    "    params_rf_ro = {'n_estimators' : [15, 20, 25, 30],\n",
    "          'max_depth' : [3, 7, 9],\n",
    "          'max_leaf_nodes' : [10, 15, 20]\n",
    "          }\n",
    "    gs_rf_ro = model_selection.GridSearchCV(rf_ro, \n",
    "                                            param_grid=params_rf_ro, \n",
    "                                            scoring='roc_auc', \n",
    "                                            n_jobs=-1, \n",
    "                                            cv=sk_rf_ro, \n",
    "                                            verbose=1)\n",
    "    gs_rf_ro.fit(X_train_cv, y_train_cv)\n",
    "    print(gs_rf_ro.best_score_)\n",
    "    print(gs_rf_ro.best_estimator_)\n",
    "    best_score_rf_ro.append(gs_rf_ro.best_score_)\n",
    "    best_est_rf_ro.append(gs_rf_ro.best_estimator_)\n",
    "\n",
    "rf_best_ro = best_est_rf_ro[best_score_rf_ro.index(max(best_score_rf_ro))] # Getting the best estimator\n",
    "rf_best_ro.fit(X_train_cv, y_train_cv) # fit using best estimator\n",
    "\n",
    "#print the evaluation result by choosing a evaluation metric\n",
    "\n",
    "print(\"AUC score on train data is {}\".format(metrics.roc_auc_score(y_train_cv, rf_best_ro.predict(X_train_cv))))\n",
    "print(\"AUC score on test data is {}\".format(metrics.roc_auc_score(y_test_cv, rf_best_ro.predict(X_test_cv))))\n",
    "best_scr_bal.append(metrics.roc_auc_score(y_test_cv, rf_best_ro.predict(X_test_cv)))\n",
    "best_est_bal['rf_best_ro'] = rf_best_ro\n",
    "\n",
    "#print the optimum value of hyperparameters\n",
    "\n",
    "print('Best n_estimators value is {}'.format(rf_best_ro.get_params()['n_estimators']))\n",
    "print('Best max_depth value is {}'.format(rf_best_ro.get_params()['max_depth']))\n",
    "print('Best max_leaf_nodes value is {}'.format(rf_best_ro.get_params()['max_leaf_nodes']))"
   ]
  },
  {
   "cell_type": "code",
   "execution_count": 22,
   "metadata": {
    "colab": {
     "base_uri": "https://localhost:8080/"
    },
    "executionInfo": {
     "elapsed": 6671311,
     "status": "ok",
     "timestamp": 1609751496583,
     "user": {
      "displayName": "nagarjuna reddy",
      "photoUrl": "https://lh6.googleusercontent.com/-0UEvu1DIQbM/AAAAAAAAAAI/AAAAAAAAE-Q/tTeeTJXIjog/s64/photo.jpg",
      "userId": "04925622570529180373"
     },
     "user_tz": -330
    },
    "id": "DTzARwkrcMfS",
    "outputId": "6eb0985c-a740-49e1-e1f8-3ab5436601a7"
   },
   "outputs": [
    {
     "name": "stdout",
     "output_type": "stream",
     "text": [
      "Fitting 3 folds for each of 64 candidates, totalling 192 fits\n"
     ]
    },
    {
     "name": "stderr",
     "output_type": "stream",
     "text": [
      "[Parallel(n_jobs=-1)]: Using backend LokyBackend with 2 concurrent workers.\n",
      "[Parallel(n_jobs=-1)]: Done  46 tasks      | elapsed:  2.2min\n",
      "[Parallel(n_jobs=-1)]: Done 192 out of 192 | elapsed:  9.0min finished\n"
     ]
    },
    {
     "name": "stdout",
     "output_type": "stream",
     "text": [
      "0.9932712668778017\n",
      "DecisionTreeClassifier(ccp_alpha=0.0, class_weight=None, criterion='gini',\n",
      "                       max_depth=15, max_features=None, max_leaf_nodes=25,\n",
      "                       min_impurity_decrease=0.0, min_impurity_split=None,\n",
      "                       min_samples_leaf=25, min_samples_split=2,\n",
      "                       min_weight_fraction_leaf=0.0, presort='deprecated',\n",
      "                       random_state=None, splitter='best')\n",
      "Fitting 4 folds for each of 64 candidates, totalling 256 fits\n"
     ]
    },
    {
     "name": "stderr",
     "output_type": "stream",
     "text": [
      "[Parallel(n_jobs=-1)]: Using backend LokyBackend with 2 concurrent workers.\n",
      "[Parallel(n_jobs=-1)]: Done  46 tasks      | elapsed:  2.4min\n",
      "[Parallel(n_jobs=-1)]: Done 196 tasks      | elapsed: 10.6min\n",
      "[Parallel(n_jobs=-1)]: Done 256 out of 256 | elapsed: 13.9min finished\n"
     ]
    },
    {
     "name": "stdout",
     "output_type": "stream",
     "text": [
      "0.9925729836236484\n",
      "DecisionTreeClassifier(ccp_alpha=0.0, class_weight=None, criterion='gini',\n",
      "                       max_depth=15, max_features=None, max_leaf_nodes=25,\n",
      "                       min_impurity_decrease=0.0, min_impurity_split=None,\n",
      "                       min_samples_leaf=15, min_samples_split=2,\n",
      "                       min_weight_fraction_leaf=0.0, presort='deprecated',\n",
      "                       random_state=None, splitter='best')\n",
      "Fitting 5 folds for each of 64 candidates, totalling 320 fits\n"
     ]
    },
    {
     "name": "stderr",
     "output_type": "stream",
     "text": [
      "[Parallel(n_jobs=-1)]: Using backend LokyBackend with 2 concurrent workers.\n",
      "[Parallel(n_jobs=-1)]: Done  46 tasks      | elapsed:  2.9min\n",
      "[Parallel(n_jobs=-1)]: Done 196 tasks      | elapsed: 12.6min\n",
      "[Parallel(n_jobs=-1)]: Done 320 out of 320 | elapsed: 20.7min finished\n"
     ]
    },
    {
     "name": "stdout",
     "output_type": "stream",
     "text": [
      "0.9920761579129133\n",
      "DecisionTreeClassifier(ccp_alpha=0.0, class_weight=None, criterion='gini',\n",
      "                       max_depth=15, max_features=None, max_leaf_nodes=25,\n",
      "                       min_impurity_decrease=0.0, min_impurity_split=None,\n",
      "                       min_samples_leaf=15, min_samples_split=2,\n",
      "                       min_weight_fraction_leaf=0.0, presort='deprecated',\n",
      "                       random_state=None, splitter='best')\n",
      "AUC score on train data is 0.9828397293925621\n",
      "AUC score on test data is 0.9274320966355103\n",
      "Best max_depth value is 15\n",
      "Best min_samples_leaf value is 25\n",
      "Best max_leaf_nodes value is 25\n"
     ]
    }
   ],
   "source": [
    "# Model building using Decision tree\n",
    "\n",
    "from sklearn.tree import DecisionTreeClassifier\n",
    "\n",
    "best_est_dt_ro = []\n",
    "best_score_dt_ro = []\n",
    "\n",
    "for k_dt_ro in cv_num:\n",
    "    sk_dt_ro = model_selection.StratifiedKFold(n_splits=k_dt_ro)\n",
    "    for train_ind, test_ind in sk_dt_ro.split(X_train, y_train):\n",
    "        X_train_cv, X_test_cv = X_train_pt[train_ind], X_train_pt[test_ind] \n",
    "        y_train_cv, y_test_cv = np.array(y_train)[train_ind], np.array(y_train)[test_ind]\n",
    "    ros =  over_sampling.RandomOverSampler()\n",
    "    X_train_cv, y_train_cv = ros.fit_resample(X_train_cv, y_train_cv)\n",
    "    dt_ro = DecisionTreeClassifier()\n",
    "    params_dt_ro = {'max_depth' : [15, 17, 21, 25],\n",
    "          'min_samples_leaf' : [15, 20, 22, 25],\n",
    "          'max_leaf_nodes' : [10, 15, 20, 25]\n",
    "          }\n",
    "    gs_dt_ro = model_selection.GridSearchCV(dt_ro, \n",
    "                                            param_grid=params_dt_ro, \n",
    "                                            scoring='roc_auc', \n",
    "                                            n_jobs=-1, \n",
    "                                            cv=sk_dt_ro, \n",
    "                                            verbose=1)\n",
    "    gs_dt_ro.fit(X_train_cv, y_train_cv)\n",
    "    print(gs_dt_ro.best_score_)\n",
    "    print(gs_dt_ro.best_estimator_)\n",
    "    best_score_dt_ro.append(gs_dt_ro.best_score_)\n",
    "    best_est_dt_ro.append(gs_dt_ro.best_estimator_)\n",
    "    \n",
    "dt_best_ro = best_est_dt_ro[best_score_dt_ro.index(max(best_score_dt_ro))] # Getting the best estimator\n",
    "dt_best_ro.fit(X_train_cv, y_train_cv) # fit using best estimator\n",
    "\n",
    "#print the evaluation result by choosing a evaluation metric\n",
    "\n",
    "print(\"AUC score on train data is {}\".format(metrics.roc_auc_score(y_train_cv, dt_best_ro.predict(X_train_cv))))\n",
    "print(\"AUC score on test data is {}\".format(metrics.roc_auc_score(y_test_cv, dt_best_ro.predict(X_test_cv))))\n",
    "best_scr_bal.append(metrics.roc_auc_score(y_test_cv, dt_best_ro.predict(X_test_cv)))\n",
    "best_est_bal['dt_best_ro'] = dt_best_ro\n",
    "\n",
    "#print the optimum value of hyperparameters\n",
    "\n",
    "print('Best max_depth value is {}'.format(dt_best_ro.get_params()['max_depth']))\n",
    "print('Best min_samples_leaf value is {}'.format(dt_best_ro.get_params()['min_samples_leaf']))\n",
    "print('Best max_leaf_nodes value is {}'.format(dt_best_ro.get_params()['max_leaf_nodes']))"
   ]
  },
  {
   "cell_type": "markdown",
   "metadata": {
    "id": "b9Z8np3Oz-6i"
   },
   "source": [
    "### Print the class distribution after applying SMOTE "
   ]
  },
  {
   "cell_type": "code",
   "execution_count": 23,
   "metadata": {
    "colab": {
     "base_uri": "https://localhost:8080/",
     "height": 1000
    },
    "executionInfo": {
     "elapsed": 6674015,
     "status": "ok",
     "timestamp": 1609751499755,
     "user": {
      "displayName": "nagarjuna reddy",
      "photoUrl": "https://lh6.googleusercontent.com/-0UEvu1DIQbM/AAAAAAAAAAI/AAAAAAAAE-Q/tTeeTJXIjog/s64/photo.jpg",
      "userId": "04925622570529180373"
     },
     "user_tz": -330
    },
    "id": "AT84TRLKz-6j",
    "outputId": "c7b88698-0b64-4e8d-8e8b-3aa8594fbe97"
   },
   "outputs": [
    {
     "data": {
      "text/plain": [
       "<matplotlib.legend.Legend at 0x7f09d41d9e10>"
      ]
     },
     "execution_count": 23,
     "metadata": {
      "tags": []
     },
     "output_type": "execute_result"
    },
    {
     "data": {
      "image/png": "[encoded data removed]",
      "text/plain": [
       "<Figure size 1440x1440 with 3 Axes>"
      ]
     },
     "metadata": {
      "needs_background": "light",
      "tags": []
     },
     "output_type": "display_data"
    }
   ],
   "source": [
    "import warnings\n",
    "warnings.filterwarnings(\"ignore\")\n",
    "\n",
    "\n",
    "sm = over_sampling.SMOTE(random_state=0)\n",
    "X_train_smote, y_train_smote = sm.fit_resample(X_train, y_train)\n",
    "# Artificial minority samples and corresponding minority labels from SMOTE are appended\n",
    "# below X_train and y_train respectively\n",
    "# So to exclusively get the artificial minority samples from SMOTE, we do\n",
    "X_train_smote_1 = X_train_smote[X_train.shape[0]:]\n",
    "\n",
    "X_train_1 = X_train.to_numpy()[np.where(y_train==1.0)]\n",
    "X_train_0 = X_train.to_numpy()[np.where(y_train==0.0)]\n",
    "\n",
    "\n",
    "plt.rcParams['figure.figsize'] = [20, 20]\n",
    "fig = plt.figure()\n",
    "\n",
    "plt.subplot(3, 1, 1)\n",
    "plt.scatter(X_train_1[:, 0], X_train_1[:, 1], label='Actual Class-1 Examples')\n",
    "plt.legend()\n",
    "\n",
    "plt.subplot(3, 1, 2)\n",
    "plt.scatter(X_train_1[:, 0], X_train_1[:, 1], label='Actual Class-1 Examples')\n",
    "plt.scatter(X_train_smote_1[:X_train_1.shape[0], 0], X_train_smote_1[:X_train_1.shape[0], 1],\n",
    "            label='Artificial SMOTE Class-1 Examples')\n",
    "plt.legend()\n",
    "\n",
    "plt.subplot(3, 1, 3)\n",
    "plt.scatter(X_train_1[:, 0], X_train_1[:, 1], label='Actual Class-1 Examples')\n",
    "plt.scatter(X_train_0[:X_train_1.shape[0], 0], X_train_0[:X_train_1.shape[0], 1], label='Actual Class-0 Examples')\n",
    "plt.legend()"
   ]
  },
  {
   "cell_type": "code",
   "execution_count": 24,
   "metadata": {
    "colab": {
     "base_uri": "https://localhost:8080/"
    },
    "executionInfo": {
     "elapsed": 6752463,
     "status": "ok",
     "timestamp": 1609751578716,
     "user": {
      "displayName": "nagarjuna reddy",
      "photoUrl": "https://lh6.googleusercontent.com/-0UEvu1DIQbM/AAAAAAAAAAI/AAAAAAAAE-Q/tTeeTJXIjog/s64/photo.jpg",
      "userId": "04925622570529180373"
     },
     "user_tz": -330
    },
    "id": "sn4Aviakz-6j",
    "outputId": "8752d605-e3f4-40f8-ac7e-85b5866f79ee"
   },
   "outputs": [
    {
     "name": "stdout",
     "output_type": "stream",
     "text": [
      "Fitting 3 folds for each of 8 candidates, totalling 24 fits\n"
     ]
    },
    {
     "name": "stderr",
     "output_type": "stream",
     "text": [
      "[Parallel(n_jobs=-1)]: Using backend LokyBackend with 2 concurrent workers.\n",
      "[Parallel(n_jobs=-1)]: Done  24 out of  24 | elapsed:   10.9s finished\n",
      "[Parallel(n_jobs=-1)]: Using backend LokyBackend with 2 concurrent workers.\n",
      "[Parallel(n_jobs=-1)]: Done   1 out of   1 | elapsed:    4.9s finished\n"
     ]
    },
    {
     "name": "stdout",
     "output_type": "stream",
     "text": [
      "0.9886931646305742\n",
      "LogisticRegression(C=16, class_weight=None, dual=False, fit_intercept=True,\n",
      "                   intercept_scaling=1, l1_ratio=None, max_iter=100,\n",
      "                   multi_class='auto', n_jobs=-1, penalty='l2', random_state=42,\n",
      "                   solver='lbfgs', tol=0.0001, verbose=1, warm_start=False)\n",
      "Fitting 4 folds for each of 8 candidates, totalling 32 fits\n"
     ]
    },
    {
     "name": "stderr",
     "output_type": "stream",
     "text": [
      "[Parallel(n_jobs=-1)]: Using backend LokyBackend with 2 concurrent workers.\n",
      "[Parallel(n_jobs=-1)]: Done  32 out of  32 | elapsed:   17.2s finished\n",
      "[Parallel(n_jobs=-1)]: Using backend LokyBackend with 2 concurrent workers.\n",
      "[Parallel(n_jobs=-1)]: Done   1 out of   1 | elapsed:    5.0s finished\n"
     ]
    },
    {
     "name": "stdout",
     "output_type": "stream",
     "text": [
      "0.9897779714622751\n",
      "LogisticRegression(C=16, class_weight=None, dual=False, fit_intercept=True,\n",
      "                   intercept_scaling=1, l1_ratio=None, max_iter=100,\n",
      "                   multi_class='auto', n_jobs=-1, penalty='l2', random_state=42,\n",
      "                   solver='lbfgs', tol=0.0001, verbose=1, warm_start=False)\n",
      "Fitting 5 folds for each of 8 candidates, totalling 40 fits\n"
     ]
    },
    {
     "name": "stderr",
     "output_type": "stream",
     "text": [
      "[Parallel(n_jobs=-1)]: Using backend LokyBackend with 2 concurrent workers.\n",
      "[Parallel(n_jobs=-1)]: Done  40 out of  40 | elapsed:   25.0s finished\n",
      "[Parallel(n_jobs=-1)]: Using backend LokyBackend with 2 concurrent workers.\n",
      "[Parallel(n_jobs=-1)]: Done   1 out of   1 | elapsed:    5.8s finished\n",
      "[Parallel(n_jobs=-1)]: Using backend LokyBackend with 2 concurrent workers.\n"
     ]
    },
    {
     "name": "stdout",
     "output_type": "stream",
     "text": [
      "0.9892826302504595\n",
      "LogisticRegression(C=16, class_weight=None, dual=False, fit_intercept=True,\n",
      "                   intercept_scaling=1, l1_ratio=None, max_iter=100,\n",
      "                   multi_class='auto', n_jobs=-1, penalty='l2', random_state=42,\n",
      "                   solver='lbfgs', tol=0.0001, verbose=1, warm_start=False)\n"
     ]
    },
    {
     "name": "stderr",
     "output_type": "stream",
     "text": [
      "[Parallel(n_jobs=-1)]: Done   1 out of   1 | elapsed:    5.9s finished\n"
     ]
    },
    {
     "name": "stdout",
     "output_type": "stream",
     "text": [
      "AUC score on train data is 0.9465215073559718\n",
      "AUC score on test data is 0.947604564642111\n",
      "Best C value is 16\n"
     ]
    }
   ],
   "source": [
    "#perform cross validation & then balance classes on X_train_cv & y_train_cv using SMOTE\n",
    "\n",
    "#perform hyperparameter tuning\n",
    "\n",
    "num_C = [10, 12, 14, 16]\n",
    "\n",
    "best_est_lr_sm = []\n",
    "best_score_lr_sm = []\n",
    "for k_lr_sm in cv_num:\n",
    "    sk_lr_sm = model_selection.StratifiedKFold(n_splits=k_lr_sm)\n",
    "    for train_ind, test_ind in sk_lr_sm.split(X_train, y_train):\n",
    "        X_train_cv, X_test_cv = X_train_pt[train_ind], X_train_pt[test_ind] \n",
    "        y_train_cv, y_test_cv = np.array(y_train)[train_ind], np.array(y_train)[test_ind]\n",
    "    sm =  over_sampling.SMOTE()\n",
    "    X_train_cv, y_train_cv = sm.fit_resample(X_train_cv, y_train_cv)\n",
    "    log_re_sm = linear_model.LogisticRegression(n_jobs=-1, random_state=42, verbose=1)\n",
    "    params_lr_sm = {'penalty' : ['l1', 'l2'], \n",
    "              'C' : num_C}\n",
    "    gs_Log_sm = model_selection.GridSearchCV(log_re_sm, \n",
    "                                             param_grid=params_lr_sm, \n",
    "                                             scoring='roc_auc', \n",
    "                                             n_jobs=-1, \n",
    "                                             cv=sk_lr_sm, \n",
    "                                             verbose=1)\n",
    "    gs_Log_sm.fit(X_train_cv, y_train_cv)\n",
    "    print(gs_Log_sm.best_score_)\n",
    "    print(gs_Log_sm.best_estimator_)\n",
    "    best_score_lr_sm.append(gs_Log_sm.best_score_)\n",
    "    best_est_lr_sm.append(gs_Log_sm.best_estimator_)\n",
    "    \n",
    "lr_best_sm = best_est_lr_sm[best_score_lr_sm.index(max(best_score_lr_sm))] # Getting the best estimator\n",
    "lr_best_sm.fit(X_train_cv, y_train_cv) # fit using best estimator\n",
    "\n",
    "#print the evaluation result by choosing a evaluation metric\n",
    "\n",
    "print(\"AUC score on train data is {}\".format(metrics.roc_auc_score(y_train_cv, lr_best_sm.predict(X_train_cv))))\n",
    "print(\"AUC score on test data is {}\".format(metrics.roc_auc_score(y_test_cv, lr_best_sm.predict(X_test_cv))))\n",
    "best_scr_bal.append(metrics.roc_auc_score(y_test_cv, lr_best_sm.predict(X_test_cv)))\n",
    "best_est_bal['lr_best_sm'] = lr_best_sm\n",
    "\n",
    "#print the optimum value of hyperparameters\n",
    "\n",
    "print('Best C value is {}'.format(lr_best_sm.get_params()['C']))"
   ]
  },
  {
   "cell_type": "markdown",
   "metadata": {
    "id": "ZPIEdCjCz-6j"
   },
   "source": [
    "##### Build models on other algorithms to see the better performing on SMOTE"
   ]
  },
  {
   "cell_type": "code",
   "execution_count": null,
   "metadata": {
    "colab": {
     "base_uri": "https://localhost:8080/"
    },
    "id": "EmCxhhbbcMfS",
    "outputId": "d23b2c2b-25cd-4028-b3e9-a42b7430245a"
   },
   "outputs": [
    {
     "name": "stdout",
     "output_type": "stream",
     "text": [
      "Fitting 3 folds for each of 36 candidates, totalling 108 fits\n"
     ]
    },
    {
     "name": "stderr",
     "output_type": "stream",
     "text": [
      "[Parallel(n_jobs=-1)]: Using backend LokyBackend with 2 concurrent workers.\n"
     ]
    }
   ],
   "source": [
    "# Model building using RandomForest\n",
    "\n",
    "from sklearn.ensemble import RandomForestClassifier\n",
    "\n",
    "best_est_rf_sm = []\n",
    "best_score_rf_sm = []\n",
    "\n",
    "for k_rf_sm in cv_num:\n",
    "    sk_rf_sm = model_selection.StratifiedKFold(n_splits=k_rf_sm)\n",
    "    for train_ind, test_ind in sk_rf_sm.split(X_train, y_train):\n",
    "        X_train_cv, X_test_cv = X_train_pt[train_ind], X_train_pt[test_ind] \n",
    "        y_train_cv, y_test_cv = np.array(y_train)[train_ind], np.array(y_train)[test_ind]\n",
    "    sm =  over_sampling.SMOTE()\n",
    "    X_train_cv, y_train_cv = sm.fit_resample(X_train_cv, y_train_cv)\n",
    "    rf_sm = RandomForestClassifier(n_jobs=-1, random_state=42, verbose=1)\n",
    "    params_rf_sm = {'n_estimators' : [10, 15, 20],\n",
    "          'max_depth' : [5, 7, 10],\n",
    "          'max_leaf_nodes' : [5, 10, 15, 20]\n",
    "          }\n",
    "    gs_rf_sm = model_selection.GridSearchCV(rf_sm, \n",
    "                                            param_grid=params_rf_sm, \n",
    "                                            scoring='roc_auc', \n",
    "                                            n_jobs=-1, \n",
    "                                            cv=sk_rf_sm, \n",
    "                                            verbose=1)\n",
    "    gs_rf_sm.fit(X_train_cv, y_train_cv)\n",
    "    print(gs_rf_sm.best_score_)\n",
    "    print(gs_rf_sm.best_estimator_)\n",
    "    best_score_rf_sm.append(gs_rf_sm.best_score_)\n",
    "    best_est_rf_sm.append(gs_rf_sm.best_estimator_)\n",
    "\n",
    "rf_best_sm = best_est_rf_sm[best_score_rf_sm.index(max(best_score_rf_sm))] # Getting the best estimator\n",
    "rf_best_sm.fit(X_train_cv, y_train_cv) # fit using best estimator\n",
    "\n",
    "#print the evaluation result by choosing a evaluation metric\n",
    "\n",
    "print(\"AUC score on train data is {}\".format(metrics.roc_auc_score(y_train_cv, rf_best_sm.predict(X_train_cv))))\n",
    "print(\"AUC score on test data is {}\".format(metrics.roc_auc_score(y_test_cv, rf_best_sm.predict(X_test_cv))))\n",
    "best_scr_bal.append(metrics.roc_auc_score(y_test_cv, rf_best_sm.predict(X_test_cv)))\n",
    "best_est_bal['rf_best_sm'] = rf_best_sm\n",
    "\n",
    "#print the optimum value of hyperparameters\n",
    "\n",
    "print('Best n_estimators value is {}'.format(rf_best_sm.get_params()['n_estimators']))\n",
    "print('Best max_depth value is {}'.format(rf_best_sm.get_params()['max_depth']))\n",
    "print('Best max_leaf_nodes value is {}'.format(rf_best_sm.get_params()['max_leaf_nodes']))"
   ]
  },
  {
   "cell_type": "code",
   "execution_count": null,
   "metadata": {
    "id": "VYQ4D6q3cMfT"
   },
   "outputs": [],
   "source": [
    "# Model building using Decision tree\n",
    "\n",
    "from sklearn.tree import DecisionTreeClassifier\n",
    "\n",
    "best_est_dt_sm = []\n",
    "best_score_dt_sm = []\n",
    "\n",
    "for k_dt_sm in cv_num:\n",
    "    sk_dt_sm = model_selection.StratifiedKFold(n_splits=k_dt_sm)\n",
    "    for train_ind, test_ind in sk_dt_sm.split(X_train, y_train):\n",
    "        X_train_cv, X_test_cv = X_train_pt[train_ind], X_train_pt[test_ind] \n",
    "        y_train_cv, y_test_cv = np.array(y_train)[train_ind], np.array(y_train)[test_ind]\n",
    "    sm =  over_sampling.SMOTE()\n",
    "    X_train_cv, y_train_cv = sm.fit_resample(X_train_cv, y_train_cv)\n",
    "    dt_sm = DecisionTreeClassifier()\n",
    "    params_dt_sm = {'max_depth' : [7, 11, 15, 17],\n",
    "          'min_samples_leaf' : [10, 12, 15, 20],\n",
    "          'max_leaf_nodes' : [20, 25, 30]\n",
    "          }\n",
    "    gs_dt_sm = model_selection.GridSearchCV(dt_sm, \n",
    "                                            param_grid=params_dt_sm, \n",
    "                                            scoring='roc_auc', \n",
    "                                            n_jobs=-1, \n",
    "                                            cv=sk_dt_sm, \n",
    "                                            verbose=1)\n",
    "    gs_dt_sm.fit(X_train_cv, y_train_cv)\n",
    "    print(gs_dt_sm.best_score_)\n",
    "    print(gs_dt_sm.best_estimator_)\n",
    "    best_score_dt_sm.append(gs_dt_sm.best_score_)\n",
    "    best_est_dt_sm.append(gs_dt_sm.best_estimator_)\n",
    "    \n",
    "dt_best_sm = best_est_dt_sm[best_score_dt_sm.index(max(best_score_dt_sm))] # Getting the best estimator\n",
    "dt_best_sm.fit(X_train_cv, y_train_cv) # fit using best estimator\n",
    "\n",
    "#print the evaluation result by choosing a evaluation metric\n",
    "\n",
    "print(\"AUC score on train data is {}\".format(metrics.roc_auc_score(y_train_cv, dt_best_sm.predict(X_train_cv))))\n",
    "print(\"AUC score on test data is {}\".format(metrics.roc_auc_score(y_test_cv, dt_best_sm.predict(X_test_cv))))\n",
    "best_scr_bal.append(metrics.roc_auc_score(y_test_cv, dt_best_sm.predict(X_test_cv)))\n",
    "best_est_bal['dt_best_sm'] = dt_best_sm\n",
    "\n",
    "#print the optimum value of hyperparameters\n",
    "\n",
    "print('Best max_depth value is {}'.format(dt_best_sm.get_params()['max_depth']))\n",
    "print('Best min_samples_leaf value is {}'.format(dt_best_sm.get_params()['min_samples_leaf']))\n",
    "print('Best max_leaf_nodes value is {}'.format(dt_best_sm.get_params()['max_leaf_nodes']))"
   ]
  },
  {
   "cell_type": "markdown",
   "metadata": {
    "id": "cgWd3Uzlz-6j"
   },
   "source": [
    "### Print the class distribution after applying ADASYN"
   ]
  },
  {
   "cell_type": "code",
   "execution_count": null,
   "metadata": {
    "id": "azvgtDnuz-6j"
   },
   "outputs": [],
   "source": [
    "import warnings\n",
    "warnings.filterwarnings(\"ignore\")\n",
    "\n",
    "from imblearn import over_sampling\n",
    "\n",
    "ada = over_sampling.ADASYN(random_state=0)\n",
    "X_train_adasyn, y_train_adasyn = ada.fit_resample(X_train, y_train)\n",
    "# Artificial minority samples and corresponding minority labels from ADASYN are appended\n",
    "# below X_train and y_train respectively\n",
    "# So to exclusively get the artificial minority samples from ADASYN, we do\n",
    "X_train_adasyn_1 = X_train_adasyn[X_train.shape[0]:]\n",
    "\n",
    "X_train_1 = X_train.to_numpy()[np.where(y_train==1.0)]\n",
    "X_train_0 = X_train.to_numpy()[np.where(y_train==0.0)]\n",
    "\n",
    "\n",
    "\n",
    "import matplotlib.pyplot as plt\n",
    "%matplotlib inline\n",
    "plt.rcParams['figure.figsize'] = [20, 20]\n",
    "fig = plt.figure()\n",
    "\n",
    "plt.subplot(3, 1, 1)\n",
    "plt.scatter(X_train_1[:, 0], X_train_1[:, 1], label='Actual Class-1 Examples')\n",
    "plt.legend()\n",
    "\n",
    "plt.subplot(3, 1, 2)\n",
    "plt.scatter(X_train_1[:, 0], X_train_1[:, 1], label='Actual Class-1 Examples')\n",
    "plt.scatter(X_train_adasyn_1[:X_train_1.shape[0], 0], X_train_adasyn_1[:X_train_1.shape[0], 1],\n",
    "            label='Artificial ADASYN Class-1 Examples')\n",
    "plt.legend()\n",
    "\n",
    "plt.subplot(3, 1, 3)\n",
    "plt.scatter(X_train_1[:, 0], X_train_1[:, 1], label='Actual Class-1 Examples')\n",
    "plt.scatter(X_train_0[:X_train_1.shape[0], 0], X_train_0[:X_train_1.shape[0], 1], label='Actual Class-0 Examples')\n",
    "plt.legend()"
   ]
  },
  {
   "cell_type": "code",
   "execution_count": null,
   "metadata": {
    "id": "hZ9VKi2Rz-6k"
   },
   "outputs": [],
   "source": [
    "#perform cross validation & then balance classes on X_train_cv & y_train_cv using ADASYN\n",
    "\n",
    "#perform hyperparameter tuning\n",
    "\n",
    "num_C = [1, 3, 5, 7]\n",
    "\n",
    "best_est_lr_ad = []\n",
    "best_score_lr_ad = []\n",
    "for k_lr_ad in cv_num:\n",
    "    sk_lr_ad = model_selection.StratifiedKFold(n_splits=k_lr_ad)\n",
    "    for train_ind, test_ind in sk_lr_ad.split(X_train, y_train):\n",
    "        X_train_cv, X_test_cv = X_train_pt[train_ind], X_train_pt[test_ind] \n",
    "        y_train_cv, y_test_cv = np.array(y_train)[train_ind], np.array(y_train)[test_ind]\n",
    "    ad =  over_sampling.ADASYN()\n",
    "    X_train_cv, y_train_cv = ad.fit_resample(X_train_cv, y_train_cv)\n",
    "    log_re_ad = linear_model.LogisticRegression(n_jobs=-1, random_state=42, verbose=1)\n",
    "    params_lr_ad = {'penalty' : ['l1', 'l2'], \n",
    "              'C' : num_C}\n",
    "    gs_Log_ad = model_selection.GridSearchCV(log_re_ad, \n",
    "                                             param_grid=params_lr_ad, \n",
    "                                             scoring='roc_auc', \n",
    "                                             n_jobs=-1, \n",
    "                                             cv=sk_lr_ad, \n",
    "                                             verbose=1)\n",
    "    gs_Log_ad.fit(X_train_cv, y_train_cv)\n",
    "    print(gs_Log_ad.best_score_)\n",
    "    print(gs_Log_ad.best_estimator_)\n",
    "    best_score_lr_ad.append(gs_Log_ad.best_score_)\n",
    "    best_est_lr_ad.append(gs_Log_ad.best_estimator_)\n",
    "    \n",
    "lr_best_ad = best_est_lr_ad[best_score_lr_ad.index(max(best_score_lr_ad))] # Getting the best estimator\n",
    "lr_best_ad.fit(X_train_cv, y_train_cv) # fit using best estimator\n",
    "\n",
    "#print the evaluation result by choosing a evaluation metric\n",
    "\n",
    "print(\"AUC score on train data is {}\".format(metrics.roc_auc_score(y_train_cv, lr_best_ad.predict(X_train_cv))))\n",
    "print(\"AUC score on test data is {}\".format(metrics.roc_auc_score(y_test_cv, lr_best_ad.predict(X_test_cv))))\n",
    "best_scr_bal.append(metrics.roc_auc_score(y_test_cv, lr_best_ad.predict(X_test_cv)))\n",
    "best_est_bal['lr_best_ad'] = lr_best_ad\n",
    "\n",
    "#print the optimum value of hyperparameters\n",
    "\n",
    "print('Best C value is {}'.format(lr_best_ad.get_params()['C']))\n"
   ]
  },
  {
   "cell_type": "markdown",
   "metadata": {
    "id": "fqF4wOh4z-6k"
   },
   "source": [
    "##### Build models on other algorithms to see the better performing on ADASYN"
   ]
  },
  {
   "cell_type": "code",
   "execution_count": null,
   "metadata": {
    "id": "oEqiIJjfcMfT"
   },
   "outputs": [],
   "source": [
    "# Model building using RandomForest\n",
    "\n",
    "from sklearn.ensemble import RandomForestClassifier\n",
    "\n",
    "best_est_rf_ad = []\n",
    "best_score_rf_ad = []\n",
    "\n",
    "for k_rf_ad in cv_num:\n",
    "    sk_rf_ad = model_selection.StratifiedKFold(n_splits=k_rf_ad)\n",
    "    for train_ind, test_ind in sk_rf_ad.split(X_train, y_train):\n",
    "        X_train_cv, X_test_cv = X_train_pt[train_ind], X_train_pt[test_ind] \n",
    "        y_train_cv, y_test_cv = np.array(y_train)[train_ind], np.array(y_train)[test_ind]\n",
    "    ad =  over_sampling.ADASYN()\n",
    "    X_train_cv, y_train_cv = ad.fit_resample(X_train_cv, y_train_cv)\n",
    "    rf_ad = RandomForestClassifier(n_jobs=-1, random_state=42, verbose=1)\n",
    "    params_rf_ad = {'n_estimators' : [15, 17, 20],\n",
    "          'max_depth' : [7, 8, 9, 10],\n",
    "          'max_leaf_nodes' : [15, 20, 25]\n",
    "          }\n",
    "    gs_rf_ad = model_selection.GridSearchCV(rf_ad, \n",
    "                                            param_grid=params_rf_ad, \n",
    "                                            scoring='roc_auc', \n",
    "                                            n_jobs=-1, \n",
    "                                            cv=sk_rf_ad, \n",
    "                                            verbose=1)\n",
    "    gs_rf_ad.fit(X_train_cv, y_train_cv)\n",
    "    print(gs_rf_ad.best_score_)\n",
    "    print(gs_rf_ad.best_estimator_)\n",
    "    best_score_rf_ad.append(gs_rf_ad.best_score_)\n",
    "    best_est_rf_ad.append(gs_rf_ad.best_estimator_)\n",
    "\n",
    "rf_best_ad = best_est_rf_ad[best_score_rf_ad.index(max(best_score_rf_ad))] # Getting the best estimator\n",
    "rf_best_ad.fit(X_train_cv, y_train_cv) # fit using best estimator\n",
    "\n",
    "#print the evaluation result by choosing a evaluation metric\n",
    "\n",
    "print(\"AUC score on train data is {}\".format(metrics.roc_auc_score(y_train_cv, rf_best_ad.predict(X_train_cv))))\n",
    "print(\"AUC score on test data is {}\".format(metrics.roc_auc_score(y_test_cv, rf_best_ad.predict(X_test_cv))))\n",
    "best_scr_bal.append(metrics.roc_auc_score(y_test_cv, rf_best_ad.predict(X_test_cv)))\n",
    "best_est_bal['rf_best_ad'] = rf_best_ad\n",
    "\n",
    "#print the optimum value of hyperparameters\n",
    "\n",
    "print('Best n_estimators value is {}'.format(rf_best_ad.get_params()['n_estimators']))\n",
    "print('Best max_depth value is {}'.format(rf_best_ad.get_params()['max_depth']))\n",
    "print('Best max_leaf_nodes value is {}'.format(rf_best_ad.get_params()['max_leaf_nodes']))"
   ]
  },
  {
   "cell_type": "code",
   "execution_count": null,
   "metadata": {
    "id": "HBsj8ofHcMfU"
   },
   "outputs": [],
   "source": [
    "# Model building using Decision tree\n",
    "\n",
    "from sklearn.tree import DecisionTreeClassifier\n",
    "\n",
    "best_est_dt_ad = []\n",
    "best_score_dt_ad = []\n",
    "\n",
    "for k_dt_ad in cv_num:\n",
    "    sk_dt_ad = model_selection.StratifiedKFold(n_splits=k_dt_ad)\n",
    "    for train_ind, test_ind in sk_dt_ad.split(X_train, y_train):\n",
    "        X_train_cv, X_test_cv = X_train_pt[train_ind], X_train_pt[test_ind] \n",
    "        y_train_cv, y_test_cv = np.array(y_train)[train_ind], np.array(y_train)[test_ind]\n",
    "    ad =  over_sampling.ADASYN()\n",
    "    X_train_cv, y_train_cv = ad.fit_resample(X_train_cv, y_train_cv)\n",
    "    dt_ad = DecisionTreeClassifier()\n",
    "    params_dt_ad = {'max_depth' : [3, 5, 7, 11],\n",
    "          'min_samples_leaf' : [6, 8, 10, 12],\n",
    "          'max_leaf_nodes' : [25, 30, 25]\n",
    "          }\n",
    "    gs_dt_ad = model_selection.GridSearchCV(dt_ad, \n",
    "                                            param_grid=params_dt_ad, \n",
    "                                            scoring='roc_auc', \n",
    "                                            n_jobs=-1, \n",
    "                                            cv=sk_dt_ad, \n",
    "                                            verbose=1)\n",
    "    gs_dt_ad.fit(X_train_cv, y_train_cv)\n",
    "    print(gs_dt_ad.best_score_)\n",
    "    print(gs_dt_ad.best_estimator_)\n",
    "    best_score_dt_ad.append(gs_dt_ad.best_score_)\n",
    "    best_est_dt_ad.append(gs_dt_ad.best_estimator_)\n",
    "    \n",
    "dt_best_ad = best_est_dt_ad[best_score_dt_ad.index(max(best_score_dt_ad))] # Getting the best estimator\n",
    "dt_best_ad.fit(X_train_cv, y_train_cv) # fit using best estimator\n",
    "\n",
    "#print the evaluation result by choosing a evaluation metric\n",
    "\n",
    "print(\"AUC score on train data is {}\".format(metrics.roc_auc_score(y_train_cv, dt_best_ad.predict(X_train_cv))))\n",
    "print(\"AUC score on test data is {}\".format(metrics.roc_auc_score(y_test_cv, dt_best_ad.predict(X_test_cv))))\n",
    "best_scr_bal.append(metrics.roc_auc_score(y_test_cv, dt_best_ad.predict(X_test_cv)))\n",
    "best_est_bal['dt_best_ad'] = dt_best_ad\n",
    "\n",
    "#print the optimum value of hyperparameters\n",
    "\n",
    "print('Best max_depth value is {}'.format(dt_best_ad.get_params()['max_depth']))\n",
    "print('Best min_samples_leaf value is {}'.format(dt_best_ad.get_params()['min_samples_leaf']))\n",
    "print('Best max_leaf_nodes value is {}'.format(dt_best_ad.get_params()['max_leaf_nodes']))"
   ]
  },
  {
   "cell_type": "markdown",
   "metadata": {
    "id": "kHOqK5kKz-6k"
   },
   "source": [
    "### Select the oversampling method which shows the best result on a model\n",
    "- Apply the best hyperparameter on the model\n",
    "- Predict on the test dataset"
   ]
  },
  {
   "cell_type": "code",
   "execution_count": null,
   "metadata": {
    "id": "-TJpWZ2Oz-6k"
   },
   "outputs": [],
   "source": [
    "# perform the best oversampling method on X_train & y_train\n",
    "\n",
    "clf = best_est_bal[list(best_est_bal.keys())[best_scr_bal.index(max(best_scr_bal))]]  #initialise the model with optimum hyperparameters\n",
    "if list(best_est_bal.keys())[best_scr_bal.index(max(best_scr_bal))].split()[-1] is 'ro':\n",
    "  X_train_bal, y_train_bal = ros.fit_resample(X_train, y_train)\n",
    "elif list(best_est_bal.keys())[best_scr_bal.index(max(best_scr_bal))].split()[-1] is 'sm':\n",
    "  X_train_bal, y_train_bal = sm.fit_resample(X_train, y_train)\n",
    "else:\n",
    "  X_train_bal, y_train_bal = ad.fit_resample(X_train, y_train)\n",
    "\n",
    "clf.fit(X_train_bal, y_train_bal) # fit on the balanced dataset\n",
    "print(\"AUC score on test data is {}\".format(metrics.roc_auc_score(y_test, clf.predict(X_test)))) # print the evaluation score on the X_test by choosing the best evaluation metric"
   ]
  },
  {
   "cell_type": "markdown",
   "metadata": {
    "id": "qkmCF_K_z-6k"
   },
   "source": [
    "### Print the important features of the best model to understand the dataset"
   ]
  },
  {
   "cell_type": "code",
   "execution_count": null,
   "metadata": {
    "id": "-bCQW5PNz-6k"
   },
   "outputs": [],
   "source": [
    "var_imp = []\n",
    "for i in clf.feature_importances_:\n",
    "    var_imp.append(i)\n",
    "print('Top var =', var_imp.index(np.sort(clf.feature_importances_)[-1])+1)\n",
    "print('2nd Top var =', var_imp.index(np.sort(clf.feature_importances_)[-2])+1)\n",
    "print('3rd Top var =', var_imp.index(np.sort(clf.feature_importances_)[-3])+1)\n",
    "\n",
    "# Variable on Index-13 and Index-9 seems to be the top 2 variables\n",
    "top_var_index = var_imp.index(np.sort(clf.feature_importances_)[-1])\n",
    "second_top_var_index = var_imp.index(np.sort(clf.feature_importances_)[-2])\n",
    "\n",
    "X_train_1 = X_train.to_numpy()[np.where(y_train==1.0)]\n",
    "X_train_0 = X_train.to_numpy()[np.where(y_train==0.0)]\n",
    "\n",
    "np.random.shuffle(X_train_0)\n",
    "\n",
    "import matplotlib.pyplot as plt\n",
    "%matplotlib inline\n",
    "plt.rcParams['figure.figsize'] = [20, 20]\n",
    "\n",
    "plt.scatter(X_train_1[:, top_var_index], X_train_1[:, second_top_var_index], label='Actual Class-1 Examples')\n",
    "plt.scatter(X_train_0[:X_train_1.shape[0], top_var_index], X_train_0[:X_train_1.shape[0], second_top_var_index],\n",
    "            label='Actual Class-0 Examples')\n",
    "plt.legend()"
   ]
  },
  {
   "cell_type": "code",
   "execution_count": null,
   "metadata": {
    "id": "7ooht4ohz-6l"
   },
   "outputs": [],
   "source": [
    "#### Print the FPR,TPR & select the best threshold from the roc curve\n",
    "\n",
    "print('Train auc = {}'.format(metrics.roc_auc_score(y_train_bal, clf.predict(X_train_bal))))\n",
    "fpr, tpr, thresholds = metrics.roc_curve(y_train_bal, clf.predict_proba(X_train_bal)[:,1])\n",
    "threshold = thresholds[np.argmax(tpr-fpr)]\n",
    "print(threshold)"
   ]
  }
 ],
 "metadata": {
  "colab": {
   "collapsed_sections": [
    "AIcFNO9rz-6h"
   ],
   "name": "Credit_card_fraud_detection_Starter_code+ (1).ipynb",
   "provenance": []
  },
  "kernelspec": {
   "display_name": "Python 3",
   "language": "python",
   "name": "python3"
  },
  "language_info": {
   "codemirror_mode": {
    "name": "ipython",
    "version": 3
   },
   "file_extension": ".py",
   "mimetype": "text/x-python",
   "name": "python",
   "nbconvert_exporter": "python",
   "pygments_lexer": "ipython3",
   "version": "3.7.4"
  }
 },
 "nbformat": 4,
 "nbformat_minor": 1
}
