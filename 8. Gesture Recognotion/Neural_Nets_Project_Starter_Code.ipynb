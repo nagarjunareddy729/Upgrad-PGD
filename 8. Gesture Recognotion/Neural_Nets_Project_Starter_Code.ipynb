{
 "cells": [
  {
   "cell_type": "markdown",
   "metadata": {},
   "source": [
    "# Gesture Recognition\n",
    "In this group project, you are going to build a 3D Conv model that will be able to predict the 5 gestures correctly. Please import the following libraries to get started."
   ]
  },
  {
   "cell_type": "code",
   "execution_count": 1,
   "metadata": {},
   "outputs": [],
   "source": [
    "import numpy as np\n",
    "import os\n",
    "from scipy.misc import imread, imresize\n",
    "import datetime\n",
    "import os"
   ]
  },
  {
   "cell_type": "markdown",
   "metadata": {},
   "source": [
    "We set the random seed so that the results don't vary drastically."
   ]
  },
  {
   "cell_type": "code",
   "execution_count": 2,
   "metadata": {},
   "outputs": [
    {
     "name": "stderr",
     "output_type": "stream",
     "text": [
      "Using TensorFlow backend.\n"
     ]
    }
   ],
   "source": [
    "np.random.seed(30)\n",
    "import random as rn\n",
    "rn.seed(30)\n",
    "from keras import backend as K\n",
    "import tensorflow as tf\n",
    "tf.set_random_seed(30)"
   ]
  },
  {
   "cell_type": "markdown",
   "metadata": {},
   "source": [
    "In this block, you read the folder names for training and validation. You also set the `batch_size` here. Note that you set the batch size in such a way that you are able to use the GPU in full capacity. You keep increasing the batch size until the machine throws an error."
   ]
  },
  {
   "cell_type": "code",
   "execution_count": 3,
   "metadata": {},
   "outputs": [],
   "source": [
    "train_doc = np.random.permutation(open('Project_data/train.csv').readlines())\n",
    "val_doc = np.random.permutation(open('Project_data/val.csv').readlines())\n",
    "batch_size = 50 #experiment with the batch size"
   ]
  },
  {
   "cell_type": "markdown",
   "metadata": {},
   "source": [
    "## Generator\n",
    "This is one of the most important part of the code. The overall structure of the generator has been given. In the generator, you are going to preprocess the images as you have images of 2 different dimensions as well as create a batch of video frames. You have to experiment with `img_idx`, `y`,`z` and normalization such that you get high accuracy."
   ]
  },
  {
   "cell_type": "code",
   "execution_count": 4,
   "metadata": {},
   "outputs": [],
   "source": [
    "frames = [frm_idx for frm_idx in range(6, 26)]\n",
    "y, z = (120, 160) #(y,z) is the final size of the input images"
   ]
  },
  {
   "cell_type": "code",
   "execution_count": 5,
   "metadata": {},
   "outputs": [],
   "source": [
    "def generator(source_path, folder_list, batch_size):\n",
    "    print( 'Source path = ', source_path, '; batch size =', batch_size)\n",
    "    img_idx = frames #create a list of image numbers you want to use for a particular video\n",
    "    while True:\n",
    "        t = np.random.permutation(folder_list)\n",
    "        num_batches = len(folder_list)//batch_size # calculate the number of batches\n",
    "        for batch in range(num_batches): # we iterate over the number of batches\n",
    "            batch_data = np.zeros((batch_size,len(img_idx),y,z,3)) # x is the number of images you use for each video, (y,z) is the final size of the input images and 3 is the number of channels RGB\n",
    "            batch_labels = np.zeros((batch_size,5)) # batch_labels is the one hot representation of the output\n",
    "            for folder in range(batch_size): # iterate over the batch_size\n",
    "                imgs = os.listdir(source_path+'/'+ t[folder + (batch*batch_size)].split(';')[0]) # read all the images in the folder\n",
    "                for idx,item in enumerate(img_idx): #  Iterate iver the frames/images of a folder to read them in\n",
    "                    image = imread(source_path+'/'+ t[folder + (batch*batch_size)].strip().split(';')[0]+'/'+imgs[item]).astype(np.float32)\n",
    "                    \n",
    "                    #crop the images and resize them. Note that the images are of 2 different shape \n",
    "                    #and the conv3D will throw error if the inputs in a batch have different shapes\n",
    "                    if image.shape[0]==image.shape[1]:\n",
    "                        image = image[120:240, 100:260]\n",
    "                    else:\n",
    "                        image = image[0:y,0:z]\n",
    "                    rs_img = imresize(image, (y,z))\n",
    "                    \n",
    "                    batch_data[folder,idx,:,:,0] = (rs_img[:, :, 0] - np.min(rs_img[:, :, 0]))/(np.max(rs_img[:, :, 0]) - np.min(rs_img[:, :, 0]))#normalise and feed in the image\n",
    "                    batch_data[folder,idx,:,:,1] = (rs_img[:, :, 1] - np.min(rs_img[:, :, 1]))/(np.max(rs_img[:, :, 1]) - np.min(rs_img[:, :, 1]))#normalise and feed in the image\n",
    "                    batch_data[folder,idx,:,:,2] = (rs_img[:, :, 2] - np.min(rs_img[:, :, 2]))/(np.max(rs_img[:, :, 2]) - np.min(rs_img[:, :, 2]))#normalise and feed in the image\n",
    "                    \n",
    "                batch_labels[folder, int(t[folder + (batch*batch_size)].strip().split(';')[2])] = 1\n",
    "            yield batch_data, batch_labels #you yield the batch_data and the batch_labels, remember what does yield do\n",
    "\n",
    "        \n",
    "        # write the code for the remaining data points which are left after full batches\n",
    "        if (len(folder_list) != batch_size*num_batches):\n",
    "            batch_size = len(folder_list) - (batch_size*num_batches)\n",
    "            batch_data = np.zeros((batch_size,len(img_idx),y,z,3)) # x is the number of images you use for each video, (y,z) is the final size of the input images and 3 is the number of channels RGB\n",
    "            batch_labels = np.zeros((batch_size,5)) # batch_labels is the one hot representation of the output\n",
    "            for folder in range(batch_size): # iterate over the batch_size\n",
    "                imgs = os.listdir(source_path+'/'+ t[folder + (batch*batch_size)].split(';')[0]) # read all the images in the folder\n",
    "                for idx,item in enumerate(img_idx): #  Iterate iver the frames/images of a folder to read them in\n",
    "                    image = imread(source_path+'/'+ t[folder + (batch*batch_size)].strip().split(';')[0]+'/'+imgs[item]).astype(np.float32)\n",
    "                    \n",
    "                    #crop the images and resize them. Note that the images are of 2 different shape \n",
    "                    #and the conv3D will throw error if the inputs in a batch have different shapes\n",
    "                    \n",
    "                    if image.shape[0]==image.shape[1]:\n",
    "                        image = image[120:240, 100:260]\n",
    "                    else:\n",
    "                        image = image[0:y,0:z]\n",
    "                    rs_img = imresize(image, (y,z))\n",
    "                    \n",
    "                    batch_data[folder,idx,:,:,0] = (rs_img[:, :, 0] - np.min(rs_img[:, :, 0]))/(np.max(rs_img[:, :, 0]) - np.min(rs_img[:, :, 0]))#normalise and feed in the image\n",
    "                    batch_data[folder,idx,:,:,1] = (rs_img[:, :, 1] - np.min(rs_img[:, :, 1]))/(np.max(rs_img[:, :, 1]) - np.min(rs_img[:, :, 1]))#normalise and feed in the image\n",
    "                    batch_data[folder,idx,:,:,2] = (rs_img[:, :, 2] - np.min(rs_img[:, :, 2]))/(np.max(rs_img[:, :, 2]) - np.min(rs_img[:, :, 2]))#normalise and feed in the image\n",
    "                    \n",
    "                batch_labels[folder, int(t[folder + (batch*batch_size)].strip().split(';')[2])] = 1\n",
    "            yield batch_data, batch_labels #you yield the batch_data and the batch_labels, remember what does yield do\n"
   ]
  },
  {
   "cell_type": "code",
   "execution_count": 6,
   "metadata": {},
   "outputs": [
    {
     "name": "stdout",
     "output_type": "stream",
     "text": [
      "# training sequences = 663\n",
      "# validation sequences = 100\n",
      "# epochs = 45\n"
     ]
    }
   ],
   "source": [
    "curr_dt_time = datetime.datetime.now()\n",
    "train_path = 'Project_data/train'\n",
    "val_path = 'Project_data/val'\n",
    "num_train_sequences = len(train_doc)\n",
    "print('# training sequences =', num_train_sequences)\n",
    "num_val_sequences = len(val_doc)\n",
    "print('# validation sequences =', num_val_sequences)\n",
    "num_epochs = 45 # choose the number of epochs\n",
    "print ('# epochs =', num_epochs)"
   ]
  },
  {
   "cell_type": "markdown",
   "metadata": {},
   "source": [
    "## Model\n",
    "Here you make the model using different functionalities that Keras provides. Remember to use `Conv3D` and `MaxPooling3D` and not `Conv2D` and `Maxpooling2D` for a 3D convolution model. You would want to use `TimeDistributed` while building a Conv2D + RNN model. Also remember that the last layer is the softmax. Design the network in such a way that the model is able to give good accuracy on the least number of parameters so that it can fit in the memory of the webcam."
   ]
  },
  {
   "cell_type": "code",
   "execution_count": 7,
   "metadata": {
    "scrolled": false
   },
   "outputs": [],
   "source": [
    "from keras.models import Sequential, Model\n",
    "from keras.layers import Dense, GRU, Flatten, TimeDistributed, Flatten, BatchNormalization, Activation, Dropout\n",
    "from keras.layers.convolutional import Conv3D, MaxPooling3D\n",
    "from keras.callbacks import ModelCheckpoint, ReduceLROnPlateau\n",
    "from keras import optimizers\n",
    "\n",
    "#write your model here\n",
    "\n",
    "inp_shape = [len(frames),y,z,3]\n",
    "filter_shape = [2,2,2]\n",
    "dense_layer_neurons = 128\n",
    "dropout=0.5\n",
    "\n",
    "model = Sequential()\n",
    "\n",
    "model.add(Conv3D(filters = 16,\n",
    "                 kernel_size=filter_shape,\n",
    "                 padding='same',\n",
    "                 input_shape=inp_shape))\n",
    "model.add(Activation('relu'))\n",
    "model.add(BatchNormalization())\n",
    "#model.add(Dropout(.25))\n",
    "model.add(MaxPooling3D(pool_size=(2, 2, 2)))\n",
    "\n",
    "#############################################################################################\n",
    "\n",
    "model.add(Conv3D(filters = 32,\n",
    "                 kernel_size=filter_shape,\n",
    "                 padding='same'))\n",
    "model.add(Activation('relu'))\n",
    "model.add(BatchNormalization())\n",
    "#model.add(Dropout(.25))\n",
    "model.add(MaxPooling3D(pool_size=(2, 2, 2)))\n",
    "\n",
    "#############################################################################################\n",
    "\n",
    "model.add(Conv3D(filters = 64,\n",
    "                 kernel_size=filter_shape,\n",
    "                 padding='same'))\n",
    "model.add(Activation('relu'))\n",
    "model.add(BatchNormalization())\n",
    "#model.add(Dropout(.25))\n",
    "#model.add(Conv3D(filters = 32,\n",
    "#                        kernel_size=(2,2,2),\n",
    "#                        activation='relu'))\n",
    "#model.add(BatchNormalization())\n",
    "#model.add(Dropout(.25))\n",
    "model.add(MaxPooling3D(pool_size=(2, 2, 2)))\n",
    "\n",
    "############################################################################################\n",
    "\n",
    "model.add(Conv3D(filters = 128,\n",
    "                 kernel_size=filter_shape,\n",
    "                 padding='same'))\n",
    "model.add(Activation('relu'))\n",
    "model.add(BatchNormalization())\n",
    "#model.add(Dropout(.25))\n",
    "#model.add(Conv3D(filters = 64,\n",
    "#                        padding='same',\n",
    "#                        kernel_size=(2,2,2),\n",
    "#                        activation='relu'))\n",
    "#model.add(BatchNormalization())\n",
    "#model.add(Dropout(.25))\n",
    "model.add(MaxPooling3D(pool_size=(2, 2, 2)))\n",
    "\n",
    "############################################################################################\n",
    "\n",
    "model.add(Flatten())\n",
    "model.add(Dense(dense_layer_neurons, activation='relu'))\n",
    "model.add(BatchNormalization())\n",
    "model.add(Dropout(dropout))\n",
    "\n",
    "model.add(Dense(dense_layer_neurons, activation='relu'))\n",
    "model.add(BatchNormalization())\n",
    "model.add(Dropout(dropout))\n",
    "\n",
    "# softmax layer\n",
    "model.add(Dense(5, activation='softmax'))"
   ]
  },
  {
   "cell_type": "markdown",
   "metadata": {},
   "source": [
    "Now that you have written the model, the next step is to `compile` the model. When you print the `summary` of the model, you'll see the total number of parameters you have to train."
   ]
  },
  {
   "cell_type": "code",
   "execution_count": 8,
   "metadata": {},
   "outputs": [],
   "source": [
    "from keras.optimizers import SGD, Adam # import Optimizers\n",
    "\n",
    "optimiser = SGD() #write your optimizer\n",
    "\n",
    "model.compile(optimizer=optimiser, loss='categorical_crossentropy', metrics=['categorical_accuracy'])"
   ]
  },
  {
   "cell_type": "code",
   "execution_count": 9,
   "metadata": {},
   "outputs": [
    {
     "name": "stdout",
     "output_type": "stream",
     "text": [
      "_________________________________________________________________\n",
      "Layer (type)                 Output Shape              Param #   \n",
      "=================================================================\n",
      "conv3d_1 (Conv3D)            (None, 20, 120, 160, 16)  400       \n",
      "_________________________________________________________________\n",
      "activation_1 (Activation)    (None, 20, 120, 160, 16)  0         \n",
      "_________________________________________________________________\n",
      "batch_normalization_1 (Batch (None, 20, 120, 160, 16)  64        \n",
      "_________________________________________________________________\n",
      "max_pooling3d_1 (MaxPooling3 (None, 10, 60, 80, 16)    0         \n",
      "_________________________________________________________________\n",
      "conv3d_2 (Conv3D)            (None, 10, 60, 80, 32)    4128      \n",
      "_________________________________________________________________\n",
      "activation_2 (Activation)    (None, 10, 60, 80, 32)    0         \n",
      "_________________________________________________________________\n",
      "batch_normalization_2 (Batch (None, 10, 60, 80, 32)    128       \n",
      "_________________________________________________________________\n",
      "max_pooling3d_2 (MaxPooling3 (None, 5, 30, 40, 32)     0         \n",
      "_________________________________________________________________\n",
      "conv3d_3 (Conv3D)            (None, 5, 30, 40, 64)     16448     \n",
      "_________________________________________________________________\n",
      "activation_3 (Activation)    (None, 5, 30, 40, 64)     0         \n",
      "_________________________________________________________________\n",
      "batch_normalization_3 (Batch (None, 5, 30, 40, 64)     256       \n",
      "_________________________________________________________________\n",
      "max_pooling3d_3 (MaxPooling3 (None, 2, 15, 20, 64)     0         \n",
      "_________________________________________________________________\n",
      "conv3d_4 (Conv3D)            (None, 2, 15, 20, 128)    65664     \n",
      "_________________________________________________________________\n",
      "activation_4 (Activation)    (None, 2, 15, 20, 128)    0         \n",
      "_________________________________________________________________\n",
      "batch_normalization_4 (Batch (None, 2, 15, 20, 128)    512       \n",
      "_________________________________________________________________\n",
      "max_pooling3d_4 (MaxPooling3 (None, 1, 7, 10, 128)     0         \n",
      "_________________________________________________________________\n",
      "flatten_1 (Flatten)          (None, 8960)              0         \n",
      "_________________________________________________________________\n",
      "dense_1 (Dense)              (None, 128)               1147008   \n",
      "_________________________________________________________________\n",
      "batch_normalization_5 (Batch (None, 128)               512       \n",
      "_________________________________________________________________\n",
      "dropout_1 (Dropout)          (None, 128)               0         \n",
      "_________________________________________________________________\n",
      "dense_2 (Dense)              (None, 128)               16512     \n",
      "_________________________________________________________________\n",
      "batch_normalization_6 (Batch (None, 128)               512       \n",
      "_________________________________________________________________\n",
      "dropout_2 (Dropout)          (None, 128)               0         \n",
      "_________________________________________________________________\n",
      "dense_3 (Dense)              (None, 5)                 645       \n",
      "=================================================================\n",
      "Total params: 1,252,789\n",
      "Trainable params: 1,251,797\n",
      "Non-trainable params: 992\n",
      "_________________________________________________________________\n"
     ]
    }
   ],
   "source": [
    "model.summary()"
   ]
  },
  {
   "cell_type": "markdown",
   "metadata": {},
   "source": [
    "Let us create the `train_generator` and the `val_generator` which will be used in `.fit_generator`."
   ]
  },
  {
   "cell_type": "code",
   "execution_count": 10,
   "metadata": {},
   "outputs": [],
   "source": [
    "train_generator = generator(train_path, train_doc, batch_size)\n",
    "val_generator = generator(val_path, val_doc, batch_size)"
   ]
  },
  {
   "cell_type": "code",
   "execution_count": 11,
   "metadata": {},
   "outputs": [],
   "source": [
    "model_name = 'model_init' + '_' + str(curr_dt_time).replace(' ','').replace(':','_') + '/'\n",
    "    \n",
    "if not os.path.exists(model_name):\n",
    "    os.mkdir(model_name)\n",
    "        \n",
    "filepath = model_name + 'model-{epoch:05d}-{loss:.5f}-{categorical_accuracy:.5f}-{val_loss:.5f}-{val_categorical_accuracy:.5f}.h5'\n",
    "\n",
    "checkpoint = ModelCheckpoint(filepath, monitor='val_loss', verbose=1, save_best_only=False, save_weights_only=False, mode='auto', period=1)\n",
    "\n",
    "LR = ReduceLROnPlateau(monitor='val_loss', factor=0.2, patience=4, verbose=1) # write the REducelronplateau code here\n",
    "callbacks_list = [checkpoint, LR]"
   ]
  },
  {
   "cell_type": "markdown",
   "metadata": {},
   "source": [
    "The `steps_per_epoch` and `validation_steps` are used by `fit_generator` to decide the number of next() calls it need to make."
   ]
  },
  {
   "cell_type": "code",
   "execution_count": 12,
   "metadata": {},
   "outputs": [],
   "source": [
    "if (num_train_sequences%batch_size) == 0:\n",
    "    steps_per_epoch = int(num_train_sequences/batch_size)\n",
    "else:\n",
    "    steps_per_epoch = (num_train_sequences//batch_size) + 1\n",
    "\n",
    "if (num_val_sequences%batch_size) == 0:\n",
    "    validation_steps = int(num_val_sequences/batch_size)\n",
    "else:\n",
    "    validation_steps = (num_val_sequences//batch_size) + 1"
   ]
  },
  {
   "cell_type": "markdown",
   "metadata": {},
   "source": [
    "Let us now fit the model. This will start training the model and with the help of the checkpoints, you'll be able to save the model at the end of each epoch."
   ]
  },
  {
   "cell_type": "code",
   "execution_count": null,
   "metadata": {
    "scrolled": false
   },
   "outputs": [
    {
     "name": "stdout",
     "output_type": "stream",
     "text": [
      "Source path =  Project_data/val ; batch size = 50\n",
      "Source path =  Project_data/train ; batch size = 50\n",
      "Epoch 1/45\n"
     ]
    },
    {
     "name": "stderr",
     "output_type": "stream",
     "text": [
      "/mnt/disks/user/anaconda3/lib/python3.6/site-packages/ipykernel_launcher.py:13: DeprecationWarning: `imread` is deprecated!\n",
      "`imread` is deprecated in SciPy 1.0.0, and will be removed in 1.2.0.\n",
      "Use ``imageio.imread`` instead.\n",
      "  del sys.path[0]\n",
      "/mnt/disks/user/anaconda3/lib/python3.6/site-packages/ipykernel_launcher.py:21: DeprecationWarning: `imresize` is deprecated!\n",
      "`imresize` is deprecated in SciPy 1.0.0, and will be removed in 1.2.0.\n",
      "Use ``skimage.transform.resize`` instead.\n"
     ]
    },
    {
     "name": "stdout",
     "output_type": "stream",
     "text": [
      "12/14 [========================>.....] - ETA: 22s - loss: 2.3148 - categorical_accuracy: 0.2917"
     ]
    },
    {
     "name": "stderr",
     "output_type": "stream",
     "text": [
      "/mnt/disks/user/anaconda3/lib/python3.6/site-packages/ipykernel_launcher.py:39: DeprecationWarning: `imread` is deprecated!\n",
      "`imread` is deprecated in SciPy 1.0.0, and will be removed in 1.2.0.\n",
      "Use ``imageio.imread`` instead.\n",
      "/mnt/disks/user/anaconda3/lib/python3.6/site-packages/ipykernel_launcher.py:48: DeprecationWarning: `imresize` is deprecated!\n",
      "`imresize` is deprecated in SciPy 1.0.0, and will be removed in 1.2.0.\n",
      "Use ``skimage.transform.resize`` instead.\n"
     ]
    },
    {
     "name": "stdout",
     "output_type": "stream",
     "text": [
      "14/14 [==============================] - 150s 11s/step - loss: 2.2543 - categorical_accuracy: 0.3176 - val_loss: 1.9695 - val_categorical_accuracy: 0.3800\n",
      "\n",
      "Epoch 00001: saving model to model_init_2020-11-0911_45_45.368416/model-00001-2.26028-0.30618-1.96947-0.38000.h5\n",
      "Epoch 2/45\n",
      "14/14 [==============================] - 17s 1s/step - loss: 2.2370 - categorical_accuracy: 0.3022 - val_loss: 3.4437 - val_categorical_accuracy: 0.2700\n",
      "\n",
      "Epoch 00002: saving model to model_init_2020-11-0911_45_45.368416/model-00002-2.23702-0.30220-3.44372-0.27000.h5\n",
      "Epoch 3/45\n",
      "14/14 [==============================] - 19s 1s/step - loss: 2.1320 - categorical_accuracy: 0.3077 - val_loss: 1.9652 - val_categorical_accuracy: 0.3300\n",
      "\n",
      "Epoch 00003: saving model to model_init_2020-11-0911_45_45.368416/model-00003-2.13203-0.30769-1.96525-0.33000.h5\n",
      "Epoch 4/45\n",
      "14/14 [==============================] - 17s 1s/step - loss: 1.5970 - categorical_accuracy: 0.3956 - val_loss: 1.2355 - val_categorical_accuracy: 0.5300\n",
      "\n",
      "Epoch 00004: saving model to model_init_2020-11-0911_45_45.368416/model-00004-1.59702-0.39560-1.23552-0.53000.h5\n",
      "Epoch 5/45\n",
      "14/14 [==============================] - 18s 1s/step - loss: 1.7917 - categorical_accuracy: 0.4505 - val_loss: 3.8227 - val_categorical_accuracy: 0.2600\n",
      "\n",
      "Epoch 00005: saving model to model_init_2020-11-0911_45_45.368416/model-00005-1.79173-0.45055-3.82272-0.26000.h5\n",
      "Epoch 6/45\n",
      "14/14 [==============================] - 19s 1s/step - loss: 1.6032 - categorical_accuracy: 0.4011 - val_loss: 1.2761 - val_categorical_accuracy: 0.5300\n",
      "\n",
      "Epoch 00006: saving model to model_init_2020-11-0911_45_45.368416/model-00006-1.60323-0.40110-1.27614-0.53000.h5\n",
      "Epoch 7/45\n",
      "14/14 [==============================] - 18s 1s/step - loss: 1.5263 - categorical_accuracy: 0.4560 - val_loss: 1.3831 - val_categorical_accuracy: 0.4600\n",
      "\n",
      "Epoch 00007: saving model to model_init_2020-11-0911_45_45.368416/model-00007-1.52627-0.45604-1.38312-0.46000.h5\n",
      "Epoch 8/45\n",
      "14/14 [==============================] - 18s 1s/step - loss: 1.5226 - categorical_accuracy: 0.4725 - val_loss: 1.0980 - val_categorical_accuracy: 0.5000\n",
      "\n",
      "Epoch 00008: saving model to model_init_2020-11-0911_45_45.368416/model-00008-1.52255-0.47253-1.09798-0.50000.h5\n",
      "Epoch 9/45\n",
      "14/14 [==============================] - 19s 1s/step - loss: 1.6086 - categorical_accuracy: 0.4341 - val_loss: 1.5312 - val_categorical_accuracy: 0.4700\n",
      "\n",
      "Epoch 00009: saving model to model_init_2020-11-0911_45_45.368416/model-00009-1.60857-0.43407-1.53118-0.47000.h5\n",
      "Epoch 10/45\n",
      "14/14 [==============================] - 18s 1s/step - loss: 1.2971 - categorical_accuracy: 0.5055 - val_loss: 1.5794 - val_categorical_accuracy: 0.4200\n",
      "\n",
      "Epoch 00010: saving model to model_init_2020-11-0911_45_45.368416/model-00010-1.29707-0.50549-1.57939-0.42000.h5\n",
      "Epoch 11/45\n",
      "14/14 [==============================] - 18s 1s/step - loss: 1.3370 - categorical_accuracy: 0.4835 - val_loss: 0.9811 - val_categorical_accuracy: 0.5600\n",
      "\n",
      "Epoch 00011: saving model to model_init_2020-11-0911_45_45.368416/model-00011-1.33698-0.48352-0.98114-0.56000.h5\n",
      "Epoch 12/45\n",
      "14/14 [==============================] - 18s 1s/step - loss: 1.2415 - categorical_accuracy: 0.5275 - val_loss: 0.9647 - val_categorical_accuracy: 0.6100\n",
      "\n",
      "Epoch 00012: saving model to model_init_2020-11-0911_45_45.368416/model-00012-1.24147-0.52747-0.96469-0.61000.h5\n",
      "Epoch 13/45\n",
      "14/14 [==============================] - 18s 1s/step - loss: 1.1203 - categorical_accuracy: 0.5440 - val_loss: 1.0762 - val_categorical_accuracy: 0.5800\n",
      "\n",
      "Epoch 00013: saving model to model_init_2020-11-0911_45_45.368416/model-00013-1.12035-0.54396-1.07619-0.58000.h5\n",
      "Epoch 14/45\n",
      "14/14 [==============================] - 22s 2s/step - loss: 1.2517 - categorical_accuracy: 0.5110 - val_loss: 0.9940 - val_categorical_accuracy: 0.6300\n",
      "\n",
      "Epoch 00014: saving model to model_init_2020-11-0911_45_45.368416/model-00014-1.25166-0.51099-0.99402-0.63000.h5\n",
      "Epoch 15/45\n",
      "14/14 [==============================] - 24s 2s/step - loss: 1.1219 - categorical_accuracy: 0.5659 - val_loss: 0.9792 - val_categorical_accuracy: 0.6400\n",
      "\n",
      "Epoch 00015: saving model to model_init_2020-11-0911_45_45.368416/model-00015-1.12194-0.56593-0.97916-0.64000.h5\n",
      "Epoch 16/45\n",
      "14/14 [==============================] - 23s 2s/step - loss: 1.2951 - categorical_accuracy: 0.5165 - val_loss: 0.9543 - val_categorical_accuracy: 0.7000\n",
      "\n",
      "Epoch 00016: saving model to model_init_2020-11-0911_45_45.368416/model-00016-1.29513-0.51648-0.95430-0.70000.h5\n",
      "Epoch 17/45\n",
      "14/14 [==============================] - 17s 1s/step - loss: 1.1945 - categorical_accuracy: 0.5440 - val_loss: 1.1280 - val_categorical_accuracy: 0.6100\n",
      "\n",
      "Epoch 00017: saving model to model_init_2020-11-0911_45_45.368416/model-00017-1.19445-0.54396-1.12798-0.61000.h5\n",
      "Epoch 18/45\n",
      "14/14 [==============================] - 16s 1s/step - loss: 1.0682 - categorical_accuracy: 0.5330 - val_loss: 1.1001 - val_categorical_accuracy: 0.6300\n",
      "\n",
      "Epoch 00018: saving model to model_init_2020-11-0911_45_45.368416/model-00018-1.06817-0.53297-1.10012-0.63000.h5\n",
      "Epoch 19/45\n",
      "14/14 [==============================] - 15s 1s/step - loss: 1.0906 - categorical_accuracy: 0.5824 - val_loss: 1.4081 - val_categorical_accuracy: 0.4500\n",
      "\n",
      "Epoch 00019: saving model to model_init_2020-11-0911_45_45.368416/model-00019-1.09058-0.58242-1.40810-0.45000.h5\n",
      "Epoch 20/45\n",
      "14/14 [==============================] - 15s 1s/step - loss: 1.0637 - categorical_accuracy: 0.5659 - val_loss: 0.9447 - val_categorical_accuracy: 0.6200\n",
      "\n",
      "Epoch 00020: saving model to model_init_2020-11-0911_45_45.368416/model-00020-1.06367-0.56593-0.94466-0.62000.h5\n",
      "Epoch 21/45\n",
      "14/14 [==============================] - 16s 1s/step - loss: 1.0107 - categorical_accuracy: 0.6374 - val_loss: 1.5955 - val_categorical_accuracy: 0.4500\n",
      "\n",
      "Epoch 00021: saving model to model_init_2020-11-0911_45_45.368416/model-00021-1.01071-0.63736-1.59554-0.45000.h5\n",
      "Epoch 22/45\n",
      "14/14 [==============================] - 16s 1s/step - loss: 0.9558 - categorical_accuracy: 0.6374 - val_loss: 2.0742 - val_categorical_accuracy: 0.4000\n",
      "\n",
      "Epoch 00022: saving model to model_init_2020-11-0911_45_45.368416/model-00022-0.95584-0.63736-2.07424-0.40000.h5\n",
      "Epoch 23/45\n",
      "14/14 [==============================] - 16s 1s/step - loss: 1.0608 - categorical_accuracy: 0.6044 - val_loss: 1.9676 - val_categorical_accuracy: 0.3800\n",
      "\n",
      "Epoch 00023: saving model to model_init_2020-11-0911_45_45.368416/model-00023-1.06083-0.60440-1.96762-0.38000.h5\n",
      "Epoch 24/45\n",
      "14/14 [==============================] - 16s 1s/step - loss: 1.0015 - categorical_accuracy: 0.5989 - val_loss: 2.6977 - val_categorical_accuracy: 0.3800\n",
      "\n",
      "Epoch 00024: saving model to model_init_2020-11-0911_45_45.368416/model-00024-1.00151-0.59890-2.69769-0.38000.h5\n",
      "\n",
      "Epoch 00024: ReduceLROnPlateau reducing learning rate to 0.0019999999552965165.\n",
      "Epoch 25/45\n",
      "14/14 [==============================] - 15s 1s/step - loss: 0.8864 - categorical_accuracy: 0.6813 - val_loss: 2.1865 - val_categorical_accuracy: 0.4100\n",
      "\n",
      "Epoch 00025: saving model to model_init_2020-11-0911_45_45.368416/model-00025-0.88637-0.68132-2.18649-0.41000.h5\n",
      "Epoch 26/45\n",
      "14/14 [==============================] - 16s 1s/step - loss: 0.9735 - categorical_accuracy: 0.6044 - val_loss: 1.7247 - val_categorical_accuracy: 0.3700\n",
      "\n",
      "Epoch 00026: saving model to model_init_2020-11-0911_45_45.368416/model-00026-0.97354-0.60440-1.72470-0.37000.h5\n",
      "Epoch 27/45\n",
      "14/14 [==============================] - 16s 1s/step - loss: 0.8856 - categorical_accuracy: 0.6319 - val_loss: 1.4082 - val_categorical_accuracy: 0.3700\n",
      "\n",
      "Epoch 00027: saving model to model_init_2020-11-0911_45_45.368416/model-00027-0.88562-0.63187-1.40821-0.37000.h5\n",
      "Epoch 28/45\n",
      "14/14 [==============================] - 16s 1s/step - loss: 1.0407 - categorical_accuracy: 0.5989 - val_loss: 1.3014 - val_categorical_accuracy: 0.4200\n",
      "\n",
      "Epoch 00028: saving model to model_init_2020-11-0911_45_45.368416/model-00028-1.04067-0.59890-1.30137-0.42000.h5\n",
      "\n",
      "Epoch 00028: ReduceLROnPlateau reducing learning rate to 0.0003999999724328518.\n",
      "Epoch 29/45\n",
      "14/14 [==============================] - 16s 1s/step - loss: 0.7251 - categorical_accuracy: 0.6978 - val_loss: 1.2185 - val_categorical_accuracy: 0.4600\n",
      "\n",
      "Epoch 00029: saving model to model_init_2020-11-0911_45_45.368416/model-00029-0.72510-0.69780-1.21845-0.46000.h5\n",
      "Epoch 30/45\n"
     ]
    },
    {
     "name": "stdout",
     "output_type": "stream",
     "text": [
      " 8/14 [================>.............] - ETA: 6s - loss: 0.9518 - categorical_accuracy: 0.6538"
     ]
    }
   ],
   "source": [
    "history = model.fit_generator(train_generator, steps_per_epoch=steps_per_epoch, epochs=num_epochs, verbose=1, \n",
    "                    callbacks=callbacks_list, validation_data=val_generator, \n",
    "                    validation_steps=validation_steps, class_weight=None, workers=1, initial_epoch=0)"
   ]
  }
 ],
 "metadata": {
  "kernelspec": {
   "display_name": "Python 3",
   "language": "python",
   "name": "python3"
  },
  "language_info": {
   "codemirror_mode": {
    "name": "ipython",
    "version": 3
   },
   "file_extension": ".py",
   "mimetype": "text/x-python",
   "name": "python",
   "nbconvert_exporter": "python",
   "pygments_lexer": "ipython3",
   "version": "3.6.8"
  }
 },
 "nbformat": 4,
 "nbformat_minor": 2
}
