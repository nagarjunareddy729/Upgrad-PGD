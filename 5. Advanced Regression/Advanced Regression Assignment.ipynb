{
 "cells": [
  {
   "cell_type": "markdown",
   "metadata": {},
   "source": [
    "# Advanced Regression Assignment\n",
    "## Housing Case Study\n",
    "\n",
    "#### Problem Statement:\n",
    "\n",
    "A US-based housing company named Surprise Housing has decided to enter the Australian market. The company uses data analytics to purchase houses at a price below their actual values and flip them on at a higher price. For the same purpose, the company has collected a data set from the sale of houses in Australia. The data is provided in the CSV file below.\n",
    "\n",
    "\n",
    "The company is looking at prospective properties to buy to enter the market. You are required to build a regression model using regularisation in order to predict the actual value of the prospective properties and decide whether to invest in them or not.\n",
    "\n",
    "\n",
    "The company wants to know:\n",
    "- Which variables are significant in predicting the price of a house, and\n",
    "- How well those variables describe the price of a house."
   ]
  },
  {
   "cell_type": "markdown",
   "metadata": {},
   "source": [
    "## Step 1: Reading and Understanding the Data"
   ]
  },
  {
   "cell_type": "code",
   "execution_count": 1,
   "metadata": {},
   "outputs": [],
   "source": [
    "# Supress warnings\n",
    "\n",
    "import warnings\n",
    "warnings.filterwarnings('ignore')"
   ]
  },
  {
   "cell_type": "code",
   "execution_count": 2,
   "metadata": {},
   "outputs": [],
   "source": [
    "# Import Libraries\n",
    "\n",
    "import pandas as pd, numpy as np, matplotlib.pyplot as plt, seaborn as sns\n",
    "\n",
    "from datetime import date\n",
    "from sklearn.model_selection import train_test_split, GridSearchCV\n",
    "from sklearn.preprocessing import StandardScaler\n",
    "from sklearn.feature_selection import RFE\n",
    "from sklearn.linear_model import Ridge, Lasso\n",
    "from sklearn.metrics import r2_score\n",
    "\n",
    "%matplotlib inline"
   ]
  },
  {
   "cell_type": "code",
   "execution_count": 3,
   "metadata": {},
   "outputs": [
    {
     "data": {
      "text/html": [
       "<div>\n",
       "<style scoped>\n",
       "    .dataframe tbody tr th:only-of-type {\n",
       "        vertical-align: middle;\n",
       "    }\n",
       "\n",
       "    .dataframe tbody tr th {\n",
       "        vertical-align: top;\n",
       "    }\n",
       "\n",
       "    .dataframe thead th {\n",
       "        text-align: right;\n",
       "    }\n",
       "</style>\n",
       "<table border=\"1\" class=\"dataframe\">\n",
       "  <thead>\n",
       "    <tr style=\"text-align: right;\">\n",
       "      <th></th>\n",
       "      <th>Id</th>\n",
       "      <th>MSSubClass</th>\n",
       "      <th>MSZoning</th>\n",
       "      <th>LotFrontage</th>\n",
       "      <th>LotArea</th>\n",
       "      <th>Street</th>\n",
       "      <th>Alley</th>\n",
       "      <th>LotShape</th>\n",
       "      <th>LandContour</th>\n",
       "      <th>Utilities</th>\n",
       "      <th>...</th>\n",
       "      <th>PoolArea</th>\n",
       "      <th>PoolQC</th>\n",
       "      <th>Fence</th>\n",
       "      <th>MiscFeature</th>\n",
       "      <th>MiscVal</th>\n",
       "      <th>MoSold</th>\n",
       "      <th>YrSold</th>\n",
       "      <th>SaleType</th>\n",
       "      <th>SaleCondition</th>\n",
       "      <th>SalePrice</th>\n",
       "    </tr>\n",
       "  </thead>\n",
       "  <tbody>\n",
       "    <tr>\n",
       "      <td>0</td>\n",
       "      <td>1</td>\n",
       "      <td>60</td>\n",
       "      <td>RL</td>\n",
       "      <td>65.0</td>\n",
       "      <td>8450</td>\n",
       "      <td>Pave</td>\n",
       "      <td>NaN</td>\n",
       "      <td>Reg</td>\n",
       "      <td>Lvl</td>\n",
       "      <td>AllPub</td>\n",
       "      <td>...</td>\n",
       "      <td>0</td>\n",
       "      <td>NaN</td>\n",
       "      <td>NaN</td>\n",
       "      <td>NaN</td>\n",
       "      <td>0</td>\n",
       "      <td>2</td>\n",
       "      <td>2008</td>\n",
       "      <td>WD</td>\n",
       "      <td>Normal</td>\n",
       "      <td>208500</td>\n",
       "    </tr>\n",
       "    <tr>\n",
       "      <td>1</td>\n",
       "      <td>2</td>\n",
       "      <td>20</td>\n",
       "      <td>RL</td>\n",
       "      <td>80.0</td>\n",
       "      <td>9600</td>\n",
       "      <td>Pave</td>\n",
       "      <td>NaN</td>\n",
       "      <td>Reg</td>\n",
       "      <td>Lvl</td>\n",
       "      <td>AllPub</td>\n",
       "      <td>...</td>\n",
       "      <td>0</td>\n",
       "      <td>NaN</td>\n",
       "      <td>NaN</td>\n",
       "      <td>NaN</td>\n",
       "      <td>0</td>\n",
       "      <td>5</td>\n",
       "      <td>2007</td>\n",
       "      <td>WD</td>\n",
       "      <td>Normal</td>\n",
       "      <td>181500</td>\n",
       "    </tr>\n",
       "    <tr>\n",
       "      <td>2</td>\n",
       "      <td>3</td>\n",
       "      <td>60</td>\n",
       "      <td>RL</td>\n",
       "      <td>68.0</td>\n",
       "      <td>11250</td>\n",
       "      <td>Pave</td>\n",
       "      <td>NaN</td>\n",
       "      <td>IR1</td>\n",
       "      <td>Lvl</td>\n",
       "      <td>AllPub</td>\n",
       "      <td>...</td>\n",
       "      <td>0</td>\n",
       "      <td>NaN</td>\n",
       "      <td>NaN</td>\n",
       "      <td>NaN</td>\n",
       "      <td>0</td>\n",
       "      <td>9</td>\n",
       "      <td>2008</td>\n",
       "      <td>WD</td>\n",
       "      <td>Normal</td>\n",
       "      <td>223500</td>\n",
       "    </tr>\n",
       "    <tr>\n",
       "      <td>3</td>\n",
       "      <td>4</td>\n",
       "      <td>70</td>\n",
       "      <td>RL</td>\n",
       "      <td>60.0</td>\n",
       "      <td>9550</td>\n",
       "      <td>Pave</td>\n",
       "      <td>NaN</td>\n",
       "      <td>IR1</td>\n",
       "      <td>Lvl</td>\n",
       "      <td>AllPub</td>\n",
       "      <td>...</td>\n",
       "      <td>0</td>\n",
       "      <td>NaN</td>\n",
       "      <td>NaN</td>\n",
       "      <td>NaN</td>\n",
       "      <td>0</td>\n",
       "      <td>2</td>\n",
       "      <td>2006</td>\n",
       "      <td>WD</td>\n",
       "      <td>Abnorml</td>\n",
       "      <td>140000</td>\n",
       "    </tr>\n",
       "    <tr>\n",
       "      <td>4</td>\n",
       "      <td>5</td>\n",
       "      <td>60</td>\n",
       "      <td>RL</td>\n",
       "      <td>84.0</td>\n",
       "      <td>14260</td>\n",
       "      <td>Pave</td>\n",
       "      <td>NaN</td>\n",
       "      <td>IR1</td>\n",
       "      <td>Lvl</td>\n",
       "      <td>AllPub</td>\n",
       "      <td>...</td>\n",
       "      <td>0</td>\n",
       "      <td>NaN</td>\n",
       "      <td>NaN</td>\n",
       "      <td>NaN</td>\n",
       "      <td>0</td>\n",
       "      <td>12</td>\n",
       "      <td>2008</td>\n",
       "      <td>WD</td>\n",
       "      <td>Normal</td>\n",
       "      <td>250000</td>\n",
       "    </tr>\n",
       "  </tbody>\n",
       "</table>\n",
       "<p>5 rows × 81 columns</p>\n",
       "</div>"
      ],
      "text/plain": [
       "   Id  MSSubClass MSZoning  LotFrontage  LotArea Street Alley LotShape  \\\n",
       "0   1          60       RL         65.0     8450   Pave   NaN      Reg   \n",
       "1   2          20       RL         80.0     9600   Pave   NaN      Reg   \n",
       "2   3          60       RL         68.0    11250   Pave   NaN      IR1   \n",
       "3   4          70       RL         60.0     9550   Pave   NaN      IR1   \n",
       "4   5          60       RL         84.0    14260   Pave   NaN      IR1   \n",
       "\n",
       "  LandContour Utilities  ... PoolArea PoolQC Fence MiscFeature MiscVal MoSold  \\\n",
       "0         Lvl    AllPub  ...        0    NaN   NaN         NaN       0      2   \n",
       "1         Lvl    AllPub  ...        0    NaN   NaN         NaN       0      5   \n",
       "2         Lvl    AllPub  ...        0    NaN   NaN         NaN       0      9   \n",
       "3         Lvl    AllPub  ...        0    NaN   NaN         NaN       0      2   \n",
       "4         Lvl    AllPub  ...        0    NaN   NaN         NaN       0     12   \n",
       "\n",
       "  YrSold  SaleType  SaleCondition  SalePrice  \n",
       "0   2008        WD         Normal     208500  \n",
       "1   2007        WD         Normal     181500  \n",
       "2   2008        WD         Normal     223500  \n",
       "3   2006        WD        Abnorml     140000  \n",
       "4   2008        WD         Normal     250000  \n",
       "\n",
       "[5 rows x 81 columns]"
      ]
     },
     "execution_count": 3,
     "metadata": {},
     "output_type": "execute_result"
    }
   ],
   "source": [
    "# Reading data from csv file\n",
    "\n",
    "house_df = pd.read_csv(\"train.csv\")\n",
    "house_df.head()"
   ]
  },
  {
   "cell_type": "code",
   "execution_count": 4,
   "metadata": {},
   "outputs": [
    {
     "data": {
      "text/plain": [
       "(1460, 81)"
      ]
     },
     "execution_count": 4,
     "metadata": {},
     "output_type": "execute_result"
    }
   ],
   "source": [
    "# Shape of data\n",
    "\n",
    "house_df.shape"
   ]
  },
  {
   "cell_type": "code",
   "execution_count": 5,
   "metadata": {},
   "outputs": [
    {
     "name": "stdout",
     "output_type": "stream",
     "text": [
      "<class 'pandas.core.frame.DataFrame'>\n",
      "RangeIndex: 1460 entries, 0 to 1459\n",
      "Data columns (total 81 columns):\n",
      "Id               1460 non-null int64\n",
      "MSSubClass       1460 non-null int64\n",
      "MSZoning         1460 non-null object\n",
      "LotFrontage      1201 non-null float64\n",
      "LotArea          1460 non-null int64\n",
      "Street           1460 non-null object\n",
      "Alley            91 non-null object\n",
      "LotShape         1460 non-null object\n",
      "LandContour      1460 non-null object\n",
      "Utilities        1460 non-null object\n",
      "LotConfig        1460 non-null object\n",
      "LandSlope        1460 non-null object\n",
      "Neighborhood     1460 non-null object\n",
      "Condition1       1460 non-null object\n",
      "Condition2       1460 non-null object\n",
      "BldgType         1460 non-null object\n",
      "HouseStyle       1460 non-null object\n",
      "OverallQual      1460 non-null int64\n",
      "OverallCond      1460 non-null int64\n",
      "YearBuilt        1460 non-null int64\n",
      "YearRemodAdd     1460 non-null int64\n",
      "RoofStyle        1460 non-null object\n",
      "RoofMatl         1460 non-null object\n",
      "Exterior1st      1460 non-null object\n",
      "Exterior2nd      1460 non-null object\n",
      "MasVnrType       1452 non-null object\n",
      "MasVnrArea       1452 non-null float64\n",
      "ExterQual        1460 non-null object\n",
      "ExterCond        1460 non-null object\n",
      "Foundation       1460 non-null object\n",
      "BsmtQual         1423 non-null object\n",
      "BsmtCond         1423 non-null object\n",
      "BsmtExposure     1422 non-null object\n",
      "BsmtFinType1     1423 non-null object\n",
      "BsmtFinSF1       1460 non-null int64\n",
      "BsmtFinType2     1422 non-null object\n",
      "BsmtFinSF2       1460 non-null int64\n",
      "BsmtUnfSF        1460 non-null int64\n",
      "TotalBsmtSF      1460 non-null int64\n",
      "Heating          1460 non-null object\n",
      "HeatingQC        1460 non-null object\n",
      "CentralAir       1460 non-null object\n",
      "Electrical       1459 non-null object\n",
      "1stFlrSF         1460 non-null int64\n",
      "2ndFlrSF         1460 non-null int64\n",
      "LowQualFinSF     1460 non-null int64\n",
      "GrLivArea        1460 non-null int64\n",
      "BsmtFullBath     1460 non-null int64\n",
      "BsmtHalfBath     1460 non-null int64\n",
      "FullBath         1460 non-null int64\n",
      "HalfBath         1460 non-null int64\n",
      "BedroomAbvGr     1460 non-null int64\n",
      "KitchenAbvGr     1460 non-null int64\n",
      "KitchenQual      1460 non-null object\n",
      "TotRmsAbvGrd     1460 non-null int64\n",
      "Functional       1460 non-null object\n",
      "Fireplaces       1460 non-null int64\n",
      "FireplaceQu      770 non-null object\n",
      "GarageType       1379 non-null object\n",
      "GarageYrBlt      1379 non-null float64\n",
      "GarageFinish     1379 non-null object\n",
      "GarageCars       1460 non-null int64\n",
      "GarageArea       1460 non-null int64\n",
      "GarageQual       1379 non-null object\n",
      "GarageCond       1379 non-null object\n",
      "PavedDrive       1460 non-null object\n",
      "WoodDeckSF       1460 non-null int64\n",
      "OpenPorchSF      1460 non-null int64\n",
      "EnclosedPorch    1460 non-null int64\n",
      "3SsnPorch        1460 non-null int64\n",
      "ScreenPorch      1460 non-null int64\n",
      "PoolArea         1460 non-null int64\n",
      "PoolQC           7 non-null object\n",
      "Fence            281 non-null object\n",
      "MiscFeature      54 non-null object\n",
      "MiscVal          1460 non-null int64\n",
      "MoSold           1460 non-null int64\n",
      "YrSold           1460 non-null int64\n",
      "SaleType         1460 non-null object\n",
      "SaleCondition    1460 non-null object\n",
      "SalePrice        1460 non-null int64\n",
      "dtypes: float64(3), int64(35), object(43)\n",
      "memory usage: 924.0+ KB\n"
     ]
    }
   ],
   "source": [
    "# Info of data\n",
    "\n",
    "house_df.info()"
   ]
  },
  {
   "cell_type": "code",
   "execution_count": 6,
   "metadata": {},
   "outputs": [
    {
     "data": {
      "text/html": [
       "<div>\n",
       "<style scoped>\n",
       "    .dataframe tbody tr th:only-of-type {\n",
       "        vertical-align: middle;\n",
       "    }\n",
       "\n",
       "    .dataframe tbody tr th {\n",
       "        vertical-align: top;\n",
       "    }\n",
       "\n",
       "    .dataframe thead th {\n",
       "        text-align: right;\n",
       "    }\n",
       "</style>\n",
       "<table border=\"1\" class=\"dataframe\">\n",
       "  <thead>\n",
       "    <tr style=\"text-align: right;\">\n",
       "      <th></th>\n",
       "      <th>Id</th>\n",
       "      <th>MSSubClass</th>\n",
       "      <th>LotFrontage</th>\n",
       "      <th>LotArea</th>\n",
       "      <th>OverallQual</th>\n",
       "      <th>OverallCond</th>\n",
       "      <th>YearBuilt</th>\n",
       "      <th>YearRemodAdd</th>\n",
       "      <th>MasVnrArea</th>\n",
       "      <th>BsmtFinSF1</th>\n",
       "      <th>...</th>\n",
       "      <th>WoodDeckSF</th>\n",
       "      <th>OpenPorchSF</th>\n",
       "      <th>EnclosedPorch</th>\n",
       "      <th>3SsnPorch</th>\n",
       "      <th>ScreenPorch</th>\n",
       "      <th>PoolArea</th>\n",
       "      <th>MiscVal</th>\n",
       "      <th>MoSold</th>\n",
       "      <th>YrSold</th>\n",
       "      <th>SalePrice</th>\n",
       "    </tr>\n",
       "  </thead>\n",
       "  <tbody>\n",
       "    <tr>\n",
       "      <td>count</td>\n",
       "      <td>1460.000000</td>\n",
       "      <td>1460.000000</td>\n",
       "      <td>1201.000000</td>\n",
       "      <td>1460.000000</td>\n",
       "      <td>1460.000000</td>\n",
       "      <td>1460.000000</td>\n",
       "      <td>1460.000000</td>\n",
       "      <td>1460.000000</td>\n",
       "      <td>1452.000000</td>\n",
       "      <td>1460.000000</td>\n",
       "      <td>...</td>\n",
       "      <td>1460.000000</td>\n",
       "      <td>1460.000000</td>\n",
       "      <td>1460.000000</td>\n",
       "      <td>1460.000000</td>\n",
       "      <td>1460.000000</td>\n",
       "      <td>1460.000000</td>\n",
       "      <td>1460.000000</td>\n",
       "      <td>1460.000000</td>\n",
       "      <td>1460.000000</td>\n",
       "      <td>1460.000000</td>\n",
       "    </tr>\n",
       "    <tr>\n",
       "      <td>mean</td>\n",
       "      <td>730.500000</td>\n",
       "      <td>56.897260</td>\n",
       "      <td>70.049958</td>\n",
       "      <td>10516.828082</td>\n",
       "      <td>6.099315</td>\n",
       "      <td>5.575342</td>\n",
       "      <td>1971.267808</td>\n",
       "      <td>1984.865753</td>\n",
       "      <td>103.685262</td>\n",
       "      <td>443.639726</td>\n",
       "      <td>...</td>\n",
       "      <td>94.244521</td>\n",
       "      <td>46.660274</td>\n",
       "      <td>21.954110</td>\n",
       "      <td>3.409589</td>\n",
       "      <td>15.060959</td>\n",
       "      <td>2.758904</td>\n",
       "      <td>43.489041</td>\n",
       "      <td>6.321918</td>\n",
       "      <td>2007.815753</td>\n",
       "      <td>180921.195890</td>\n",
       "    </tr>\n",
       "    <tr>\n",
       "      <td>std</td>\n",
       "      <td>421.610009</td>\n",
       "      <td>42.300571</td>\n",
       "      <td>24.284752</td>\n",
       "      <td>9981.264932</td>\n",
       "      <td>1.382997</td>\n",
       "      <td>1.112799</td>\n",
       "      <td>30.202904</td>\n",
       "      <td>20.645407</td>\n",
       "      <td>181.066207</td>\n",
       "      <td>456.098091</td>\n",
       "      <td>...</td>\n",
       "      <td>125.338794</td>\n",
       "      <td>66.256028</td>\n",
       "      <td>61.119149</td>\n",
       "      <td>29.317331</td>\n",
       "      <td>55.757415</td>\n",
       "      <td>40.177307</td>\n",
       "      <td>496.123024</td>\n",
       "      <td>2.703626</td>\n",
       "      <td>1.328095</td>\n",
       "      <td>79442.502883</td>\n",
       "    </tr>\n",
       "    <tr>\n",
       "      <td>min</td>\n",
       "      <td>1.000000</td>\n",
       "      <td>20.000000</td>\n",
       "      <td>21.000000</td>\n",
       "      <td>1300.000000</td>\n",
       "      <td>1.000000</td>\n",
       "      <td>1.000000</td>\n",
       "      <td>1872.000000</td>\n",
       "      <td>1950.000000</td>\n",
       "      <td>0.000000</td>\n",
       "      <td>0.000000</td>\n",
       "      <td>...</td>\n",
       "      <td>0.000000</td>\n",
       "      <td>0.000000</td>\n",
       "      <td>0.000000</td>\n",
       "      <td>0.000000</td>\n",
       "      <td>0.000000</td>\n",
       "      <td>0.000000</td>\n",
       "      <td>0.000000</td>\n",
       "      <td>1.000000</td>\n",
       "      <td>2006.000000</td>\n",
       "      <td>34900.000000</td>\n",
       "    </tr>\n",
       "    <tr>\n",
       "      <td>25%</td>\n",
       "      <td>365.750000</td>\n",
       "      <td>20.000000</td>\n",
       "      <td>59.000000</td>\n",
       "      <td>7553.500000</td>\n",
       "      <td>5.000000</td>\n",
       "      <td>5.000000</td>\n",
       "      <td>1954.000000</td>\n",
       "      <td>1967.000000</td>\n",
       "      <td>0.000000</td>\n",
       "      <td>0.000000</td>\n",
       "      <td>...</td>\n",
       "      <td>0.000000</td>\n",
       "      <td>0.000000</td>\n",
       "      <td>0.000000</td>\n",
       "      <td>0.000000</td>\n",
       "      <td>0.000000</td>\n",
       "      <td>0.000000</td>\n",
       "      <td>0.000000</td>\n",
       "      <td>5.000000</td>\n",
       "      <td>2007.000000</td>\n",
       "      <td>129975.000000</td>\n",
       "    </tr>\n",
       "    <tr>\n",
       "      <td>50%</td>\n",
       "      <td>730.500000</td>\n",
       "      <td>50.000000</td>\n",
       "      <td>69.000000</td>\n",
       "      <td>9478.500000</td>\n",
       "      <td>6.000000</td>\n",
       "      <td>5.000000</td>\n",
       "      <td>1973.000000</td>\n",
       "      <td>1994.000000</td>\n",
       "      <td>0.000000</td>\n",
       "      <td>383.500000</td>\n",
       "      <td>...</td>\n",
       "      <td>0.000000</td>\n",
       "      <td>25.000000</td>\n",
       "      <td>0.000000</td>\n",
       "      <td>0.000000</td>\n",
       "      <td>0.000000</td>\n",
       "      <td>0.000000</td>\n",
       "      <td>0.000000</td>\n",
       "      <td>6.000000</td>\n",
       "      <td>2008.000000</td>\n",
       "      <td>163000.000000</td>\n",
       "    </tr>\n",
       "    <tr>\n",
       "      <td>75%</td>\n",
       "      <td>1095.250000</td>\n",
       "      <td>70.000000</td>\n",
       "      <td>80.000000</td>\n",
       "      <td>11601.500000</td>\n",
       "      <td>7.000000</td>\n",
       "      <td>6.000000</td>\n",
       "      <td>2000.000000</td>\n",
       "      <td>2004.000000</td>\n",
       "      <td>166.000000</td>\n",
       "      <td>712.250000</td>\n",
       "      <td>...</td>\n",
       "      <td>168.000000</td>\n",
       "      <td>68.000000</td>\n",
       "      <td>0.000000</td>\n",
       "      <td>0.000000</td>\n",
       "      <td>0.000000</td>\n",
       "      <td>0.000000</td>\n",
       "      <td>0.000000</td>\n",
       "      <td>8.000000</td>\n",
       "      <td>2009.000000</td>\n",
       "      <td>214000.000000</td>\n",
       "    </tr>\n",
       "    <tr>\n",
       "      <td>max</td>\n",
       "      <td>1460.000000</td>\n",
       "      <td>190.000000</td>\n",
       "      <td>313.000000</td>\n",
       "      <td>215245.000000</td>\n",
       "      <td>10.000000</td>\n",
       "      <td>9.000000</td>\n",
       "      <td>2010.000000</td>\n",
       "      <td>2010.000000</td>\n",
       "      <td>1600.000000</td>\n",
       "      <td>5644.000000</td>\n",
       "      <td>...</td>\n",
       "      <td>857.000000</td>\n",
       "      <td>547.000000</td>\n",
       "      <td>552.000000</td>\n",
       "      <td>508.000000</td>\n",
       "      <td>480.000000</td>\n",
       "      <td>738.000000</td>\n",
       "      <td>15500.000000</td>\n",
       "      <td>12.000000</td>\n",
       "      <td>2010.000000</td>\n",
       "      <td>755000.000000</td>\n",
       "    </tr>\n",
       "  </tbody>\n",
       "</table>\n",
       "<p>8 rows × 38 columns</p>\n",
       "</div>"
      ],
      "text/plain": [
       "                Id   MSSubClass  LotFrontage        LotArea  OverallQual  \\\n",
       "count  1460.000000  1460.000000  1201.000000    1460.000000  1460.000000   \n",
       "mean    730.500000    56.897260    70.049958   10516.828082     6.099315   \n",
       "std     421.610009    42.300571    24.284752    9981.264932     1.382997   \n",
       "min       1.000000    20.000000    21.000000    1300.000000     1.000000   \n",
       "25%     365.750000    20.000000    59.000000    7553.500000     5.000000   \n",
       "50%     730.500000    50.000000    69.000000    9478.500000     6.000000   \n",
       "75%    1095.250000    70.000000    80.000000   11601.500000     7.000000   \n",
       "max    1460.000000   190.000000   313.000000  215245.000000    10.000000   \n",
       "\n",
       "       OverallCond    YearBuilt  YearRemodAdd   MasVnrArea   BsmtFinSF1  ...  \\\n",
       "count  1460.000000  1460.000000   1460.000000  1452.000000  1460.000000  ...   \n",
       "mean      5.575342  1971.267808   1984.865753   103.685262   443.639726  ...   \n",
       "std       1.112799    30.202904     20.645407   181.066207   456.098091  ...   \n",
       "min       1.000000  1872.000000   1950.000000     0.000000     0.000000  ...   \n",
       "25%       5.000000  1954.000000   1967.000000     0.000000     0.000000  ...   \n",
       "50%       5.000000  1973.000000   1994.000000     0.000000   383.500000  ...   \n",
       "75%       6.000000  2000.000000   2004.000000   166.000000   712.250000  ...   \n",
       "max       9.000000  2010.000000   2010.000000  1600.000000  5644.000000  ...   \n",
       "\n",
       "        WoodDeckSF  OpenPorchSF  EnclosedPorch    3SsnPorch  ScreenPorch  \\\n",
       "count  1460.000000  1460.000000    1460.000000  1460.000000  1460.000000   \n",
       "mean     94.244521    46.660274      21.954110     3.409589    15.060959   \n",
       "std     125.338794    66.256028      61.119149    29.317331    55.757415   \n",
       "min       0.000000     0.000000       0.000000     0.000000     0.000000   \n",
       "25%       0.000000     0.000000       0.000000     0.000000     0.000000   \n",
       "50%       0.000000    25.000000       0.000000     0.000000     0.000000   \n",
       "75%     168.000000    68.000000       0.000000     0.000000     0.000000   \n",
       "max     857.000000   547.000000     552.000000   508.000000   480.000000   \n",
       "\n",
       "          PoolArea       MiscVal       MoSold       YrSold      SalePrice  \n",
       "count  1460.000000   1460.000000  1460.000000  1460.000000    1460.000000  \n",
       "mean      2.758904     43.489041     6.321918  2007.815753  180921.195890  \n",
       "std      40.177307    496.123024     2.703626     1.328095   79442.502883  \n",
       "min       0.000000      0.000000     1.000000  2006.000000   34900.000000  \n",
       "25%       0.000000      0.000000     5.000000  2007.000000  129975.000000  \n",
       "50%       0.000000      0.000000     6.000000  2008.000000  163000.000000  \n",
       "75%       0.000000      0.000000     8.000000  2009.000000  214000.000000  \n",
       "max     738.000000  15500.000000    12.000000  2010.000000  755000.000000  \n",
       "\n",
       "[8 rows x 38 columns]"
      ]
     },
     "execution_count": 6,
     "metadata": {},
     "output_type": "execute_result"
    }
   ],
   "source": [
    "# Summary of data\n",
    "\n",
    "house_df.describe()"
   ]
  },
  {
   "cell_type": "markdown",
   "metadata": {},
   "source": [
    "## Step 2: EDA on raw Data"
   ]
  },
  {
   "cell_type": "code",
   "execution_count": 7,
   "metadata": {},
   "outputs": [
    {
     "data": {
      "text/plain": [
       "<matplotlib.axes._subplots.AxesSubplot at 0x1a6667d8ac8>"
      ]
     },
     "execution_count": 7,
     "metadata": {},
     "output_type": "execute_result"
    },
    {
     "data": {
      "image/png": "[encoded data removed]",
      "text/plain": [
       "<Figure size 432x288 with 1 Axes>"
      ]
     },
     "metadata": {
      "needs_background": "light"
     },
     "output_type": "display_data"
    }
   ],
   "source": [
    "# distribution plot of 'SalePrice'\n",
    "\n",
    "sns.distplot(house_df['SalePrice'], hist=False)"
   ]
  },
  {
   "cell_type": "markdown",
   "metadata": {},
   "source": [
    "``SalePrice`` variable is close to normal distribution but for linear regression we need the target variable to be normally distributed. So we need to transform this variable."
   ]
  },
  {
   "cell_type": "code",
   "execution_count": 8,
   "metadata": {},
   "outputs": [
    {
     "data": {
      "text/plain": [
       "<matplotlib.axes._subplots.AxesSubplot at 0x1a666b2f988>"
      ]
     },
     "execution_count": 8,
     "metadata": {},
     "output_type": "execute_result"
    },
    {
     "data": {
      "image/png": "[encoded data removed]",
      "text/plain": [
       "<Figure size 432x288 with 1 Axes>"
      ]
     },
     "metadata": {
      "needs_background": "light"
     },
     "output_type": "display_data"
    }
   ],
   "source": [
    "# Bar plot of 'Street' and 'SalePrice'\n",
    "\n",
    "sns.barplot('Street', 'SalePrice', data=house_df)"
   ]
  },
  {
   "cell_type": "markdown",
   "metadata": {},
   "source": [
    "From above plot the mean ``SalePrice`` for a **Paved** street is way higher then a **Graved** street."
   ]
  },
  {
   "cell_type": "code",
   "execution_count": 9,
   "metadata": {
    "scrolled": true
   },
   "outputs": [
    {
     "data": {
      "text/plain": [
       "<matplotlib.axes._subplots.AxesSubplot at 0x1a666bbadc8>"
      ]
     },
     "execution_count": 9,
     "metadata": {},
     "output_type": "execute_result"
    },
    {
     "data": {
      "image/png": "[encoded data removed]",
      "text/plain": [
       "<Figure size 432x288 with 1 Axes>"
      ]
     },
     "metadata": {
      "needs_background": "light"
     },
     "output_type": "display_data"
    }
   ],
   "source": [
    "# Bar plot of 'Utilities' and 'SalePrice'\n",
    "\n",
    "sns.barplot(house_df['Utilities'].fillna('No alley access'), house_df['SalePrice'])"
   ]
  },
  {
   "cell_type": "markdown",
   "metadata": {},
   "source": [
    "From above plot, it is obvious that price of property with all public utilities is way higher and the mean values look very similar to ``Street`` vs ``SalePrice``. It seems like there might be some interconnection between ``Street`` and ``Utilities``."
   ]
  },
  {
   "cell_type": "code",
   "execution_count": 10,
   "metadata": {},
   "outputs": [
    {
     "data": {
      "text/plain": [
       "<matplotlib.axes._subplots.AxesSubplot at 0x1a666c5c848>"
      ]
     },
     "execution_count": 10,
     "metadata": {},
     "output_type": "execute_result"
    },
    {
     "data": {
      "image/png": "[encoded data removed]",
      "text/plain": [
       "<Figure size 432x288 with 1 Axes>"
      ]
     },
     "metadata": {
      "needs_background": "light"
     },
     "output_type": "display_data"
    }
   ],
   "source": [
    "# Bar plot of 'LandSlope'\n",
    "\n",
    "house_df['LandSlope'].value_counts(normalize=True).plot.bar()"
   ]
  },
  {
   "cell_type": "markdown",
   "metadata": {},
   "source": [
    "From above plot, it is clear that ``LandSlope`` is a highly skewed column and should be ignored while modelling the data to prevent the model from giving biased results."
   ]
  },
  {
   "cell_type": "code",
   "execution_count": 11,
   "metadata": {},
   "outputs": [
    {
     "data": {
      "text/plain": [
       "<matplotlib.axes._subplots.AxesSubplot at 0x1a666bbcec8>"
      ]
     },
     "execution_count": 11,
     "metadata": {},
     "output_type": "execute_result"
    },
    {
     "data": {
      "image/png": "[encoded data removed]",
      "text/plain": [
       "<Figure size 432x288 with 1 Axes>"
      ]
     },
     "metadata": {
      "needs_background": "light"
     },
     "output_type": "display_data"
    }
   ],
   "source": [
    "# Calculating age of preoperty and plot the same with 'SalePrice' variable\n",
    "\n",
    "house_df['property_age'] = date.today().year - house_df['YearBuilt']\n",
    "sns.scatterplot(house_df['property_age'], house_df['SalePrice'])"
   ]
  },
  {
   "cell_type": "markdown",
   "metadata": {},
   "source": [
    "From above curve, it is clear the trend is similar to inverse exponential distribution which depicts drop in price with increase in age."
   ]
  },
  {
   "cell_type": "code",
   "execution_count": 12,
   "metadata": {},
   "outputs": [
    {
     "data": {
      "text/plain": [
       "<matplotlib.axes._subplots.AxesSubplot at 0x1a666d44d88>"
      ]
     },
     "execution_count": 12,
     "metadata": {},
     "output_type": "execute_result"
    },
    {
     "data": {
      "image/png": "[encoded data removed]",
      "text/plain": [
       "<Figure size 1080x360 with 2 Axes>"
      ]
     },
     "metadata": {
      "needs_background": "light"
     },
     "output_type": "display_data"
    }
   ],
   "source": [
    "# Mean 'SalePrice' of 'ExterQual' and 'ExterCond'\n",
    "\n",
    "plt.figure(figsize=(15,5))\n",
    "plt.subplot(121)\n",
    "sns.barplot('ExterQual', 'SalePrice', data=house_df)\n",
    "plt.subplot(122)\n",
    "sns.barplot('ExterCond', 'SalePrice', data=house_df)"
   ]
  },
  {
   "cell_type": "code",
   "execution_count": 13,
   "metadata": {},
   "outputs": [
    {
     "data": {
      "text/plain": [
       "<matplotlib.axes._subplots.AxesSubplot at 0x1a666fd63c8>"
      ]
     },
     "execution_count": 13,
     "metadata": {},
     "output_type": "execute_result"
    },
    {
     "data": {
      "image/png": "[encoded data removed]",
      "text/plain": [
       "<Figure size 1080x360 with 2 Axes>"
      ]
     },
     "metadata": {
      "needs_background": "light"
     },
     "output_type": "display_data"
    }
   ],
   "source": [
    "# Median 'SalePrice' of 'ExterQual' and 'ExterCond'\n",
    "\n",
    "plt.figure(figsize=(15,5))\n",
    "plt.subplot(121)\n",
    "sns.barplot('ExterQual', 'SalePrice', data=house_df, estimator=np.median)\n",
    "plt.subplot(122)\n",
    "sns.barplot('ExterCond', 'SalePrice', data=house_df, estimator=np.median)"
   ]
  },
  {
   "cell_type": "markdown",
   "metadata": {},
   "source": [
    "From above plots, it seems like ``ExterQual`` might have significant impact on price than ``ExterCond`` as the mean and median of ``ExterCond`` **TA, GD** and **EX** are quite close to each other."
   ]
  },
  {
   "cell_type": "code",
   "execution_count": 14,
   "metadata": {},
   "outputs": [
    {
     "data": {
      "text/plain": [
       "<matplotlib.axes._subplots.AxesSubplot at 0x1a666e9ed08>"
      ]
     },
     "execution_count": 14,
     "metadata": {},
     "output_type": "execute_result"
    },
    {
     "data": {
      "image/png": "[encoded data removed]",
      "text/plain": [
       "<Figure size 432x288 with 1 Axes>"
      ]
     },
     "metadata": {
      "needs_background": "light"
     },
     "output_type": "display_data"
    }
   ],
   "source": [
    "# Scatter plot of 'TotalBsmtSF' and 'SalePrice'\n",
    "\n",
    "sns.scatterplot(house_df['TotalBsmtSF'], house_df['SalePrice'])"
   ]
  },
  {
   "cell_type": "markdown",
   "metadata": {},
   "source": [
    "It is quite clear that higher the basement area higher the price of the property."
   ]
  },
  {
   "cell_type": "code",
   "execution_count": 15,
   "metadata": {},
   "outputs": [
    {
     "data": {
      "text/plain": [
       "<matplotlib.axes._subplots.AxesSubplot at 0x1a666e74308>"
      ]
     },
     "execution_count": 15,
     "metadata": {},
     "output_type": "execute_result"
    },
    {
     "data": {
      "image/png": "[encoded data removed]",
      "text/plain": [
       "<Figure size 432x288 with 1 Axes>"
      ]
     },
     "metadata": {
      "needs_background": "light"
     },
     "output_type": "display_data"
    }
   ],
   "source": [
    "# Bar plot of 'HeatingQC' and 'SalePrice'\n",
    "\n",
    "sns.barplot('HeatingQC', 'SalePrice', data=house_df)"
   ]
  },
  {
   "cell_type": "markdown",
   "metadata": {},
   "source": [
    "From above polot, ``HeatingQC`` variable has a significant say on the property price as the price is increasing with increase in quality."
   ]
  },
  {
   "cell_type": "code",
   "execution_count": 16,
   "metadata": {},
   "outputs": [
    {
     "data": {
      "text/plain": [
       "Y    93.493151\n",
       "N     6.506849\n",
       "Name: CentralAir, dtype: float64"
      ]
     },
     "execution_count": 16,
     "metadata": {},
     "output_type": "execute_result"
    }
   ],
   "source": [
    "# Value counts of 'CentralAir'\n",
    "\n",
    "house_df['CentralAir'].value_counts(normalize=True)*100"
   ]
  },
  {
   "cell_type": "markdown",
   "metadata": {},
   "source": [
    "Even though Air Conditioning plays a crucial in determining the price of the property, we need to drop from our modelling data as it is highly skewed and if included then our model might give biased results."
   ]
  },
  {
   "cell_type": "code",
   "execution_count": 17,
   "metadata": {},
   "outputs": [
    {
     "data": {
      "text/plain": [
       "<matplotlib.axes._subplots.AxesSubplot at 0x1a66714ccc8>"
      ]
     },
     "execution_count": 17,
     "metadata": {},
     "output_type": "execute_result"
    },
    {
     "data": {
      "image/png": "[encoded data removed]",
      "text/plain": [
       "<Figure size 1080x360 with 2 Axes>"
      ]
     },
     "metadata": {
      "needs_background": "light"
     },
     "output_type": "display_data"
    }
   ],
   "source": [
    "# Scatter plot of '1stFlrSF' and '2ndFlrSF' with 'SalePrice'\n",
    "\n",
    "plt.figure(figsize=(15,5))\n",
    "plt.subplot(121)\n",
    "sns.scatterplot(house_df['1stFlrSF'], house_df['SalePrice'])\n",
    "plt.subplot(122)\n",
    "sns.scatterplot(house_df['2ndFlrSF'], house_df['SalePrice'])"
   ]
  },
  {
   "cell_type": "markdown",
   "metadata": {},
   "source": [
    "From above plot it is evident that the trend in ``1stFlrSF`` plot was lot steeper that then trend in ``2ndFlrSF`` plot. Hence ``1stFlrSF`` has a higher say than ``2ndFlrSF``."
   ]
  },
  {
   "cell_type": "code",
   "execution_count": 18,
   "metadata": {},
   "outputs": [
    {
     "data": {
      "text/plain": [
       "<matplotlib.axes._subplots.AxesSubplot at 0x1a6671d3408>"
      ]
     },
     "execution_count": 18,
     "metadata": {},
     "output_type": "execute_result"
    },
    {
     "data": {
      "image/png": "[encoded data removed]",
      "text/plain": [
       "<Figure size 1152x432 with 2 Axes>"
      ]
     },
     "metadata": {
      "needs_background": "light"
     },
     "output_type": "display_data"
    }
   ],
   "source": [
    "# Median values of 'SalePrice' wrt 'Fireplaces' \n",
    "\n",
    "plt.figure(figsize=(16,6))\n",
    "plt.subplot(121)\n",
    "sns.barplot('Fireplaces', 'SalePrice', data=house_df)\n",
    "plt.subplot(122)\n",
    "sns.barplot('Fireplaces', 'SalePrice', data=house_df, estimator=np.median)"
   ]
  },
  {
   "cell_type": "markdown",
   "metadata": {},
   "source": [
    "From above plot, the mean and median values of ``SalePrice`` with respect to 1, 2 and 3 fireplaces are very close to each other. Hence this variable might not have a significant relation with ``SalePrice`` variable."
   ]
  },
  {
   "cell_type": "code",
   "execution_count": 19,
   "metadata": {},
   "outputs": [
    {
     "data": {
      "text/plain": [
       "<matplotlib.axes._subplots.AxesSubplot at 0x1a6673fe688>"
      ]
     },
     "execution_count": 19,
     "metadata": {},
     "output_type": "execute_result"
    },
    {
     "data": {
      "image/png": "[encoded data removed]",
      "text/plain": [
       "<Figure size 432x288 with 1 Axes>"
      ]
     },
     "metadata": {
      "needs_background": "light"
     },
     "output_type": "display_data"
    }
   ],
   "source": [
    "# Calculating age of Garage and plot the same with 'SalePrice' variable\n",
    "\n",
    "house_df['garage_age'] = date.today().year - house_df['GarageYrBlt']\n",
    "sns.scatterplot(house_df['garage_age'], house_df['SalePrice'])"
   ]
  },
  {
   "cell_type": "markdown",
   "metadata": {},
   "source": [
    "From above curve, it is clear the trend is similar to inverse exponential distribution which depicts drop in price of property with increase in age of Garage. The trend is quite similar to the trend of **Property_age**. \n",
    "\n",
    "Hence it is quite evident that there might be a correlation between **property_age** and **garage_age**. So we have to make sure that we are using only 1 variable while modelling the data to avoid multi collinearity."
   ]
  },
  {
   "cell_type": "code",
   "execution_count": 20,
   "metadata": {},
   "outputs": [
    {
     "data": {
      "text/plain": [
       "<matplotlib.axes._subplots.AxesSubplot at 0x1a667470088>"
      ]
     },
     "execution_count": 20,
     "metadata": {},
     "output_type": "execute_result"
    },
    {
     "data": {
      "image/png": "[encoded data removed]",
      "text/plain": [
       "<Figure size 432x288 with 1 Axes>"
      ]
     },
     "metadata": {
      "needs_background": "light"
     },
     "output_type": "display_data"
    }
   ],
   "source": [
    "# Scatter plot of 'GarageArea' with 'SalePrice'\n",
    "\n",
    "sns.scatterplot(house_df['GarageArea'], house_df['SalePrice'])"
   ]
  },
  {
   "cell_type": "markdown",
   "metadata": {},
   "source": [
    "From above plot it is quite evident that with increase in ``GarageArea`` the price of Property will increase."
   ]
  },
  {
   "cell_type": "code",
   "execution_count": 21,
   "metadata": {},
   "outputs": [
    {
     "data": {
      "text/plain": [
       "<matplotlib.axes._subplots.AxesSubplot at 0x1a6674c28c8>"
      ]
     },
     "execution_count": 21,
     "metadata": {},
     "output_type": "execute_result"
    },
    {
     "data": {
      "image/png": "[encoded data removed]",
      "text/plain": [
       "<Figure size 720x432 with 2 Axes>"
      ]
     },
     "metadata": {
      "needs_background": "light"
     },
     "output_type": "display_data"
    }
   ],
   "source": [
    "# Heatmap of 'LotArea', 'MasVnrArea', '1stFlrSF', '2ndFlrSF', 'GrLivArea', 'GarageArea', 'PoolArea' wrt 'SalePrice'\n",
    "\n",
    "plt.figure(figsize=(10,6))\n",
    "sns.heatmap(house_df[['LotArea', 'MasVnrArea', '1stFlrSF', '2ndFlrSF', 'GrLivArea', 'GarageArea', 'PoolArea', 'SalePrice']].corr(), annot=True, cmap='YlGnBu')"
   ]
  },
  {
   "cell_type": "markdown",
   "metadata": {},
   "source": [
    "From above heatmap, ``GarageArea, GrLiveArea`` and ``1stFlrSF`` have significant say on ``SalePrice`` variable.\n",
    "\n",
    "``GrLiveArea`` is highly correlated with ``GarageArea`` and ``1stFlrSF``. In order to sure that there is no multicollinearity between these variables we might have to use ``GrLiveArea`` for data modelling."
   ]
  },
  {
   "cell_type": "code",
   "execution_count": 22,
   "metadata": {},
   "outputs": [
    {
     "data": {
      "text/plain": [
       "<matplotlib.axes._subplots.AxesSubplot at 0x1a667894708>"
      ]
     },
     "execution_count": 22,
     "metadata": {},
     "output_type": "execute_result"
    },
    {
     "data": {
      "image/png": "[encoded data removed]",
      "text/plain": [
       "<Figure size 576x432 with 2 Axes>"
      ]
     },
     "metadata": {
      "needs_background": "light"
     },
     "output_type": "display_data"
    }
   ],
   "source": [
    "# Heatmap of 'property_age', 'YearRemodAdd_age', 'garage_age', 'YrSold_age' wrt 'SalePrice'\n",
    "\n",
    "plt.figure(figsize=(8,6))\n",
    "house_df['YearRemodAdd_age'] = date.today().year - house_df['YearRemodAdd']\n",
    "house_df['YrSold_age'] = date.today().year - house_df['YrSold']\n",
    "sns.heatmap(house_df[['property_age', 'YearRemodAdd_age', 'garage_age', 'YrSold_age', 'SalePrice']].corr(), annot=True, cmap='YlGnBu')"
   ]
  },
  {
   "cell_type": "markdown",
   "metadata": {},
   "source": [
    "From above plot, ``garage_age, YearRomoveAdd_age`` and ``property_age`` are negatively correlated with ``SalePrice``.\n",
    "\n",
    "``property_age`` variable is highly correlated with ``garage_age`` and ``YearRomoveAdd_age``. Hence we have to use only ``property_age`` while modelling the data to avoid multi collinearity."
   ]
  },
  {
   "cell_type": "markdown",
   "metadata": {},
   "source": [
    "## Step 3: Data Cleaning"
   ]
  },
  {
   "cell_type": "code",
   "execution_count": 23,
   "metadata": {},
   "outputs": [
    {
     "data": {
      "text/plain": [
       "85"
      ]
     },
     "execution_count": 23,
     "metadata": {},
     "output_type": "execute_result"
    }
   ],
   "source": [
    "# Columns length in dataframe\n",
    "\n",
    "len(house_df.columns)"
   ]
  },
  {
   "cell_type": "code",
   "execution_count": 24,
   "metadata": {},
   "outputs": [
    {
     "data": {
      "text/plain": [
       "79"
      ]
     },
     "execution_count": 24,
     "metadata": {},
     "output_type": "execute_result"
    }
   ],
   "source": [
    "# dropping 'Id' and 'MoSold' columns as they don't much informations and also year columns as we have derived age from the \n",
    "#same columns\n",
    "\n",
    "year_cols = ['Id', 'YearBuilt', 'YearRemodAdd', 'GarageYrBlt', 'MoSold', 'YrSold']\n",
    "house_df.drop(columns=year_cols, inplace=True)\n",
    "len(house_df.columns)"
   ]
  },
  {
   "cell_type": "code",
   "execution_count": 25,
   "metadata": {},
   "outputs": [
    {
     "data": {
      "text/plain": [
       "LotFrontage     17.74\n",
       "Alley           93.77\n",
       "MasVnrType       0.55\n",
       "MasVnrArea       0.55\n",
       "BsmtQual         2.53\n",
       "BsmtCond         2.53\n",
       "BsmtExposure     2.60\n",
       "BsmtFinType1     2.53\n",
       "BsmtFinType2     2.60\n",
       "Electrical       0.07\n",
       "FireplaceQu     47.26\n",
       "GarageType       5.55\n",
       "GarageFinish     5.55\n",
       "GarageQual       5.55\n",
       "GarageCond       5.55\n",
       "PoolQC          99.52\n",
       "Fence           80.75\n",
       "MiscFeature     96.30\n",
       "garage_age       5.55\n",
       "dtype: float64"
      ]
     },
     "execution_count": 25,
     "metadata": {},
     "output_type": "execute_result"
    }
   ],
   "source": [
    "# null value percentages\n",
    "\n",
    "def col_wise_null_percentages():\n",
    "    col_wise_null_percentages = round(100*house_df.isnull().sum()/len(house_df.index), 2)\n",
    "    return col_wise_null_percentages[col_wise_null_percentages>0]\n",
    "col_wise_null_percentages()"
   ]
  },
  {
   "cell_type": "markdown",
   "metadata": {},
   "source": [
    "``Alley, PoolQC, Fence`` and ``MiscFeature`` have extremely high null values."
   ]
  },
  {
   "cell_type": "code",
   "execution_count": 26,
   "metadata": {},
   "outputs": [
    {
     "data": {
      "text/plain": [
       "75"
      ]
     },
     "execution_count": 26,
     "metadata": {},
     "output_type": "execute_result"
    }
   ],
   "source": [
    "# drop high null value percentage columns\n",
    "\n",
    "del_cols = ['Alley', 'PoolQC', 'Fence', 'MiscFeature']\n",
    "house_df.drop(columns=del_cols, inplace=True)\n",
    "len(house_df.columns)"
   ]
  },
  {
   "cell_type": "code",
   "execution_count": 27,
   "metadata": {},
   "outputs": [
    {
     "data": {
      "text/plain": [
       "LotFrontage     17.74\n",
       "MasVnrType       0.55\n",
       "MasVnrArea       0.55\n",
       "BsmtQual         2.53\n",
       "BsmtCond         2.53\n",
       "BsmtExposure     2.60\n",
       "BsmtFinType1     2.53\n",
       "BsmtFinType2     2.60\n",
       "Electrical       0.07\n",
       "FireplaceQu     47.26\n",
       "GarageType       5.55\n",
       "GarageFinish     5.55\n",
       "GarageQual       5.55\n",
       "GarageCond       5.55\n",
       "garage_age       5.55\n",
       "dtype: float64"
      ]
     },
     "execution_count": 27,
     "metadata": {},
     "output_type": "execute_result"
    }
   ],
   "source": [
    "# null value percentages\n",
    "\n",
    "col_wise_null_percentages()"
   ]
  },
  {
   "cell_type": "code",
   "execution_count": 28,
   "metadata": {},
   "outputs": [],
   "source": [
    "# Creating seperate category for variables with meaning full missing values\n",
    "\n",
    "house_df['BsmtQual'].fillna('No Basement', inplace=True)\n",
    "house_df['BsmtCond'].fillna('No Basement', inplace=True)\n",
    "house_df['BsmtExposure'].fillna('No Basement', inplace=True)\n",
    "house_df['BsmtFinType1'].fillna('No Basement', inplace=True)\n",
    "house_df['BsmtFinType2'].fillna('No Basement', inplace=True)\n",
    "house_df['FireplaceQu'].fillna('No Fireplace', inplace=True)\n",
    "house_df['GarageType'].fillna('No Garage', inplace=True)\n",
    "house_df['GarageFinish'].fillna('No Garage', inplace=True)\n",
    "house_df['GarageQual'].fillna('No Garage', inplace=True)\n",
    "house_df['GarageCond'].fillna('No Garage', inplace=True)"
   ]
  },
  {
   "cell_type": "code",
   "execution_count": 29,
   "metadata": {},
   "outputs": [
    {
     "data": {
      "text/plain": [
       "LotFrontage    17.74\n",
       "MasVnrType      0.55\n",
       "MasVnrArea      0.55\n",
       "Electrical      0.07\n",
       "garage_age      5.55\n",
       "dtype: float64"
      ]
     },
     "execution_count": 29,
     "metadata": {},
     "output_type": "execute_result"
    }
   ],
   "source": [
    "# null value percentages\n",
    "\n",
    "col_wise_null_percentages()"
   ]
  },
  {
   "cell_type": "code",
   "execution_count": 30,
   "metadata": {},
   "outputs": [
    {
     "data": {
      "text/plain": [
       "Pave    99.589041\n",
       "Grvl     0.410959\n",
       "Name: Street, dtype: float64"
      ]
     },
     "execution_count": 30,
     "metadata": {},
     "output_type": "execute_result"
    }
   ],
   "source": [
    "# value counts of 'Street'\n",
    "\n",
    "house_df['Street'].value_counts(normalize=True)*100"
   ]
  },
  {
   "cell_type": "code",
   "execution_count": 31,
   "metadata": {},
   "outputs": [
    {
     "data": {
      "text/plain": [
       "Lvl    89.794521\n",
       "Bnk     4.315068\n",
       "HLS     3.424658\n",
       "Low     2.465753\n",
       "Name: LandContour, dtype: float64"
      ]
     },
     "execution_count": 31,
     "metadata": {},
     "output_type": "execute_result"
    }
   ],
   "source": [
    "# value counts of 'LandContour'\n",
    "\n",
    "house_df['LandContour'].value_counts(normalize=True)*100"
   ]
  },
  {
   "cell_type": "code",
   "execution_count": 32,
   "metadata": {},
   "outputs": [
    {
     "data": {
      "text/plain": [
       "AllPub    99.931507\n",
       "NoSeWa     0.068493\n",
       "Name: Utilities, dtype: float64"
      ]
     },
     "execution_count": 32,
     "metadata": {},
     "output_type": "execute_result"
    }
   ],
   "source": [
    "# value counts of 'Utilities'\n",
    "\n",
    "house_df['Utilities'].value_counts(normalize=True)*100"
   ]
  },
  {
   "cell_type": "code",
   "execution_count": 33,
   "metadata": {},
   "outputs": [
    {
     "data": {
      "text/plain": [
       "Gtl    94.657534\n",
       "Mod     4.452055\n",
       "Sev     0.890411\n",
       "Name: LandSlope, dtype: float64"
      ]
     },
     "execution_count": 33,
     "metadata": {},
     "output_type": "execute_result"
    }
   ],
   "source": [
    "# value counts of 'LandSlope'\n",
    "\n",
    "house_df['LandSlope'].value_counts(normalize=True)*100"
   ]
  },
  {
   "cell_type": "code",
   "execution_count": 34,
   "metadata": {},
   "outputs": [
    {
     "data": {
      "text/plain": [
       "Norm      98.972603\n",
       "Feedr      0.410959\n",
       "RRNn       0.136986\n",
       "PosN       0.136986\n",
       "Artery     0.136986\n",
       "RRAe       0.068493\n",
       "PosA       0.068493\n",
       "RRAn       0.068493\n",
       "Name: Condition2, dtype: float64"
      ]
     },
     "execution_count": 34,
     "metadata": {},
     "output_type": "execute_result"
    }
   ],
   "source": [
    "# value counts of 'Condition2'\n",
    "\n",
    "house_df['Condition2'].value_counts(normalize=True)*100"
   ]
  },
  {
   "cell_type": "code",
   "execution_count": 35,
   "metadata": {},
   "outputs": [
    {
     "data": {
      "text/plain": [
       "CompShg    98.219178\n",
       "Tar&Grv     0.753425\n",
       "WdShngl     0.410959\n",
       "WdShake     0.342466\n",
       "ClyTile     0.068493\n",
       "Metal       0.068493\n",
       "Membran     0.068493\n",
       "Roll        0.068493\n",
       "Name: RoofMatl, dtype: float64"
      ]
     },
     "execution_count": 35,
     "metadata": {},
     "output_type": "execute_result"
    }
   ],
   "source": [
    "# value counts of 'RoofMatl'\n",
    "\n",
    "house_df['RoofMatl'].value_counts(normalize=True)*100"
   ]
  },
  {
   "cell_type": "markdown",
   "metadata": {},
   "source": [
    "From above analysis, seems like we have skewed columns in out data set.\n",
    "\n",
    "Lets delete such columns to prevent our model from giving biased results."
   ]
  },
  {
   "cell_type": "code",
   "execution_count": 36,
   "metadata": {},
   "outputs": [
    {
     "data": {
      "text/plain": [
       "51"
      ]
     },
     "execution_count": 36,
     "metadata": {},
     "output_type": "execute_result"
    }
   ],
   "source": [
    "# drop skewed variables\n",
    "\n",
    "skewed_vars = ['MSZoning', 'Street', 'LandContour', 'Utilities', 'LandSlope', 'Condition1', 'Condition2', 'BldgType', 'RoofStyle', \n",
    "    'RoofMatl', 'ExterCond', 'BsmtCond', 'BsmtFinType2', 'Heating', 'CentralAir', 'Electrical', 'BsmtHalfBath', 'KitchenAbvGr',\n",
    "    'Functional', 'GarageQual', 'GarageCond', 'PavedDrive', 'SaleType', 'SaleCondition']\n",
    "house_df.drop(columns=skewed_vars, inplace=True)\n",
    "len(house_df.columns)"
   ]
  },
  {
   "cell_type": "code",
   "execution_count": 37,
   "metadata": {},
   "outputs": [
    {
     "data": {
      "text/plain": [
       "LotFrontage    17.74\n",
       "MasVnrType      0.55\n",
       "MasVnrArea      0.55\n",
       "garage_age      5.55\n",
       "dtype: float64"
      ]
     },
     "execution_count": 37,
     "metadata": {},
     "output_type": "execute_result"
    }
   ],
   "source": [
    "# null value percentages\n",
    "\n",
    "col_wise_null_percentages()"
   ]
  },
  {
   "cell_type": "code",
   "execution_count": 38,
   "metadata": {},
   "outputs": [],
   "source": [
    "# Imputing Continuous variables with median and Categorical variables with Mode\n",
    "\n",
    "house_df['LotFrontage'].fillna(house_df['LotFrontage'].median(), inplace=True)\n",
    "house_df['MasVnrType'].fillna(house_df['MasVnrType'].mode()[0], inplace=True)\n",
    "house_df['MasVnrArea'].fillna(house_df['MasVnrArea'].median(), inplace=True)\n",
    "house_df['garage_age'].fillna(house_df['garage_age'].median(), inplace=True)"
   ]
  },
  {
   "cell_type": "code",
   "execution_count": 39,
   "metadata": {},
   "outputs": [
    {
     "data": {
      "text/plain": [
       "False"
      ]
     },
     "execution_count": 39,
     "metadata": {},
     "output_type": "execute_result"
    }
   ],
   "source": [
    "# check for null values\n",
    "\n",
    "house_df.isnull().values.any()"
   ]
  },
  {
   "cell_type": "markdown",
   "metadata": {},
   "source": [
    "## Step 4: Data preparation"
   ]
  },
  {
   "cell_type": "markdown",
   "metadata": {},
   "source": [
    "One of the assumption of Linear Regression is that our target variable shoule be normally distributed. "
   ]
  },
  {
   "cell_type": "code",
   "execution_count": 40,
   "metadata": {},
   "outputs": [
    {
     "name": "stdout",
     "output_type": "stream",
     "text": [
      "count    1460.000000\n",
      "mean       12.024051\n",
      "std         0.399452\n",
      "min        10.460242\n",
      "25%        11.775097\n",
      "50%        12.001505\n",
      "75%        12.273731\n",
      "max        13.534473\n",
      "Name: SalePrice, dtype: float64\n"
     ]
    },
    {
     "data": {
      "text/plain": [
       "<matplotlib.axes._subplots.AxesSubplot at 0x1a667785948>"
      ]
     },
     "execution_count": 40,
     "metadata": {},
     "output_type": "execute_result"
    },
    {
     "data": {
      "image/png": "[encoded data removed]",
      "text/plain": [
       "<Figure size 432x288 with 1 Axes>"
      ]
     },
     "metadata": {
      "needs_background": "light"
     },
     "output_type": "display_data"
    }
   ],
   "source": [
    "# Transforming target variable\n",
    "\n",
    "house_df['SalePrice'] = house_df['SalePrice'].apply(lambda x : np.log(x))\n",
    "print(house_df['SalePrice'].describe())\n",
    "sns.distplot(house_df['SalePrice'], hist=False)"
   ]
  },
  {
   "cell_type": "code",
   "execution_count": 41,
   "metadata": {},
   "outputs": [],
   "source": [
    "# Binning least significant levels into 'other' category\n",
    "\n",
    "house_df['LotShape'] = house_df['LotShape'].apply(lambda x : 'other' if x in ['IR2', 'IR3'] else x)\n",
    "house_df['LotConfig'] = house_df['LotConfig'].apply(lambda x : 'other' if x in ['FR2', 'FR3'] else x)\n",
    "house_df['Neighborhood'] = house_df['Neighborhood'].apply(lambda x : 'other' if x in ['NPkVill', 'Blueste'] else x)\n",
    "house_df['HouseStyle'] = house_df['HouseStyle'].apply(lambda x : 'other' if x not in ['1Story', '2Story', '1.5Fin'] else x)\n",
    "house_df['OverallQual'] = house_df['OverallQual'].apply(lambda x : 'other' if x in [9, 3, 10, 2, 1] else x)\n",
    "house_df['OverallCond'] = house_df['OverallCond'].apply(lambda x : 'other' if x not in [5, 6, 7] else x)\n",
    "house_df['Exterior2nd'] = house_df['Exterior2nd'].apply(lambda x : 'other' if x in ['CBlock', 'Other'] else x)\n",
    "house_df['MasVnrType'] = house_df['MasVnrType'].apply(lambda x : 'other' if x in ['Stone', 'BrkCmn'] else x)\n",
    "house_df['ExterQual'] = house_df['ExterQual'].apply(lambda x : 'other' if x in ['Ex', 'Fa'] else x)\n",
    "house_df['Foundation'] = house_df['Foundation'].apply(lambda x : 'other' if x in ['Slab', 'Stone', 'Wood'] else x)\n",
    "house_df['BsmtQual'] = house_df['BsmtQual'].apply(lambda x : 'other' if x in ['Ex', 'No Basement', 'Fa'] else x)\n",
    "house_df['BsmtFinType1'] = house_df['BsmtFinType1'].apply(lambda x : 'other' if x in ['LwQ', 'No Basement'] else x)\n",
    "house_df['HeatingQC'] = house_df['HeatingQC'].apply(lambda x : 'other' if x in ['Fa', 'Po'] else x)\n",
    "house_df['BsmtFullBath'] = house_df['BsmtFullBath'].apply(lambda x : 'other' if x in [2, 3] else x)\n",
    "house_df['FullBath'] = house_df['FullBath'].apply(lambda x : 'other' if x in [3, 0] else x)\n",
    "house_df['HalfBath'] = house_df['HalfBath'].apply(lambda x : 'other' if x in [2] else x)\n",
    "house_df['BedroomAbvGr'] = house_df['BedroomAbvGr'].apply(lambda x : 'other' if x not in [3, 2, 4] else x)\n",
    "house_df['KitchenQual'] = house_df['KitchenQual'].apply(lambda x : 'other' if x in ['Ex', 'Fa'] else x)\n",
    "house_df['TotRmsAbvGrd'] = house_df['TotRmsAbvGrd'].apply(lambda x : 'other' if x in [14, 2] else x)\n",
    "house_df['Fireplaces'] = house_df['Fireplaces'].apply(lambda x : 'other' if x in [2, 3] else x)\n",
    "house_df['FireplaceQu'] = house_df['FireplaceQu'].apply(lambda x : 'other' if x in ['Fa', 'Ex', 'Po'] else x)\n",
    "house_df['GarageType'] = house_df['GarageType'].apply(lambda x : 'other' if x not in ['Attchd', 'Detchd'] else x)\n",
    "house_df['GarageCars'] = house_df['GarageCars'].apply(lambda x : 'other' if x in [0, 4] else x)"
   ]
  },
  {
   "cell_type": "code",
   "execution_count": 42,
   "metadata": {},
   "outputs": [],
   "source": [
    "# Method to create dummies, concat them to original data frame and drop original column\n",
    "\n",
    "def create_dummies(var1, var2):\n",
    "    df = house_df\n",
    "    dummies = pd.get_dummies(df[var1], prefix=var1)\n",
    "    dummies.drop(columns=[var1+'_'+var2], inplace=True)\n",
    "    df = pd.concat([df, dummies], axis=1)\n",
    "    df.drop(columns=var1, inplace=True)\n",
    "    return df"
   ]
  },
  {
   "cell_type": "code",
   "execution_count": 43,
   "metadata": {},
   "outputs": [],
   "source": [
    "# Create dummies\n",
    "\n",
    "house_df = create_dummies('LotShape', 'other')\n",
    "house_df = create_dummies('LotConfig', 'other')\n",
    "house_df = create_dummies('Neighborhood', 'other')\n",
    "house_df = create_dummies('HouseStyle', 'other')\n",
    "house_df = create_dummies('OverallQual', 'other')\n",
    "house_df = create_dummies('OverallCond', 'other')\n",
    "house_df = create_dummies('Exterior1st', 'CBlock')\n",
    "house_df = create_dummies('Exterior2nd', 'other')\n",
    "house_df = create_dummies('MasVnrType', 'other')\n",
    "house_df = create_dummies('ExterQual', 'other')\n",
    "house_df = create_dummies('Foundation', 'other')\n",
    "house_df = create_dummies('BsmtQual', 'other')\n",
    "house_df = create_dummies('BsmtExposure', 'No Basement')\n",
    "house_df = create_dummies('BsmtFinType1', 'other')\n",
    "house_df = create_dummies('HeatingQC', 'other')\n",
    "house_df = create_dummies('BsmtFullBath', 'other')\n",
    "house_df = create_dummies('FullBath', 'other')\n",
    "house_df = create_dummies('HalfBath', 'other')\n",
    "house_df = create_dummies('BedroomAbvGr', 'other')\n",
    "house_df = create_dummies('KitchenQual', 'other')\n",
    "house_df = create_dummies('TotRmsAbvGrd', 'other')\n",
    "house_df = create_dummies('Fireplaces', 'other')\n",
    "house_df = create_dummies('FireplaceQu', 'other')\n",
    "house_df = create_dummies('GarageType', 'other')\n",
    "house_df = create_dummies('GarageFinish', 'No Garage')\n",
    "house_df = create_dummies('GarageCars', 'other')"
   ]
  },
  {
   "cell_type": "code",
   "execution_count": 44,
   "metadata": {},
   "outputs": [],
   "source": [
    "# perform train test split\n",
    "\n",
    "house_train, house_test = train_test_split(house_df, train_size = 0.7, random_state=100)"
   ]
  },
  {
   "cell_type": "code",
   "execution_count": 45,
   "metadata": {},
   "outputs": [
    {
     "data": {
      "text/html": [
       "<div>\n",
       "<style scoped>\n",
       "    .dataframe tbody tr th:only-of-type {\n",
       "        vertical-align: middle;\n",
       "    }\n",
       "\n",
       "    .dataframe tbody tr th {\n",
       "        vertical-align: top;\n",
       "    }\n",
       "\n",
       "    .dataframe thead th {\n",
       "        text-align: right;\n",
       "    }\n",
       "</style>\n",
       "<table border=\"1\" class=\"dataframe\">\n",
       "  <thead>\n",
       "    <tr style=\"text-align: right;\">\n",
       "      <th></th>\n",
       "      <th>MSSubClass</th>\n",
       "      <th>LotFrontage</th>\n",
       "      <th>LotArea</th>\n",
       "      <th>MasVnrArea</th>\n",
       "      <th>BsmtFinSF1</th>\n",
       "      <th>BsmtFinSF2</th>\n",
       "      <th>BsmtUnfSF</th>\n",
       "      <th>TotalBsmtSF</th>\n",
       "      <th>1stFlrSF</th>\n",
       "      <th>2ndFlrSF</th>\n",
       "      <th>...</th>\n",
       "      <th>FireplaceQu_No Fireplace</th>\n",
       "      <th>FireplaceQu_TA</th>\n",
       "      <th>GarageType_Attchd</th>\n",
       "      <th>GarageType_Detchd</th>\n",
       "      <th>GarageFinish_Fin</th>\n",
       "      <th>GarageFinish_RFn</th>\n",
       "      <th>GarageFinish_Unf</th>\n",
       "      <th>GarageCars_1</th>\n",
       "      <th>GarageCars_2</th>\n",
       "      <th>GarageCars_3</th>\n",
       "    </tr>\n",
       "  </thead>\n",
       "  <tbody>\n",
       "    <tr>\n",
       "      <td>318</td>\n",
       "      <td>60</td>\n",
       "      <td>90.0</td>\n",
       "      <td>9900</td>\n",
       "      <td>256.0</td>\n",
       "      <td>987</td>\n",
       "      <td>0</td>\n",
       "      <td>360</td>\n",
       "      <td>1347</td>\n",
       "      <td>1372</td>\n",
       "      <td>1274</td>\n",
       "      <td>...</td>\n",
       "      <td>0</td>\n",
       "      <td>1</td>\n",
       "      <td>1</td>\n",
       "      <td>0</td>\n",
       "      <td>0</td>\n",
       "      <td>1</td>\n",
       "      <td>0</td>\n",
       "      <td>0</td>\n",
       "      <td>0</td>\n",
       "      <td>1</td>\n",
       "    </tr>\n",
       "    <tr>\n",
       "      <td>239</td>\n",
       "      <td>50</td>\n",
       "      <td>52.0</td>\n",
       "      <td>8741</td>\n",
       "      <td>0.0</td>\n",
       "      <td>94</td>\n",
       "      <td>0</td>\n",
       "      <td>641</td>\n",
       "      <td>735</td>\n",
       "      <td>798</td>\n",
       "      <td>689</td>\n",
       "      <td>...</td>\n",
       "      <td>0</td>\n",
       "      <td>0</td>\n",
       "      <td>0</td>\n",
       "      <td>1</td>\n",
       "      <td>0</td>\n",
       "      <td>0</td>\n",
       "      <td>1</td>\n",
       "      <td>1</td>\n",
       "      <td>0</td>\n",
       "      <td>0</td>\n",
       "    </tr>\n",
       "    <tr>\n",
       "      <td>986</td>\n",
       "      <td>50</td>\n",
       "      <td>59.0</td>\n",
       "      <td>5310</td>\n",
       "      <td>0.0</td>\n",
       "      <td>0</td>\n",
       "      <td>0</td>\n",
       "      <td>485</td>\n",
       "      <td>485</td>\n",
       "      <td>1001</td>\n",
       "      <td>634</td>\n",
       "      <td>...</td>\n",
       "      <td>1</td>\n",
       "      <td>0</td>\n",
       "      <td>1</td>\n",
       "      <td>0</td>\n",
       "      <td>0</td>\n",
       "      <td>0</td>\n",
       "      <td>1</td>\n",
       "      <td>1</td>\n",
       "      <td>0</td>\n",
       "      <td>0</td>\n",
       "    </tr>\n",
       "    <tr>\n",
       "      <td>1416</td>\n",
       "      <td>190</td>\n",
       "      <td>60.0</td>\n",
       "      <td>11340</td>\n",
       "      <td>0.0</td>\n",
       "      <td>0</td>\n",
       "      <td>0</td>\n",
       "      <td>777</td>\n",
       "      <td>777</td>\n",
       "      <td>1246</td>\n",
       "      <td>1044</td>\n",
       "      <td>...</td>\n",
       "      <td>1</td>\n",
       "      <td>0</td>\n",
       "      <td>0</td>\n",
       "      <td>1</td>\n",
       "      <td>0</td>\n",
       "      <td>0</td>\n",
       "      <td>1</td>\n",
       "      <td>0</td>\n",
       "      <td>1</td>\n",
       "      <td>0</td>\n",
       "    </tr>\n",
       "    <tr>\n",
       "      <td>390</td>\n",
       "      <td>50</td>\n",
       "      <td>50.0</td>\n",
       "      <td>8405</td>\n",
       "      <td>0.0</td>\n",
       "      <td>241</td>\n",
       "      <td>391</td>\n",
       "      <td>229</td>\n",
       "      <td>861</td>\n",
       "      <td>961</td>\n",
       "      <td>406</td>\n",
       "      <td>...</td>\n",
       "      <td>1</td>\n",
       "      <td>0</td>\n",
       "      <td>0</td>\n",
       "      <td>1</td>\n",
       "      <td>0</td>\n",
       "      <td>0</td>\n",
       "      <td>1</td>\n",
       "      <td>1</td>\n",
       "      <td>0</td>\n",
       "      <td>0</td>\n",
       "    </tr>\n",
       "    <tr>\n",
       "      <td>...</td>\n",
       "      <td>...</td>\n",
       "      <td>...</td>\n",
       "      <td>...</td>\n",
       "      <td>...</td>\n",
       "      <td>...</td>\n",
       "      <td>...</td>\n",
       "      <td>...</td>\n",
       "      <td>...</td>\n",
       "      <td>...</td>\n",
       "      <td>...</td>\n",
       "      <td>...</td>\n",
       "      <td>...</td>\n",
       "      <td>...</td>\n",
       "      <td>...</td>\n",
       "      <td>...</td>\n",
       "      <td>...</td>\n",
       "      <td>...</td>\n",
       "      <td>...</td>\n",
       "      <td>...</td>\n",
       "      <td>...</td>\n",
       "      <td>...</td>\n",
       "    </tr>\n",
       "    <tr>\n",
       "      <td>802</td>\n",
       "      <td>60</td>\n",
       "      <td>63.0</td>\n",
       "      <td>8199</td>\n",
       "      <td>0.0</td>\n",
       "      <td>648</td>\n",
       "      <td>0</td>\n",
       "      <td>80</td>\n",
       "      <td>728</td>\n",
       "      <td>728</td>\n",
       "      <td>728</td>\n",
       "      <td>...</td>\n",
       "      <td>0</td>\n",
       "      <td>0</td>\n",
       "      <td>1</td>\n",
       "      <td>0</td>\n",
       "      <td>1</td>\n",
       "      <td>0</td>\n",
       "      <td>0</td>\n",
       "      <td>0</td>\n",
       "      <td>1</td>\n",
       "      <td>0</td>\n",
       "    </tr>\n",
       "    <tr>\n",
       "      <td>53</td>\n",
       "      <td>20</td>\n",
       "      <td>68.0</td>\n",
       "      <td>50271</td>\n",
       "      <td>0.0</td>\n",
       "      <td>1810</td>\n",
       "      <td>0</td>\n",
       "      <td>32</td>\n",
       "      <td>1842</td>\n",
       "      <td>1842</td>\n",
       "      <td>0</td>\n",
       "      <td>...</td>\n",
       "      <td>0</td>\n",
       "      <td>0</td>\n",
       "      <td>1</td>\n",
       "      <td>0</td>\n",
       "      <td>1</td>\n",
       "      <td>0</td>\n",
       "      <td>0</td>\n",
       "      <td>0</td>\n",
       "      <td>0</td>\n",
       "      <td>1</td>\n",
       "    </tr>\n",
       "    <tr>\n",
       "      <td>350</td>\n",
       "      <td>120</td>\n",
       "      <td>68.0</td>\n",
       "      <td>7820</td>\n",
       "      <td>362.0</td>\n",
       "      <td>0</td>\n",
       "      <td>0</td>\n",
       "      <td>1869</td>\n",
       "      <td>1869</td>\n",
       "      <td>1869</td>\n",
       "      <td>0</td>\n",
       "      <td>...</td>\n",
       "      <td>0</td>\n",
       "      <td>0</td>\n",
       "      <td>1</td>\n",
       "      <td>0</td>\n",
       "      <td>0</td>\n",
       "      <td>1</td>\n",
       "      <td>0</td>\n",
       "      <td>0</td>\n",
       "      <td>1</td>\n",
       "      <td>0</td>\n",
       "    </tr>\n",
       "    <tr>\n",
       "      <td>79</td>\n",
       "      <td>50</td>\n",
       "      <td>60.0</td>\n",
       "      <td>10440</td>\n",
       "      <td>0.0</td>\n",
       "      <td>0</td>\n",
       "      <td>0</td>\n",
       "      <td>440</td>\n",
       "      <td>440</td>\n",
       "      <td>682</td>\n",
       "      <td>548</td>\n",
       "      <td>...</td>\n",
       "      <td>1</td>\n",
       "      <td>0</td>\n",
       "      <td>0</td>\n",
       "      <td>1</td>\n",
       "      <td>0</td>\n",
       "      <td>0</td>\n",
       "      <td>1</td>\n",
       "      <td>0</td>\n",
       "      <td>1</td>\n",
       "      <td>0</td>\n",
       "    </tr>\n",
       "    <tr>\n",
       "      <td>792</td>\n",
       "      <td>60</td>\n",
       "      <td>92.0</td>\n",
       "      <td>9920</td>\n",
       "      <td>0.0</td>\n",
       "      <td>862</td>\n",
       "      <td>0</td>\n",
       "      <td>255</td>\n",
       "      <td>1117</td>\n",
       "      <td>1127</td>\n",
       "      <td>886</td>\n",
       "      <td>...</td>\n",
       "      <td>0</td>\n",
       "      <td>1</td>\n",
       "      <td>1</td>\n",
       "      <td>0</td>\n",
       "      <td>0</td>\n",
       "      <td>0</td>\n",
       "      <td>1</td>\n",
       "      <td>0</td>\n",
       "      <td>1</td>\n",
       "      <td>0</td>\n",
       "    </tr>\n",
       "  </tbody>\n",
       "</table>\n",
       "<p>1021 rows × 147 columns</p>\n",
       "</div>"
      ],
      "text/plain": [
       "      MSSubClass  LotFrontage  LotArea  MasVnrArea  BsmtFinSF1  BsmtFinSF2  \\\n",
       "318           60         90.0     9900       256.0         987           0   \n",
       "239           50         52.0     8741         0.0          94           0   \n",
       "986           50         59.0     5310         0.0           0           0   \n",
       "1416         190         60.0    11340         0.0           0           0   \n",
       "390           50         50.0     8405         0.0         241         391   \n",
       "...          ...          ...      ...         ...         ...         ...   \n",
       "802           60         63.0     8199         0.0         648           0   \n",
       "53            20         68.0    50271         0.0        1810           0   \n",
       "350          120         68.0     7820       362.0           0           0   \n",
       "79            50         60.0    10440         0.0           0           0   \n",
       "792           60         92.0     9920         0.0         862           0   \n",
       "\n",
       "      BsmtUnfSF  TotalBsmtSF  1stFlrSF  2ndFlrSF  ...  \\\n",
       "318         360         1347      1372      1274  ...   \n",
       "239         641          735       798       689  ...   \n",
       "986         485          485      1001       634  ...   \n",
       "1416        777          777      1246      1044  ...   \n",
       "390         229          861       961       406  ...   \n",
       "...         ...          ...       ...       ...  ...   \n",
       "802          80          728       728       728  ...   \n",
       "53           32         1842      1842         0  ...   \n",
       "350        1869         1869      1869         0  ...   \n",
       "79          440          440       682       548  ...   \n",
       "792         255         1117      1127       886  ...   \n",
       "\n",
       "      FireplaceQu_No Fireplace  FireplaceQu_TA  GarageType_Attchd  \\\n",
       "318                          0               1                  1   \n",
       "239                          0               0                  0   \n",
       "986                          1               0                  1   \n",
       "1416                         1               0                  0   \n",
       "390                          1               0                  0   \n",
       "...                        ...             ...                ...   \n",
       "802                          0               0                  1   \n",
       "53                           0               0                  1   \n",
       "350                          0               0                  1   \n",
       "79                           1               0                  0   \n",
       "792                          0               1                  1   \n",
       "\n",
       "      GarageType_Detchd  GarageFinish_Fin  GarageFinish_RFn  GarageFinish_Unf  \\\n",
       "318                   0                 0                 1                 0   \n",
       "239                   1                 0                 0                 1   \n",
       "986                   0                 0                 0                 1   \n",
       "1416                  1                 0                 0                 1   \n",
       "390                   1                 0                 0                 1   \n",
       "...                 ...               ...               ...               ...   \n",
       "802                   0                 1                 0                 0   \n",
       "53                    0                 1                 0                 0   \n",
       "350                   0                 0                 1                 0   \n",
       "79                    1                 0                 0                 1   \n",
       "792                   0                 0                 0                 1   \n",
       "\n",
       "      GarageCars_1  GarageCars_2  GarageCars_3  \n",
       "318              0             0             1  \n",
       "239              1             0             0  \n",
       "986              1             0             0  \n",
       "1416             0             1             0  \n",
       "390              1             0             0  \n",
       "...            ...           ...           ...  \n",
       "802              0             1             0  \n",
       "53               0             0             1  \n",
       "350              0             1             0  \n",
       "79               0             1             0  \n",
       "792              0             1             0  \n",
       "\n",
       "[1021 rows x 147 columns]"
      ]
     },
     "execution_count": 45,
     "metadata": {},
     "output_type": "execute_result"
    }
   ],
   "source": [
    "# Inspect train dataset\n",
    "\n",
    "house_train"
   ]
  },
  {
   "cell_type": "code",
   "execution_count": 46,
   "metadata": {},
   "outputs": [
    {
     "data": {
      "text/html": [
       "<div>\n",
       "<style scoped>\n",
       "    .dataframe tbody tr th:only-of-type {\n",
       "        vertical-align: middle;\n",
       "    }\n",
       "\n",
       "    .dataframe tbody tr th {\n",
       "        vertical-align: top;\n",
       "    }\n",
       "\n",
       "    .dataframe thead th {\n",
       "        text-align: right;\n",
       "    }\n",
       "</style>\n",
       "<table border=\"1\" class=\"dataframe\">\n",
       "  <thead>\n",
       "    <tr style=\"text-align: right;\">\n",
       "      <th></th>\n",
       "      <th>MSSubClass</th>\n",
       "      <th>LotFrontage</th>\n",
       "      <th>LotArea</th>\n",
       "      <th>MasVnrArea</th>\n",
       "      <th>BsmtFinSF1</th>\n",
       "      <th>BsmtFinSF2</th>\n",
       "      <th>BsmtUnfSF</th>\n",
       "      <th>TotalBsmtSF</th>\n",
       "      <th>1stFlrSF</th>\n",
       "      <th>2ndFlrSF</th>\n",
       "      <th>...</th>\n",
       "      <th>FireplaceQu_No Fireplace</th>\n",
       "      <th>FireplaceQu_TA</th>\n",
       "      <th>GarageType_Attchd</th>\n",
       "      <th>GarageType_Detchd</th>\n",
       "      <th>GarageFinish_Fin</th>\n",
       "      <th>GarageFinish_RFn</th>\n",
       "      <th>GarageFinish_Unf</th>\n",
       "      <th>GarageCars_1</th>\n",
       "      <th>GarageCars_2</th>\n",
       "      <th>GarageCars_3</th>\n",
       "    </tr>\n",
       "  </thead>\n",
       "  <tbody>\n",
       "    <tr>\n",
       "      <td>1436</td>\n",
       "      <td>20</td>\n",
       "      <td>60.0</td>\n",
       "      <td>9000</td>\n",
       "      <td>0.0</td>\n",
       "      <td>616</td>\n",
       "      <td>0</td>\n",
       "      <td>248</td>\n",
       "      <td>864</td>\n",
       "      <td>864</td>\n",
       "      <td>0</td>\n",
       "      <td>...</td>\n",
       "      <td>1</td>\n",
       "      <td>0</td>\n",
       "      <td>0</td>\n",
       "      <td>1</td>\n",
       "      <td>0</td>\n",
       "      <td>0</td>\n",
       "      <td>1</td>\n",
       "      <td>0</td>\n",
       "      <td>1</td>\n",
       "      <td>0</td>\n",
       "    </tr>\n",
       "    <tr>\n",
       "      <td>57</td>\n",
       "      <td>60</td>\n",
       "      <td>89.0</td>\n",
       "      <td>11645</td>\n",
       "      <td>0.0</td>\n",
       "      <td>0</td>\n",
       "      <td>0</td>\n",
       "      <td>860</td>\n",
       "      <td>860</td>\n",
       "      <td>860</td>\n",
       "      <td>860</td>\n",
       "      <td>...</td>\n",
       "      <td>1</td>\n",
       "      <td>0</td>\n",
       "      <td>1</td>\n",
       "      <td>0</td>\n",
       "      <td>0</td>\n",
       "      <td>1</td>\n",
       "      <td>0</td>\n",
       "      <td>0</td>\n",
       "      <td>1</td>\n",
       "      <td>0</td>\n",
       "    </tr>\n",
       "    <tr>\n",
       "      <td>780</td>\n",
       "      <td>20</td>\n",
       "      <td>63.0</td>\n",
       "      <td>7875</td>\n",
       "      <td>38.0</td>\n",
       "      <td>0</td>\n",
       "      <td>0</td>\n",
       "      <td>1237</td>\n",
       "      <td>1237</td>\n",
       "      <td>1253</td>\n",
       "      <td>0</td>\n",
       "      <td>...</td>\n",
       "      <td>0</td>\n",
       "      <td>1</td>\n",
       "      <td>1</td>\n",
       "      <td>0</td>\n",
       "      <td>1</td>\n",
       "      <td>0</td>\n",
       "      <td>0</td>\n",
       "      <td>0</td>\n",
       "      <td>1</td>\n",
       "      <td>0</td>\n",
       "    </tr>\n",
       "    <tr>\n",
       "      <td>382</td>\n",
       "      <td>60</td>\n",
       "      <td>79.0</td>\n",
       "      <td>9245</td>\n",
       "      <td>0.0</td>\n",
       "      <td>0</td>\n",
       "      <td>0</td>\n",
       "      <td>939</td>\n",
       "      <td>939</td>\n",
       "      <td>939</td>\n",
       "      <td>858</td>\n",
       "      <td>...</td>\n",
       "      <td>1</td>\n",
       "      <td>0</td>\n",
       "      <td>1</td>\n",
       "      <td>0</td>\n",
       "      <td>0</td>\n",
       "      <td>1</td>\n",
       "      <td>0</td>\n",
       "      <td>0</td>\n",
       "      <td>1</td>\n",
       "      <td>0</td>\n",
       "    </tr>\n",
       "    <tr>\n",
       "      <td>1170</td>\n",
       "      <td>80</td>\n",
       "      <td>76.0</td>\n",
       "      <td>9880</td>\n",
       "      <td>0.0</td>\n",
       "      <td>522</td>\n",
       "      <td>0</td>\n",
       "      <td>574</td>\n",
       "      <td>1096</td>\n",
       "      <td>1118</td>\n",
       "      <td>0</td>\n",
       "      <td>...</td>\n",
       "      <td>0</td>\n",
       "      <td>0</td>\n",
       "      <td>1</td>\n",
       "      <td>0</td>\n",
       "      <td>1</td>\n",
       "      <td>0</td>\n",
       "      <td>0</td>\n",
       "      <td>1</td>\n",
       "      <td>0</td>\n",
       "      <td>0</td>\n",
       "    </tr>\n",
       "    <tr>\n",
       "      <td>...</td>\n",
       "      <td>...</td>\n",
       "      <td>...</td>\n",
       "      <td>...</td>\n",
       "      <td>...</td>\n",
       "      <td>...</td>\n",
       "      <td>...</td>\n",
       "      <td>...</td>\n",
       "      <td>...</td>\n",
       "      <td>...</td>\n",
       "      <td>...</td>\n",
       "      <td>...</td>\n",
       "      <td>...</td>\n",
       "      <td>...</td>\n",
       "      <td>...</td>\n",
       "      <td>...</td>\n",
       "      <td>...</td>\n",
       "      <td>...</td>\n",
       "      <td>...</td>\n",
       "      <td>...</td>\n",
       "      <td>...</td>\n",
       "      <td>...</td>\n",
       "    </tr>\n",
       "    <tr>\n",
       "      <td>555</td>\n",
       "      <td>45</td>\n",
       "      <td>58.0</td>\n",
       "      <td>6380</td>\n",
       "      <td>0.0</td>\n",
       "      <td>0</td>\n",
       "      <td>0</td>\n",
       "      <td>993</td>\n",
       "      <td>993</td>\n",
       "      <td>1048</td>\n",
       "      <td>0</td>\n",
       "      <td>...</td>\n",
       "      <td>0</td>\n",
       "      <td>0</td>\n",
       "      <td>0</td>\n",
       "      <td>1</td>\n",
       "      <td>0</td>\n",
       "      <td>0</td>\n",
       "      <td>1</td>\n",
       "      <td>1</td>\n",
       "      <td>0</td>\n",
       "      <td>0</td>\n",
       "    </tr>\n",
       "    <tr>\n",
       "      <td>399</td>\n",
       "      <td>60</td>\n",
       "      <td>65.0</td>\n",
       "      <td>8125</td>\n",
       "      <td>100.0</td>\n",
       "      <td>812</td>\n",
       "      <td>0</td>\n",
       "      <td>280</td>\n",
       "      <td>1092</td>\n",
       "      <td>1112</td>\n",
       "      <td>438</td>\n",
       "      <td>...</td>\n",
       "      <td>1</td>\n",
       "      <td>0</td>\n",
       "      <td>1</td>\n",
       "      <td>0</td>\n",
       "      <td>1</td>\n",
       "      <td>0</td>\n",
       "      <td>0</td>\n",
       "      <td>0</td>\n",
       "      <td>1</td>\n",
       "      <td>0</td>\n",
       "    </tr>\n",
       "    <tr>\n",
       "      <td>545</td>\n",
       "      <td>50</td>\n",
       "      <td>69.0</td>\n",
       "      <td>13837</td>\n",
       "      <td>178.0</td>\n",
       "      <td>1002</td>\n",
       "      <td>202</td>\n",
       "      <td>0</td>\n",
       "      <td>1204</td>\n",
       "      <td>1377</td>\n",
       "      <td>806</td>\n",
       "      <td>...</td>\n",
       "      <td>1</td>\n",
       "      <td>0</td>\n",
       "      <td>1</td>\n",
       "      <td>0</td>\n",
       "      <td>0</td>\n",
       "      <td>0</td>\n",
       "      <td>1</td>\n",
       "      <td>0</td>\n",
       "      <td>0</td>\n",
       "      <td>1</td>\n",
       "    </tr>\n",
       "    <tr>\n",
       "      <td>266</td>\n",
       "      <td>60</td>\n",
       "      <td>70.0</td>\n",
       "      <td>11207</td>\n",
       "      <td>0.0</td>\n",
       "      <td>714</td>\n",
       "      <td>0</td>\n",
       "      <td>88</td>\n",
       "      <td>802</td>\n",
       "      <td>802</td>\n",
       "      <td>709</td>\n",
       "      <td>...</td>\n",
       "      <td>0</td>\n",
       "      <td>1</td>\n",
       "      <td>1</td>\n",
       "      <td>0</td>\n",
       "      <td>1</td>\n",
       "      <td>0</td>\n",
       "      <td>0</td>\n",
       "      <td>0</td>\n",
       "      <td>1</td>\n",
       "      <td>0</td>\n",
       "    </tr>\n",
       "    <tr>\n",
       "      <td>210</td>\n",
       "      <td>30</td>\n",
       "      <td>67.0</td>\n",
       "      <td>5604</td>\n",
       "      <td>0.0</td>\n",
       "      <td>468</td>\n",
       "      <td>0</td>\n",
       "      <td>396</td>\n",
       "      <td>864</td>\n",
       "      <td>864</td>\n",
       "      <td>0</td>\n",
       "      <td>...</td>\n",
       "      <td>1</td>\n",
       "      <td>0</td>\n",
       "      <td>0</td>\n",
       "      <td>0</td>\n",
       "      <td>0</td>\n",
       "      <td>0</td>\n",
       "      <td>0</td>\n",
       "      <td>0</td>\n",
       "      <td>0</td>\n",
       "      <td>0</td>\n",
       "    </tr>\n",
       "  </tbody>\n",
       "</table>\n",
       "<p>439 rows × 147 columns</p>\n",
       "</div>"
      ],
      "text/plain": [
       "      MSSubClass  LotFrontage  LotArea  MasVnrArea  BsmtFinSF1  BsmtFinSF2  \\\n",
       "1436          20         60.0     9000         0.0         616           0   \n",
       "57            60         89.0    11645         0.0           0           0   \n",
       "780           20         63.0     7875        38.0           0           0   \n",
       "382           60         79.0     9245         0.0           0           0   \n",
       "1170          80         76.0     9880         0.0         522           0   \n",
       "...          ...          ...      ...         ...         ...         ...   \n",
       "555           45         58.0     6380         0.0           0           0   \n",
       "399           60         65.0     8125       100.0         812           0   \n",
       "545           50         69.0    13837       178.0        1002         202   \n",
       "266           60         70.0    11207         0.0         714           0   \n",
       "210           30         67.0     5604         0.0         468           0   \n",
       "\n",
       "      BsmtUnfSF  TotalBsmtSF  1stFlrSF  2ndFlrSF  ...  \\\n",
       "1436        248          864       864         0  ...   \n",
       "57          860          860       860       860  ...   \n",
       "780        1237         1237      1253         0  ...   \n",
       "382         939          939       939       858  ...   \n",
       "1170        574         1096      1118         0  ...   \n",
       "...         ...          ...       ...       ...  ...   \n",
       "555         993          993      1048         0  ...   \n",
       "399         280         1092      1112       438  ...   \n",
       "545           0         1204      1377       806  ...   \n",
       "266          88          802       802       709  ...   \n",
       "210         396          864       864         0  ...   \n",
       "\n",
       "      FireplaceQu_No Fireplace  FireplaceQu_TA  GarageType_Attchd  \\\n",
       "1436                         1               0                  0   \n",
       "57                           1               0                  1   \n",
       "780                          0               1                  1   \n",
       "382                          1               0                  1   \n",
       "1170                         0               0                  1   \n",
       "...                        ...             ...                ...   \n",
       "555                          0               0                  0   \n",
       "399                          1               0                  1   \n",
       "545                          1               0                  1   \n",
       "266                          0               1                  1   \n",
       "210                          1               0                  0   \n",
       "\n",
       "      GarageType_Detchd  GarageFinish_Fin  GarageFinish_RFn  GarageFinish_Unf  \\\n",
       "1436                  1                 0                 0                 1   \n",
       "57                    0                 0                 1                 0   \n",
       "780                   0                 1                 0                 0   \n",
       "382                   0                 0                 1                 0   \n",
       "1170                  0                 1                 0                 0   \n",
       "...                 ...               ...               ...               ...   \n",
       "555                   1                 0                 0                 1   \n",
       "399                   0                 1                 0                 0   \n",
       "545                   0                 0                 0                 1   \n",
       "266                   0                 1                 0                 0   \n",
       "210                   0                 0                 0                 0   \n",
       "\n",
       "      GarageCars_1  GarageCars_2  GarageCars_3  \n",
       "1436             0             1             0  \n",
       "57               0             1             0  \n",
       "780              0             1             0  \n",
       "382              0             1             0  \n",
       "1170             1             0             0  \n",
       "...            ...           ...           ...  \n",
       "555              1             0             0  \n",
       "399              0             1             0  \n",
       "545              0             0             1  \n",
       "266              0             1             0  \n",
       "210              0             0             0  \n",
       "\n",
       "[439 rows x 147 columns]"
      ]
     },
     "execution_count": 46,
     "metadata": {},
     "output_type": "execute_result"
    }
   ],
   "source": [
    "# Inspect test dataset\n",
    "\n",
    "house_test"
   ]
  },
  {
   "cell_type": "code",
   "execution_count": 47,
   "metadata": {},
   "outputs": [],
   "source": [
    "# Create X_train and y_train\n",
    "\n",
    "y_train = house_train.pop('SalePrice')\n",
    "X_train = house_train"
   ]
  },
  {
   "cell_type": "code",
   "execution_count": 48,
   "metadata": {},
   "outputs": [],
   "source": [
    "# Scaling Continuous variables\n",
    "\n",
    "cont_vars = ['MSSubClass', 'LotFrontage', 'LotArea', 'MasVnrArea', 'BsmtFinSF1', 'BsmtFinSF2', 'BsmtUnfSF', 'TotalBsmtSF', '1stFlrSF', \n",
    " '2ndFlrSF', 'LowQualFinSF', 'GrLivArea', 'GarageArea', 'WoodDeckSF', 'OpenPorchSF', 'EnclosedPorch', '3SsnPorch', 'ScreenPorch',\n",
    " 'PoolArea', 'MiscVal', 'property_age', 'garage_age', 'YearRemodAdd_age', 'YrSold_age']\n",
    "\n",
    "scaler = StandardScaler()\n",
    "X_train[cont_vars] = scaler.fit_transform(X_train[cont_vars])"
   ]
  },
  {
   "cell_type": "code",
   "execution_count": 49,
   "metadata": {},
   "outputs": [],
   "source": [
    "# Create X_test and y_test\n",
    "\n",
    "y_test = house_test.pop('SalePrice')\n",
    "X_test = house_test\n",
    "X_test[cont_vars] = scaler.transform(X_test[cont_vars])"
   ]
  },
  {
   "cell_type": "markdown",
   "metadata": {},
   "source": [
    "## Step 5: Ridge Regression"
   ]
  },
  {
   "cell_type": "code",
   "execution_count": 50,
   "metadata": {},
   "outputs": [
    {
     "data": {
      "text/plain": [
       "Index(['1stFlrSF', '2ndFlrSF', 'property_age', 'YearRemodAdd_age',\n",
       "       'LotConfig_CulDSac', 'Neighborhood_Blmngtn', 'Neighborhood_BrDale',\n",
       "       'Neighborhood_ClearCr', 'Neighborhood_Crawfor', 'Neighborhood_Edwards',\n",
       "       'Neighborhood_IDOTRR', 'Neighborhood_MeadowV', 'Neighborhood_NoRidge',\n",
       "       'Neighborhood_NridgHt', 'Neighborhood_OldTown', 'Neighborhood_Sawyer',\n",
       "       'Neighborhood_Somerst', 'Neighborhood_StoneBr', 'Neighborhood_Veenker',\n",
       "       'HouseStyle_2Story', 'OverallQual_8', 'OverallCond_6', 'OverallCond_7',\n",
       "       'Exterior1st_AsbShng', 'Exterior1st_BrkComm', 'Exterior1st_BrkFace',\n",
       "       'Exterior2nd_Brk Cmn', 'Exterior2nd_Stone', 'Exterior2nd_Stucco',\n",
       "       'Exterior2nd_Wd Shng', 'BsmtExposure_Av', 'BsmtExposure_Gd',\n",
       "       'BsmtExposure_Mn', 'BsmtExposure_No', 'BsmtFinType1_GLQ', 'FullBath_2',\n",
       "       'KitchenQual_Gd', 'KitchenQual_TA', 'TotRmsAbvGrd_3', 'TotRmsAbvGrd_4',\n",
       "       'TotRmsAbvGrd_11', 'TotRmsAbvGrd_12', 'FireplaceQu_No Fireplace',\n",
       "       'GarageType_Attchd', 'GarageType_Detchd', 'GarageFinish_Fin',\n",
       "       'GarageFinish_RFn', 'GarageFinish_Unf', 'GarageCars_1', 'GarageCars_2'],\n",
       "      dtype='object')"
      ]
     },
     "execution_count": 50,
     "metadata": {},
     "output_type": "execute_result"
    }
   ],
   "source": [
    "# Feature selection using RFE\n",
    "\n",
    "ridge = Ridge()\n",
    "ridge.fit(X_train, y_train)\n",
    "\n",
    "rfe = RFE(ridge, 50)\n",
    "rfe = rfe.fit(X_train, y_train)\n",
    "\n",
    "ridge_col = (X_train.columns[rfe.support_])\n",
    "ridge_col"
   ]
  },
  {
   "cell_type": "code",
   "execution_count": 51,
   "metadata": {},
   "outputs": [
    {
     "name": "stdout",
     "output_type": "stream",
     "text": [
      "Fitting 5 folds for each of 17 candidates, totalling 85 fits\n"
     ]
    },
    {
     "name": "stderr",
     "output_type": "stream",
     "text": [
      "[Parallel(n_jobs=-1)]: Using backend LokyBackend with 8 concurrent workers.\n",
      "[Parallel(n_jobs=-1)]: Done  34 tasks      | elapsed:    5.2s\n",
      "[Parallel(n_jobs=-1)]: Done  85 out of  85 | elapsed:    5.4s finished\n"
     ]
    },
    {
     "data": {
      "text/plain": [
       "GridSearchCV(cv=5, error_score='raise-deprecating',\n",
       "             estimator=Ridge(alpha=1.0, copy_X=True, fit_intercept=True,\n",
       "                             max_iter=None, normalize=False, random_state=None,\n",
       "                             solver='auto', tol=0.001),\n",
       "             iid='warn', n_jobs=-1,\n",
       "             param_grid={'alpha': [0.0001, 0.001, 0.1, 0.2, 0.3, 0.4, 0.5, 1, 2,\n",
       "                                   3, 4, 5, 10, 15, 20, 25, 50]},\n",
       "             pre_dispatch='2*n_jobs', refit=True, return_train_score=True,\n",
       "             scoring='neg_mean_absolute_error', verbose=1)"
      ]
     },
     "execution_count": 51,
     "metadata": {},
     "output_type": "execute_result"
    }
   ],
   "source": [
    "# Hyper parameter tuning\n",
    "\n",
    "params = {\n",
    "    'alpha' : [0.0001, 0.001, 0.1, 0.2, 0.3, 0.4, 0.5, 1, 2, 3, 4, 5, 10, 15, 20, 25, 50]\n",
    "}\n",
    "\n",
    "ridge_model_cv = GridSearchCV(estimator = ridge,\n",
    "                       param_grid = params,\n",
    "                       scoring = 'neg_mean_absolute_error',\n",
    "                       n_jobs = -1,\n",
    "                       cv = 5,\n",
    "                       verbose = 1,\n",
    "                       return_train_score=True)\n",
    "ridge_model_cv.fit(X_train[ridge_col], y_train)"
   ]
  },
  {
   "cell_type": "code",
   "execution_count": 52,
   "metadata": {},
   "outputs": [
    {
     "data": {
      "text/html": [
       "<div>\n",
       "<style scoped>\n",
       "    .dataframe tbody tr th:only-of-type {\n",
       "        vertical-align: middle;\n",
       "    }\n",
       "\n",
       "    .dataframe tbody tr th {\n",
       "        vertical-align: top;\n",
       "    }\n",
       "\n",
       "    .dataframe thead th {\n",
       "        text-align: right;\n",
       "    }\n",
       "</style>\n",
       "<table border=\"1\" class=\"dataframe\">\n",
       "  <thead>\n",
       "    <tr style=\"text-align: right;\">\n",
       "      <th></th>\n",
       "      <th>mean_fit_time</th>\n",
       "      <th>std_fit_time</th>\n",
       "      <th>mean_score_time</th>\n",
       "      <th>std_score_time</th>\n",
       "      <th>param_alpha</th>\n",
       "      <th>params</th>\n",
       "      <th>split0_test_score</th>\n",
       "      <th>split1_test_score</th>\n",
       "      <th>split2_test_score</th>\n",
       "      <th>split3_test_score</th>\n",
       "      <th>...</th>\n",
       "      <th>mean_test_score</th>\n",
       "      <th>std_test_score</th>\n",
       "      <th>rank_test_score</th>\n",
       "      <th>split0_train_score</th>\n",
       "      <th>split1_train_score</th>\n",
       "      <th>split2_train_score</th>\n",
       "      <th>split3_train_score</th>\n",
       "      <th>split4_train_score</th>\n",
       "      <th>mean_train_score</th>\n",
       "      <th>std_train_score</th>\n",
       "    </tr>\n",
       "  </thead>\n",
       "  <tbody>\n",
       "    <tr>\n",
       "      <td>0</td>\n",
       "      <td>0.023083</td>\n",
       "      <td>0.004913</td>\n",
       "      <td>0.002400</td>\n",
       "      <td>0.002945</td>\n",
       "      <td>0.0001</td>\n",
       "      <td>{'alpha': 0.0001}</td>\n",
       "      <td>-0.098476</td>\n",
       "      <td>-0.103243</td>\n",
       "      <td>-0.108140</td>\n",
       "      <td>-0.106632</td>\n",
       "      <td>...</td>\n",
       "      <td>-0.103999</td>\n",
       "      <td>0.003331</td>\n",
       "      <td>12</td>\n",
       "      <td>-0.098812</td>\n",
       "      <td>-0.094067</td>\n",
       "      <td>-0.094148</td>\n",
       "      <td>-0.097422</td>\n",
       "      <td>-0.097931</td>\n",
       "      <td>-0.096476</td>\n",
       "      <td>0.001984</td>\n",
       "    </tr>\n",
       "    <tr>\n",
       "      <td>1</td>\n",
       "      <td>0.019578</td>\n",
       "      <td>0.014132</td>\n",
       "      <td>0.003832</td>\n",
       "      <td>0.003661</td>\n",
       "      <td>0.001</td>\n",
       "      <td>{'alpha': 0.001}</td>\n",
       "      <td>-0.098473</td>\n",
       "      <td>-0.103242</td>\n",
       "      <td>-0.108139</td>\n",
       "      <td>-0.106630</td>\n",
       "      <td>...</td>\n",
       "      <td>-0.103997</td>\n",
       "      <td>0.003331</td>\n",
       "      <td>11</td>\n",
       "      <td>-0.098812</td>\n",
       "      <td>-0.094067</td>\n",
       "      <td>-0.094148</td>\n",
       "      <td>-0.097421</td>\n",
       "      <td>-0.097931</td>\n",
       "      <td>-0.096476</td>\n",
       "      <td>0.001984</td>\n",
       "    </tr>\n",
       "    <tr>\n",
       "      <td>2</td>\n",
       "      <td>0.009021</td>\n",
       "      <td>0.002210</td>\n",
       "      <td>0.003188</td>\n",
       "      <td>0.002672</td>\n",
       "      <td>0.1</td>\n",
       "      <td>{'alpha': 0.1}</td>\n",
       "      <td>-0.098217</td>\n",
       "      <td>-0.103212</td>\n",
       "      <td>-0.108020</td>\n",
       "      <td>-0.106362</td>\n",
       "      <td>...</td>\n",
       "      <td>-0.103854</td>\n",
       "      <td>0.003349</td>\n",
       "      <td>10</td>\n",
       "      <td>-0.098796</td>\n",
       "      <td>-0.094076</td>\n",
       "      <td>-0.094087</td>\n",
       "      <td>-0.097357</td>\n",
       "      <td>-0.097904</td>\n",
       "      <td>-0.096444</td>\n",
       "      <td>0.001983</td>\n",
       "    </tr>\n",
       "    <tr>\n",
       "      <td>3</td>\n",
       "      <td>0.005218</td>\n",
       "      <td>0.003869</td>\n",
       "      <td>0.005018</td>\n",
       "      <td>0.003703</td>\n",
       "      <td>0.2</td>\n",
       "      <td>{'alpha': 0.2}</td>\n",
       "      <td>-0.097986</td>\n",
       "      <td>-0.103233</td>\n",
       "      <td>-0.107914</td>\n",
       "      <td>-0.106101</td>\n",
       "      <td>...</td>\n",
       "      <td>-0.103731</td>\n",
       "      <td>0.003363</td>\n",
       "      <td>9</td>\n",
       "      <td>-0.098779</td>\n",
       "      <td>-0.094089</td>\n",
       "      <td>-0.094032</td>\n",
       "      <td>-0.097296</td>\n",
       "      <td>-0.097881</td>\n",
       "      <td>-0.096416</td>\n",
       "      <td>0.001980</td>\n",
       "    </tr>\n",
       "    <tr>\n",
       "      <td>4</td>\n",
       "      <td>0.008003</td>\n",
       "      <td>0.000366</td>\n",
       "      <td>0.001816</td>\n",
       "      <td>0.003157</td>\n",
       "      <td>0.3</td>\n",
       "      <td>{'alpha': 0.3}</td>\n",
       "      <td>-0.097774</td>\n",
       "      <td>-0.103303</td>\n",
       "      <td>-0.107815</td>\n",
       "      <td>-0.105883</td>\n",
       "      <td>...</td>\n",
       "      <td>-0.103631</td>\n",
       "      <td>0.003381</td>\n",
       "      <td>8</td>\n",
       "      <td>-0.098764</td>\n",
       "      <td>-0.094101</td>\n",
       "      <td>-0.093997</td>\n",
       "      <td>-0.097239</td>\n",
       "      <td>-0.097864</td>\n",
       "      <td>-0.096393</td>\n",
       "      <td>0.001974</td>\n",
       "    </tr>\n",
       "    <tr>\n",
       "      <td>5</td>\n",
       "      <td>0.008098</td>\n",
       "      <td>0.001036</td>\n",
       "      <td>0.000399</td>\n",
       "      <td>0.000798</td>\n",
       "      <td>0.4</td>\n",
       "      <td>{'alpha': 0.4}</td>\n",
       "      <td>-0.097572</td>\n",
       "      <td>-0.103362</td>\n",
       "      <td>-0.107729</td>\n",
       "      <td>-0.105683</td>\n",
       "      <td>...</td>\n",
       "      <td>-0.103539</td>\n",
       "      <td>0.003404</td>\n",
       "      <td>7</td>\n",
       "      <td>-0.098749</td>\n",
       "      <td>-0.094114</td>\n",
       "      <td>-0.093976</td>\n",
       "      <td>-0.097184</td>\n",
       "      <td>-0.097845</td>\n",
       "      <td>-0.096373</td>\n",
       "      <td>0.001966</td>\n",
       "    </tr>\n",
       "    <tr>\n",
       "      <td>6</td>\n",
       "      <td>0.007763</td>\n",
       "      <td>0.006109</td>\n",
       "      <td>0.002608</td>\n",
       "      <td>0.002822</td>\n",
       "      <td>0.5</td>\n",
       "      <td>{'alpha': 0.5}</td>\n",
       "      <td>-0.097377</td>\n",
       "      <td>-0.103413</td>\n",
       "      <td>-0.107673</td>\n",
       "      <td>-0.105489</td>\n",
       "      <td>...</td>\n",
       "      <td>-0.103458</td>\n",
       "      <td>0.003435</td>\n",
       "      <td>5</td>\n",
       "      <td>-0.098740</td>\n",
       "      <td>-0.094128</td>\n",
       "      <td>-0.093959</td>\n",
       "      <td>-0.097136</td>\n",
       "      <td>-0.097841</td>\n",
       "      <td>-0.096361</td>\n",
       "      <td>0.001960</td>\n",
       "    </tr>\n",
       "    <tr>\n",
       "      <td>7</td>\n",
       "      <td>0.005353</td>\n",
       "      <td>0.005876</td>\n",
       "      <td>0.004950</td>\n",
       "      <td>0.003651</td>\n",
       "      <td>1</td>\n",
       "      <td>{'alpha': 1}</td>\n",
       "      <td>-0.096531</td>\n",
       "      <td>-0.103589</td>\n",
       "      <td>-0.107448</td>\n",
       "      <td>-0.104686</td>\n",
       "      <td>...</td>\n",
       "      <td>-0.103114</td>\n",
       "      <td>0.003606</td>\n",
       "      <td>3</td>\n",
       "      <td>-0.098751</td>\n",
       "      <td>-0.094269</td>\n",
       "      <td>-0.093897</td>\n",
       "      <td>-0.097000</td>\n",
       "      <td>-0.097904</td>\n",
       "      <td>-0.096364</td>\n",
       "      <td>0.001947</td>\n",
       "    </tr>\n",
       "    <tr>\n",
       "      <td>8</td>\n",
       "      <td>0.010407</td>\n",
       "      <td>0.003298</td>\n",
       "      <td>0.002973</td>\n",
       "      <td>0.001258</td>\n",
       "      <td>2</td>\n",
       "      <td>{'alpha': 2}</td>\n",
       "      <td>-0.095454</td>\n",
       "      <td>-0.104027</td>\n",
       "      <td>-0.107509</td>\n",
       "      <td>-0.103878</td>\n",
       "      <td>...</td>\n",
       "      <td>-0.102907</td>\n",
       "      <td>0.003994</td>\n",
       "      <td>1</td>\n",
       "      <td>-0.099010</td>\n",
       "      <td>-0.094535</td>\n",
       "      <td>-0.093973</td>\n",
       "      <td>-0.097005</td>\n",
       "      <td>-0.098115</td>\n",
       "      <td>-0.096528</td>\n",
       "      <td>0.001970</td>\n",
       "    </tr>\n",
       "    <tr>\n",
       "      <td>9</td>\n",
       "      <td>0.004790</td>\n",
       "      <td>0.002932</td>\n",
       "      <td>0.003385</td>\n",
       "      <td>0.003415</td>\n",
       "      <td>3</td>\n",
       "      <td>{'alpha': 3}</td>\n",
       "      <td>-0.094782</td>\n",
       "      <td>-0.104515</td>\n",
       "      <td>-0.107914</td>\n",
       "      <td>-0.103582</td>\n",
       "      <td>...</td>\n",
       "      <td>-0.103042</td>\n",
       "      <td>0.004397</td>\n",
       "      <td>2</td>\n",
       "      <td>-0.099395</td>\n",
       "      <td>-0.094946</td>\n",
       "      <td>-0.094212</td>\n",
       "      <td>-0.097158</td>\n",
       "      <td>-0.098402</td>\n",
       "      <td>-0.096823</td>\n",
       "      <td>0.001978</td>\n",
       "    </tr>\n",
       "    <tr>\n",
       "      <td>10</td>\n",
       "      <td>0.006734</td>\n",
       "      <td>0.002466</td>\n",
       "      <td>0.000406</td>\n",
       "      <td>0.000812</td>\n",
       "      <td>4</td>\n",
       "      <td>{'alpha': 4}</td>\n",
       "      <td>-0.094234</td>\n",
       "      <td>-0.105095</td>\n",
       "      <td>-0.108266</td>\n",
       "      <td>-0.103296</td>\n",
       "      <td>...</td>\n",
       "      <td>-0.103212</td>\n",
       "      <td>0.004775</td>\n",
       "      <td>4</td>\n",
       "      <td>-0.099821</td>\n",
       "      <td>-0.095449</td>\n",
       "      <td>-0.094482</td>\n",
       "      <td>-0.097482</td>\n",
       "      <td>-0.098673</td>\n",
       "      <td>-0.097181</td>\n",
       "      <td>0.001979</td>\n",
       "    </tr>\n",
       "    <tr>\n",
       "      <td>11</td>\n",
       "      <td>0.009504</td>\n",
       "      <td>0.003113</td>\n",
       "      <td>0.000399</td>\n",
       "      <td>0.000489</td>\n",
       "      <td>5</td>\n",
       "      <td>{'alpha': 5}</td>\n",
       "      <td>-0.093949</td>\n",
       "      <td>-0.105630</td>\n",
       "      <td>-0.108752</td>\n",
       "      <td>-0.103089</td>\n",
       "      <td>...</td>\n",
       "      <td>-0.103481</td>\n",
       "      <td>0.005104</td>\n",
       "      <td>6</td>\n",
       "      <td>-0.100279</td>\n",
       "      <td>-0.095946</td>\n",
       "      <td>-0.094876</td>\n",
       "      <td>-0.097887</td>\n",
       "      <td>-0.098978</td>\n",
       "      <td>-0.097593</td>\n",
       "      <td>0.001966</td>\n",
       "    </tr>\n",
       "    <tr>\n",
       "      <td>12</td>\n",
       "      <td>0.006555</td>\n",
       "      <td>0.002344</td>\n",
       "      <td>0.001928</td>\n",
       "      <td>0.002961</td>\n",
       "      <td>10</td>\n",
       "      <td>{'alpha': 10}</td>\n",
       "      <td>-0.093937</td>\n",
       "      <td>-0.107911</td>\n",
       "      <td>-0.110954</td>\n",
       "      <td>-0.102325</td>\n",
       "      <td>...</td>\n",
       "      <td>-0.105063</td>\n",
       "      <td>0.006345</td>\n",
       "      <td>13</td>\n",
       "      <td>-0.102718</td>\n",
       "      <td>-0.098398</td>\n",
       "      <td>-0.097232</td>\n",
       "      <td>-0.100412</td>\n",
       "      <td>-0.100852</td>\n",
       "      <td>-0.099922</td>\n",
       "      <td>0.001923</td>\n",
       "    </tr>\n",
       "    <tr>\n",
       "      <td>13</td>\n",
       "      <td>0.005069</td>\n",
       "      <td>0.003759</td>\n",
       "      <td>0.001807</td>\n",
       "      <td>0.003139</td>\n",
       "      <td>15</td>\n",
       "      <td>{'alpha': 15}</td>\n",
       "      <td>-0.094961</td>\n",
       "      <td>-0.109825</td>\n",
       "      <td>-0.112841</td>\n",
       "      <td>-0.102430</td>\n",
       "      <td>...</td>\n",
       "      <td>-0.106771</td>\n",
       "      <td>0.007143</td>\n",
       "      <td>14</td>\n",
       "      <td>-0.104999</td>\n",
       "      <td>-0.100620</td>\n",
       "      <td>-0.099338</td>\n",
       "      <td>-0.102730</td>\n",
       "      <td>-0.102655</td>\n",
       "      <td>-0.102068</td>\n",
       "      <td>0.001945</td>\n",
       "    </tr>\n",
       "    <tr>\n",
       "      <td>14</td>\n",
       "      <td>0.008003</td>\n",
       "      <td>0.000957</td>\n",
       "      <td>0.000200</td>\n",
       "      <td>0.000399</td>\n",
       "      <td>20</td>\n",
       "      <td>{'alpha': 20}</td>\n",
       "      <td>-0.096141</td>\n",
       "      <td>-0.111376</td>\n",
       "      <td>-0.114354</td>\n",
       "      <td>-0.103229</td>\n",
       "      <td>...</td>\n",
       "      <td>-0.108326</td>\n",
       "      <td>0.007601</td>\n",
       "      <td>15</td>\n",
       "      <td>-0.106925</td>\n",
       "      <td>-0.102421</td>\n",
       "      <td>-0.101069</td>\n",
       "      <td>-0.104723</td>\n",
       "      <td>-0.104172</td>\n",
       "      <td>-0.103862</td>\n",
       "      <td>0.002005</td>\n",
       "    </tr>\n",
       "    <tr>\n",
       "      <td>15</td>\n",
       "      <td>0.006869</td>\n",
       "      <td>0.003014</td>\n",
       "      <td>0.001320</td>\n",
       "      <td>0.002639</td>\n",
       "      <td>25</td>\n",
       "      <td>{'alpha': 25}</td>\n",
       "      <td>-0.097122</td>\n",
       "      <td>-0.112548</td>\n",
       "      <td>-0.115701</td>\n",
       "      <td>-0.104026</td>\n",
       "      <td>...</td>\n",
       "      <td>-0.109616</td>\n",
       "      <td>0.007960</td>\n",
       "      <td>16</td>\n",
       "      <td>-0.108492</td>\n",
       "      <td>-0.103868</td>\n",
       "      <td>-0.102590</td>\n",
       "      <td>-0.106353</td>\n",
       "      <td>-0.105494</td>\n",
       "      <td>-0.105359</td>\n",
       "      <td>0.002035</td>\n",
       "    </tr>\n",
       "    <tr>\n",
       "      <td>16</td>\n",
       "      <td>0.006479</td>\n",
       "      <td>0.003377</td>\n",
       "      <td>0.003419</td>\n",
       "      <td>0.003811</td>\n",
       "      <td>50</td>\n",
       "      <td>{'alpha': 50}</td>\n",
       "      <td>-0.100517</td>\n",
       "      <td>-0.116545</td>\n",
       "      <td>-0.119927</td>\n",
       "      <td>-0.106803</td>\n",
       "      <td>...</td>\n",
       "      <td>-0.113878</td>\n",
       "      <td>0.009074</td>\n",
       "      <td>17</td>\n",
       "      <td>-0.114090</td>\n",
       "      <td>-0.108900</td>\n",
       "      <td>-0.108109</td>\n",
       "      <td>-0.111933</td>\n",
       "      <td>-0.110262</td>\n",
       "      <td>-0.110659</td>\n",
       "      <td>0.002152</td>\n",
       "    </tr>\n",
       "  </tbody>\n",
       "</table>\n",
       "<p>17 rows × 21 columns</p>\n",
       "</div>"
      ],
      "text/plain": [
       "    mean_fit_time  std_fit_time  mean_score_time  std_score_time param_alpha  \\\n",
       "0        0.023083      0.004913         0.002400        0.002945      0.0001   \n",
       "1        0.019578      0.014132         0.003832        0.003661       0.001   \n",
       "2        0.009021      0.002210         0.003188        0.002672         0.1   \n",
       "3        0.005218      0.003869         0.005018        0.003703         0.2   \n",
       "4        0.008003      0.000366         0.001816        0.003157         0.3   \n",
       "5        0.008098      0.001036         0.000399        0.000798         0.4   \n",
       "6        0.007763      0.006109         0.002608        0.002822         0.5   \n",
       "7        0.005353      0.005876         0.004950        0.003651           1   \n",
       "8        0.010407      0.003298         0.002973        0.001258           2   \n",
       "9        0.004790      0.002932         0.003385        0.003415           3   \n",
       "10       0.006734      0.002466         0.000406        0.000812           4   \n",
       "11       0.009504      0.003113         0.000399        0.000489           5   \n",
       "12       0.006555      0.002344         0.001928        0.002961          10   \n",
       "13       0.005069      0.003759         0.001807        0.003139          15   \n",
       "14       0.008003      0.000957         0.000200        0.000399          20   \n",
       "15       0.006869      0.003014         0.001320        0.002639          25   \n",
       "16       0.006479      0.003377         0.003419        0.003811          50   \n",
       "\n",
       "               params  split0_test_score  split1_test_score  \\\n",
       "0   {'alpha': 0.0001}          -0.098476          -0.103243   \n",
       "1    {'alpha': 0.001}          -0.098473          -0.103242   \n",
       "2      {'alpha': 0.1}          -0.098217          -0.103212   \n",
       "3      {'alpha': 0.2}          -0.097986          -0.103233   \n",
       "4      {'alpha': 0.3}          -0.097774          -0.103303   \n",
       "5      {'alpha': 0.4}          -0.097572          -0.103362   \n",
       "6      {'alpha': 0.5}          -0.097377          -0.103413   \n",
       "7        {'alpha': 1}          -0.096531          -0.103589   \n",
       "8        {'alpha': 2}          -0.095454          -0.104027   \n",
       "9        {'alpha': 3}          -0.094782          -0.104515   \n",
       "10       {'alpha': 4}          -0.094234          -0.105095   \n",
       "11       {'alpha': 5}          -0.093949          -0.105630   \n",
       "12      {'alpha': 10}          -0.093937          -0.107911   \n",
       "13      {'alpha': 15}          -0.094961          -0.109825   \n",
       "14      {'alpha': 20}          -0.096141          -0.111376   \n",
       "15      {'alpha': 25}          -0.097122          -0.112548   \n",
       "16      {'alpha': 50}          -0.100517          -0.116545   \n",
       "\n",
       "    split2_test_score  split3_test_score  ...  mean_test_score  \\\n",
       "0           -0.108140          -0.106632  ...        -0.103999   \n",
       "1           -0.108139          -0.106630  ...        -0.103997   \n",
       "2           -0.108020          -0.106362  ...        -0.103854   \n",
       "3           -0.107914          -0.106101  ...        -0.103731   \n",
       "4           -0.107815          -0.105883  ...        -0.103631   \n",
       "5           -0.107729          -0.105683  ...        -0.103539   \n",
       "6           -0.107673          -0.105489  ...        -0.103458   \n",
       "7           -0.107448          -0.104686  ...        -0.103114   \n",
       "8           -0.107509          -0.103878  ...        -0.102907   \n",
       "9           -0.107914          -0.103582  ...        -0.103042   \n",
       "10          -0.108266          -0.103296  ...        -0.103212   \n",
       "11          -0.108752          -0.103089  ...        -0.103481   \n",
       "12          -0.110954          -0.102325  ...        -0.105063   \n",
       "13          -0.112841          -0.102430  ...        -0.106771   \n",
       "14          -0.114354          -0.103229  ...        -0.108326   \n",
       "15          -0.115701          -0.104026  ...        -0.109616   \n",
       "16          -0.119927          -0.106803  ...        -0.113878   \n",
       "\n",
       "    std_test_score  rank_test_score  split0_train_score  split1_train_score  \\\n",
       "0         0.003331               12           -0.098812           -0.094067   \n",
       "1         0.003331               11           -0.098812           -0.094067   \n",
       "2         0.003349               10           -0.098796           -0.094076   \n",
       "3         0.003363                9           -0.098779           -0.094089   \n",
       "4         0.003381                8           -0.098764           -0.094101   \n",
       "5         0.003404                7           -0.098749           -0.094114   \n",
       "6         0.003435                5           -0.098740           -0.094128   \n",
       "7         0.003606                3           -0.098751           -0.094269   \n",
       "8         0.003994                1           -0.099010           -0.094535   \n",
       "9         0.004397                2           -0.099395           -0.094946   \n",
       "10        0.004775                4           -0.099821           -0.095449   \n",
       "11        0.005104                6           -0.100279           -0.095946   \n",
       "12        0.006345               13           -0.102718           -0.098398   \n",
       "13        0.007143               14           -0.104999           -0.100620   \n",
       "14        0.007601               15           -0.106925           -0.102421   \n",
       "15        0.007960               16           -0.108492           -0.103868   \n",
       "16        0.009074               17           -0.114090           -0.108900   \n",
       "\n",
       "    split2_train_score  split3_train_score  split4_train_score  \\\n",
       "0            -0.094148           -0.097422           -0.097931   \n",
       "1            -0.094148           -0.097421           -0.097931   \n",
       "2            -0.094087           -0.097357           -0.097904   \n",
       "3            -0.094032           -0.097296           -0.097881   \n",
       "4            -0.093997           -0.097239           -0.097864   \n",
       "5            -0.093976           -0.097184           -0.097845   \n",
       "6            -0.093959           -0.097136           -0.097841   \n",
       "7            -0.093897           -0.097000           -0.097904   \n",
       "8            -0.093973           -0.097005           -0.098115   \n",
       "9            -0.094212           -0.097158           -0.098402   \n",
       "10           -0.094482           -0.097482           -0.098673   \n",
       "11           -0.094876           -0.097887           -0.098978   \n",
       "12           -0.097232           -0.100412           -0.100852   \n",
       "13           -0.099338           -0.102730           -0.102655   \n",
       "14           -0.101069           -0.104723           -0.104172   \n",
       "15           -0.102590           -0.106353           -0.105494   \n",
       "16           -0.108109           -0.111933           -0.110262   \n",
       "\n",
       "    mean_train_score  std_train_score  \n",
       "0          -0.096476         0.001984  \n",
       "1          -0.096476         0.001984  \n",
       "2          -0.096444         0.001983  \n",
       "3          -0.096416         0.001980  \n",
       "4          -0.096393         0.001974  \n",
       "5          -0.096373         0.001966  \n",
       "6          -0.096361         0.001960  \n",
       "7          -0.096364         0.001947  \n",
       "8          -0.096528         0.001970  \n",
       "9          -0.096823         0.001978  \n",
       "10         -0.097181         0.001979  \n",
       "11         -0.097593         0.001966  \n",
       "12         -0.099922         0.001923  \n",
       "13         -0.102068         0.001945  \n",
       "14         -0.103862         0.002005  \n",
       "15         -0.105359         0.002035  \n",
       "16         -0.110659         0.002152  \n",
       "\n",
       "[17 rows x 21 columns]"
      ]
     },
     "execution_count": 52,
     "metadata": {},
     "output_type": "execute_result"
    }
   ],
   "source": [
    "# Cross validation results\n",
    "\n",
    "ridge_cv_results = pd.DataFrame(ridge_model_cv.cv_results_)\n",
    "ridge_cv_results"
   ]
  },
  {
   "cell_type": "code",
   "execution_count": 53,
   "metadata": {},
   "outputs": [
    {
     "data": {
      "image/png": "[encoded data removed]",
      "text/plain": [
       "<Figure size 432x288 with 1 Axes>"
      ]
     },
     "metadata": {
      "needs_background": "light"
     },
     "output_type": "display_data"
    }
   ],
   "source": [
    "# Plotting Train and test errors\n",
    "\n",
    "def plot_train_test_error(df):\n",
    "    plt.plot(df['param_alpha'], df['mean_train_score'])\n",
    "    plt.plot(df['param_alpha'], df['mean_test_score'])\n",
    "    plt.xlabel('alpha')\n",
    "    plt.ylabel('Negative Mean Absolute Error')\n",
    "    plt.title(\"Negative Mean Absolute Error and alpha\")\n",
    "    plt.legend(['train score', 'test score'], loc='upper left')\n",
    "    plt.show()\n",
    "plot_train_test_error(ridge_cv_results)"
   ]
  },
  {
   "cell_type": "markdown",
   "metadata": {},
   "source": [
    "At Alpha=12, the difference between train and test error is minimum and from there on the difference is almost constant and the curves are almost parallel to each other."
   ]
  },
  {
   "cell_type": "code",
   "execution_count": 54,
   "metadata": {},
   "outputs": [
    {
     "data": {
      "text/plain": [
       "array([ 0.13017497,  0.13839102, -0.07357096, -0.05777564,  0.05594132,\n",
       "       -0.05520291, -0.07886172,  0.06332202,  0.13156853, -0.10948962,\n",
       "       -0.11734114, -0.12451416,  0.05281637,  0.13451606, -0.05455147,\n",
       "       -0.05187121,  0.07577998,  0.06125345,  0.04496967, -0.03927289,\n",
       "        0.06634275,  0.04750094,  0.06985571, -0.04558704, -0.04517155,\n",
       "        0.0783056 , -0.0405595 , -0.02642201, -0.02993473, -0.03790742,\n",
       "        0.06720763,  0.1348523 ,  0.05288299,  0.03993989,  0.06288732,\n",
       "       -0.0182468 , -0.03471873, -0.06236861, -0.09214618, -0.07314516,\n",
       "       -0.05817295, -0.08872754, -0.08255491,  0.09843463,  0.06886788,\n",
       "        0.11972346,  0.09926714,  0.06412685, -0.08083121, -0.06222505])"
      ]
     },
     "execution_count": 54,
     "metadata": {},
     "output_type": "execute_result"
    }
   ],
   "source": [
    "# Final fit\n",
    "\n",
    "ridge_alpha = 12\n",
    "\n",
    "ridge = Ridge(ridge_alpha)\n",
    "ridge.fit(X_train[ridge_col], y_train)\n",
    "ridge.coef_"
   ]
  },
  {
   "cell_type": "code",
   "execution_count": 55,
   "metadata": {},
   "outputs": [
    {
     "data": {
      "text/plain": [
       "0.8669643588261816"
      ]
     },
     "execution_count": 55,
     "metadata": {},
     "output_type": "execute_result"
    }
   ],
   "source": [
    "# r2 score on train data\n",
    "\n",
    "y_train_pred_ridge = ridge.predict(X_train[ridge_col])\n",
    "r2_score(y_train, y_train_pred_ridge)"
   ]
  },
  {
   "cell_type": "code",
   "execution_count": 56,
   "metadata": {},
   "outputs": [
    {
     "data": {
      "text/plain": [
       "0.8129944574757306"
      ]
     },
     "execution_count": 56,
     "metadata": {},
     "output_type": "execute_result"
    }
   ],
   "source": [
    "# r2 score on test data\n",
    "\n",
    "y_pred_final_ridge = ridge.predict(X_test[ridge_col])\n",
    "r2_score(y_test, y_pred_final_ridge)"
   ]
  },
  {
   "cell_type": "code",
   "execution_count": 57,
   "metadata": {},
   "outputs": [
    {
     "data": {
      "text/html": [
       "<div>\n",
       "<style scoped>\n",
       "    .dataframe tbody tr th:only-of-type {\n",
       "        vertical-align: middle;\n",
       "    }\n",
       "\n",
       "    .dataframe tbody tr th {\n",
       "        vertical-align: top;\n",
       "    }\n",
       "\n",
       "    .dataframe thead th {\n",
       "        text-align: right;\n",
       "    }\n",
       "</style>\n",
       "<table border=\"1\" class=\"dataframe\">\n",
       "  <thead>\n",
       "    <tr style=\"text-align: right;\">\n",
       "      <th></th>\n",
       "      <th>Feature_Name</th>\n",
       "      <th>Ridge_Coef</th>\n",
       "    </tr>\n",
       "  </thead>\n",
       "  <tbody>\n",
       "    <tr>\n",
       "      <td>1</td>\n",
       "      <td>2ndFlrSF</td>\n",
       "      <td>0.138391</td>\n",
       "    </tr>\n",
       "    <tr>\n",
       "      <td>31</td>\n",
       "      <td>BsmtExposure_Gd</td>\n",
       "      <td>0.134852</td>\n",
       "    </tr>\n",
       "    <tr>\n",
       "      <td>13</td>\n",
       "      <td>Neighborhood_NridgHt</td>\n",
       "      <td>0.134516</td>\n",
       "    </tr>\n",
       "    <tr>\n",
       "      <td>8</td>\n",
       "      <td>Neighborhood_Crawfor</td>\n",
       "      <td>0.131569</td>\n",
       "    </tr>\n",
       "    <tr>\n",
       "      <td>0</td>\n",
       "      <td>1stFlrSF</td>\n",
       "      <td>0.130175</td>\n",
       "    </tr>\n",
       "  </tbody>\n",
       "</table>\n",
       "</div>"
      ],
      "text/plain": [
       "            Feature_Name  Ridge_Coef\n",
       "1               2ndFlrSF    0.138391\n",
       "31       BsmtExposure_Gd    0.134852\n",
       "13  Neighborhood_NridgHt    0.134516\n",
       "8   Neighborhood_Crawfor    0.131569\n",
       "0               1stFlrSF    0.130175"
      ]
     },
     "execution_count": 57,
     "metadata": {},
     "output_type": "execute_result"
    }
   ],
   "source": [
    "# Top 5 features of Ridge\n",
    "ridge_top_features = pd.DataFrame(columns=['Feature_Name', 'Ridge_Coef'])\n",
    "ridge_top_features['Feature_Name'] = list(ridge_col)\n",
    "ridge_top_features['Ridge_Coef'] = ridge.coef_\n",
    "ridge_top_5 = ridge_top_features.sort_values('Ridge_Coef', ascending=False).head()\n",
    "ridge_top_5"
   ]
  },
  {
   "cell_type": "markdown",
   "metadata": {},
   "source": [
    "### Subjective Question 1"
   ]
  },
  {
   "cell_type": "code",
   "execution_count": 58,
   "metadata": {},
   "outputs": [
    {
     "data": {
      "text/plain": [
       "array([ 0.13568036,  0.13192888, -0.0762621 , -0.0588862 ,  0.05087926,\n",
       "       -0.0388439 , -0.05187254,  0.04529381,  0.10339069, -0.09780813,\n",
       "       -0.08656021, -0.08211748,  0.04298116,  0.11227188, -0.0412621 ,\n",
       "       -0.04312873,  0.06137421,  0.03869092,  0.03172246, -0.02427703,\n",
       "        0.06873198,  0.04101604,  0.06297925, -0.03587303, -0.02709681,\n",
       "        0.0574953 , -0.02681755, -0.01385036, -0.01977928, -0.02788025,\n",
       "        0.03896301,  0.10236179,  0.03025277,  0.01474407,  0.06258512,\n",
       "       -0.01517742, -0.02534873, -0.0572355 , -0.06659355, -0.05982568,\n",
       "       -0.03381512, -0.05444833, -0.08832863,  0.09102781,  0.05751839,\n",
       "        0.08992177,  0.06968774,  0.03665526, -0.0573378 , -0.04552228])"
      ]
     },
     "execution_count": 58,
     "metadata": {},
     "output_type": "execute_result"
    }
   ],
   "source": [
    "# doubling alpha value\n",
    "\n",
    "ridge_alpha = 24\n",
    "\n",
    "ridge = Ridge(ridge_alpha)\n",
    "ridge.fit(X_train[ridge_col], y_train)\n",
    "ridge.coef_"
   ]
  },
  {
   "cell_type": "code",
   "execution_count": 59,
   "metadata": {},
   "outputs": [
    {
     "data": {
      "text/plain": [
       "0.8559660789477599"
      ]
     },
     "execution_count": 59,
     "metadata": {},
     "output_type": "execute_result"
    }
   ],
   "source": [
    "# r2 score on train data\n",
    "\n",
    "y_train_pred_ridge = ridge.predict(X_train[ridge_col])\n",
    "r2_score(y_train, y_train_pred_ridge)"
   ]
  },
  {
   "cell_type": "code",
   "execution_count": 60,
   "metadata": {},
   "outputs": [
    {
     "data": {
      "text/plain": [
       "0.8058871441559485"
      ]
     },
     "execution_count": 60,
     "metadata": {},
     "output_type": "execute_result"
    }
   ],
   "source": [
    "# r2 score on test data\n",
    "\n",
    "y_pred_final_ridge = ridge.predict(X_test[ridge_col])\n",
    "r2_score(y_test, y_pred_final_ridge)"
   ]
  },
  {
   "cell_type": "code",
   "execution_count": 61,
   "metadata": {},
   "outputs": [
    {
     "data": {
      "text/html": [
       "<div>\n",
       "<style scoped>\n",
       "    .dataframe tbody tr th:only-of-type {\n",
       "        vertical-align: middle;\n",
       "    }\n",
       "\n",
       "    .dataframe tbody tr th {\n",
       "        vertical-align: top;\n",
       "    }\n",
       "\n",
       "    .dataframe thead th {\n",
       "        text-align: right;\n",
       "    }\n",
       "</style>\n",
       "<table border=\"1\" class=\"dataframe\">\n",
       "  <thead>\n",
       "    <tr style=\"text-align: right;\">\n",
       "      <th></th>\n",
       "      <th>Feature_Name</th>\n",
       "      <th>Ridge_Coef</th>\n",
       "    </tr>\n",
       "  </thead>\n",
       "  <tbody>\n",
       "    <tr>\n",
       "      <td>0</td>\n",
       "      <td>1stFlrSF</td>\n",
       "      <td>0.135680</td>\n",
       "    </tr>\n",
       "    <tr>\n",
       "      <td>1</td>\n",
       "      <td>2ndFlrSF</td>\n",
       "      <td>0.131929</td>\n",
       "    </tr>\n",
       "    <tr>\n",
       "      <td>13</td>\n",
       "      <td>Neighborhood_NridgHt</td>\n",
       "      <td>0.112272</td>\n",
       "    </tr>\n",
       "    <tr>\n",
       "      <td>8</td>\n",
       "      <td>Neighborhood_Crawfor</td>\n",
       "      <td>0.103391</td>\n",
       "    </tr>\n",
       "    <tr>\n",
       "      <td>31</td>\n",
       "      <td>BsmtExposure_Gd</td>\n",
       "      <td>0.102362</td>\n",
       "    </tr>\n",
       "  </tbody>\n",
       "</table>\n",
       "</div>"
      ],
      "text/plain": [
       "            Feature_Name  Ridge_Coef\n",
       "0               1stFlrSF    0.135680\n",
       "1               2ndFlrSF    0.131929\n",
       "13  Neighborhood_NridgHt    0.112272\n",
       "8   Neighborhood_Crawfor    0.103391\n",
       "31       BsmtExposure_Gd    0.102362"
      ]
     },
     "execution_count": 61,
     "metadata": {},
     "output_type": "execute_result"
    }
   ],
   "source": [
    "# Top 5 features of Ridge\n",
    "ridge_top_features = pd.DataFrame(columns=['Feature_Name', 'Ridge_Coef'])\n",
    "ridge_top_features['Feature_Name'] = list(ridge_col)\n",
    "ridge_top_features['Ridge_Coef'] = ridge.coef_\n",
    "ridge_top_5 = ridge_top_features.sort_values('Ridge_Coef', ascending=False).head()\n",
    "ridge_top_5"
   ]
  },
  {
   "cell_type": "markdown",
   "metadata": {},
   "source": [
    "From Ridge regression we got the same set of predictor variables in both the cases.\n",
    "\n",
    "``1stFlrSF`` and ``2ndFlrSF`` are quite intuitive. If the area(Sq.feet) is more then it leads to higher prixe tag.\n",
    "``Neighborhood_NridgHt`` and ``Neighborhood_Crawfor`` tells us that the property is rich locality and with ``BsmtExposure_Gd`` i.e good Basement eposire then the price will shoot up automatically."
   ]
  },
  {
   "cell_type": "markdown",
   "metadata": {},
   "source": [
    "## Step 6: Lasso Regression"
   ]
  },
  {
   "cell_type": "code",
   "execution_count": 62,
   "metadata": {},
   "outputs": [
    {
     "data": {
      "text/plain": [
       "Index(['Foundation_CBlock', 'Foundation_PConc', 'BsmtQual_Gd', 'BsmtQual_TA',\n",
       "       'BsmtExposure_Av', 'BsmtExposure_Gd', 'BsmtExposure_Mn',\n",
       "       'BsmtExposure_No', 'BsmtFinType1_ALQ', 'BsmtFinType1_BLQ',\n",
       "       'BsmtFinType1_GLQ', 'BsmtFinType1_Rec', 'BsmtFinType1_Unf',\n",
       "       'HeatingQC_Ex', 'HeatingQC_Gd', 'HeatingQC_TA', 'BsmtFullBath_0',\n",
       "       'BsmtFullBath_1', 'FullBath_1', 'FullBath_2', 'HalfBath_0',\n",
       "       'HalfBath_1', 'BedroomAbvGr_2', 'BedroomAbvGr_3', 'BedroomAbvGr_4',\n",
       "       'KitchenQual_Gd', 'KitchenQual_TA', 'TotRmsAbvGrd_3', 'TotRmsAbvGrd_4',\n",
       "       'TotRmsAbvGrd_5', 'TotRmsAbvGrd_6', 'TotRmsAbvGrd_7', 'TotRmsAbvGrd_8',\n",
       "       'TotRmsAbvGrd_9', 'TotRmsAbvGrd_10', 'TotRmsAbvGrd_11',\n",
       "       'TotRmsAbvGrd_12', 'Fireplaces_0', 'Fireplaces_1', 'FireplaceQu_Gd',\n",
       "       'FireplaceQu_No Fireplace', 'FireplaceQu_TA', 'GarageType_Attchd',\n",
       "       'GarageType_Detchd', 'GarageFinish_Fin', 'GarageFinish_RFn',\n",
       "       'GarageFinish_Unf', 'GarageCars_1', 'GarageCars_2', 'GarageCars_3'],\n",
       "      dtype='object')"
      ]
     },
     "execution_count": 62,
     "metadata": {},
     "output_type": "execute_result"
    }
   ],
   "source": [
    "# Feature selection using RFE\n",
    "\n",
    "lasso = Lasso()\n",
    "lasso.fit(X_train, y_train)\n",
    "\n",
    "rfe = RFE(lasso, 50)\n",
    "rfe = rfe.fit(X_train, y_train)\n",
    "\n",
    "lasso_col = X_train.columns[rfe.support_]\n",
    "lasso_col"
   ]
  },
  {
   "cell_type": "code",
   "execution_count": 63,
   "metadata": {},
   "outputs": [
    {
     "name": "stdout",
     "output_type": "stream",
     "text": [
      "Fitting 5 folds for each of 10 candidates, totalling 50 fits\n"
     ]
    },
    {
     "name": "stderr",
     "output_type": "stream",
     "text": [
      "[Parallel(n_jobs=-1)]: Using backend LokyBackend with 8 concurrent workers.\n",
      "[Parallel(n_jobs=-1)]: Done  34 tasks      | elapsed:    5.2s\n",
      "[Parallel(n_jobs=-1)]: Done  50 out of  50 | elapsed:    5.2s finished\n"
     ]
    },
    {
     "data": {
      "text/plain": [
       "GridSearchCV(cv=5, error_score='raise-deprecating',\n",
       "             estimator=Lasso(alpha=1.0, copy_X=True, fit_intercept=True,\n",
       "                             max_iter=1000, normalize=False, positive=False,\n",
       "                             precompute=False, random_state=None,\n",
       "                             selection='cyclic', tol=0.0001, warm_start=False),\n",
       "             iid='warn', n_jobs=-1,\n",
       "             param_grid={'alpha': [2.5e-05, 5e-05, 1e-05, 0.0001, 0.0002,\n",
       "                                   0.0005, 0.001, 0.005, 0.01, 0.02]},\n",
       "             pre_dispatch='2*n_jobs', refit=True, return_train_score=True,\n",
       "             scoring='neg_mean_absolute_error', verbose=1)"
      ]
     },
     "execution_count": 63,
     "metadata": {},
     "output_type": "execute_result"
    }
   ],
   "source": [
    "# Hyper parameter tuning\n",
    "\n",
    "params = {\n",
    "    'alpha' : [0.000025, 0.00005, 0.00001, 0.0001, 0.0002, 0.0005, 0.001, 0.005, 0.01, 0.02]\n",
    "}\n",
    "\n",
    "lasso_model_cv = GridSearchCV(estimator=lasso,\n",
    "                              param_grid=params,\n",
    "                              scoring='neg_mean_absolute_error',\n",
    "                              n_jobs=-1,\n",
    "                              cv=5,\n",
    "                              verbose=1,\n",
    "                              return_train_score=True)\n",
    "lasso_model_cv.fit(X_train[lasso_col], y_train)"
   ]
  },
  {
   "cell_type": "code",
   "execution_count": 64,
   "metadata": {},
   "outputs": [
    {
     "data": {
      "text/html": [
       "<div>\n",
       "<style scoped>\n",
       "    .dataframe tbody tr th:only-of-type {\n",
       "        vertical-align: middle;\n",
       "    }\n",
       "\n",
       "    .dataframe tbody tr th {\n",
       "        vertical-align: top;\n",
       "    }\n",
       "\n",
       "    .dataframe thead th {\n",
       "        text-align: right;\n",
       "    }\n",
       "</style>\n",
       "<table border=\"1\" class=\"dataframe\">\n",
       "  <thead>\n",
       "    <tr style=\"text-align: right;\">\n",
       "      <th></th>\n",
       "      <th>mean_fit_time</th>\n",
       "      <th>std_fit_time</th>\n",
       "      <th>mean_score_time</th>\n",
       "      <th>std_score_time</th>\n",
       "      <th>param_alpha</th>\n",
       "      <th>params</th>\n",
       "      <th>split0_test_score</th>\n",
       "      <th>split1_test_score</th>\n",
       "      <th>split2_test_score</th>\n",
       "      <th>split3_test_score</th>\n",
       "      <th>...</th>\n",
       "      <th>mean_test_score</th>\n",
       "      <th>std_test_score</th>\n",
       "      <th>rank_test_score</th>\n",
       "      <th>split0_train_score</th>\n",
       "      <th>split1_train_score</th>\n",
       "      <th>split2_train_score</th>\n",
       "      <th>split3_train_score</th>\n",
       "      <th>split4_train_score</th>\n",
       "      <th>mean_train_score</th>\n",
       "      <th>std_train_score</th>\n",
       "    </tr>\n",
       "  </thead>\n",
       "  <tbody>\n",
       "    <tr>\n",
       "      <td>0</td>\n",
       "      <td>0.138613</td>\n",
       "      <td>0.021913</td>\n",
       "      <td>0.003440</td>\n",
       "      <td>0.001625</td>\n",
       "      <td>2.5e-05</td>\n",
       "      <td>{'alpha': 2.5e-05}</td>\n",
       "      <td>-0.132507</td>\n",
       "      <td>-0.141277</td>\n",
       "      <td>-0.143957</td>\n",
       "      <td>-0.135949</td>\n",
       "      <td>...</td>\n",
       "      <td>-0.139128</td>\n",
       "      <td>0.004246</td>\n",
       "      <td>2</td>\n",
       "      <td>-0.130304</td>\n",
       "      <td>-0.127895</td>\n",
       "      <td>-0.126537</td>\n",
       "      <td>-0.129131</td>\n",
       "      <td>-0.129218</td>\n",
       "      <td>-0.128617</td>\n",
       "      <td>0.001290</td>\n",
       "    </tr>\n",
       "    <tr>\n",
       "      <td>1</td>\n",
       "      <td>0.104004</td>\n",
       "      <td>0.015611</td>\n",
       "      <td>0.003892</td>\n",
       "      <td>0.003072</td>\n",
       "      <td>5e-05</td>\n",
       "      <td>{'alpha': 5e-05}</td>\n",
       "      <td>-0.132412</td>\n",
       "      <td>-0.140920</td>\n",
       "      <td>-0.143991</td>\n",
       "      <td>-0.136007</td>\n",
       "      <td>...</td>\n",
       "      <td>-0.139076</td>\n",
       "      <td>0.004256</td>\n",
       "      <td>1</td>\n",
       "      <td>-0.130396</td>\n",
       "      <td>-0.128176</td>\n",
       "      <td>-0.126571</td>\n",
       "      <td>-0.129269</td>\n",
       "      <td>-0.129366</td>\n",
       "      <td>-0.128756</td>\n",
       "      <td>0.001299</td>\n",
       "    </tr>\n",
       "    <tr>\n",
       "      <td>2</td>\n",
       "      <td>0.097812</td>\n",
       "      <td>0.008240</td>\n",
       "      <td>0.004749</td>\n",
       "      <td>0.003922</td>\n",
       "      <td>1e-05</td>\n",
       "      <td>{'alpha': 1e-05}</td>\n",
       "      <td>-0.132521</td>\n",
       "      <td>-0.141547</td>\n",
       "      <td>-0.143942</td>\n",
       "      <td>-0.135928</td>\n",
       "      <td>...</td>\n",
       "      <td>-0.139161</td>\n",
       "      <td>0.004260</td>\n",
       "      <td>4</td>\n",
       "      <td>-0.130232</td>\n",
       "      <td>-0.127744</td>\n",
       "      <td>-0.126530</td>\n",
       "      <td>-0.128991</td>\n",
       "      <td>-0.129075</td>\n",
       "      <td>-0.128514</td>\n",
       "      <td>0.001267</td>\n",
       "    </tr>\n",
       "    <tr>\n",
       "      <td>3</td>\n",
       "      <td>0.063798</td>\n",
       "      <td>0.016096</td>\n",
       "      <td>0.002000</td>\n",
       "      <td>0.003036</td>\n",
       "      <td>0.0001</td>\n",
       "      <td>{'alpha': 0.0001}</td>\n",
       "      <td>-0.132411</td>\n",
       "      <td>-0.140456</td>\n",
       "      <td>-0.144104</td>\n",
       "      <td>-0.136102</td>\n",
       "      <td>...</td>\n",
       "      <td>-0.139147</td>\n",
       "      <td>0.004328</td>\n",
       "      <td>3</td>\n",
       "      <td>-0.130589</td>\n",
       "      <td>-0.128521</td>\n",
       "      <td>-0.126661</td>\n",
       "      <td>-0.129504</td>\n",
       "      <td>-0.129510</td>\n",
       "      <td>-0.128957</td>\n",
       "      <td>0.001321</td>\n",
       "    </tr>\n",
       "    <tr>\n",
       "      <td>4</td>\n",
       "      <td>0.047025</td>\n",
       "      <td>0.011389</td>\n",
       "      <td>0.001924</td>\n",
       "      <td>0.002954</td>\n",
       "      <td>0.0002</td>\n",
       "      <td>{'alpha': 0.0002}</td>\n",
       "      <td>-0.132332</td>\n",
       "      <td>-0.139768</td>\n",
       "      <td>-0.144379</td>\n",
       "      <td>-0.136007</td>\n",
       "      <td>...</td>\n",
       "      <td>-0.139263</td>\n",
       "      <td>0.004613</td>\n",
       "      <td>5</td>\n",
       "      <td>-0.131102</td>\n",
       "      <td>-0.129009</td>\n",
       "      <td>-0.126873</td>\n",
       "      <td>-0.129763</td>\n",
       "      <td>-0.129809</td>\n",
       "      <td>-0.129311</td>\n",
       "      <td>0.001392</td>\n",
       "    </tr>\n",
       "    <tr>\n",
       "      <td>5</td>\n",
       "      <td>0.018107</td>\n",
       "      <td>0.005607</td>\n",
       "      <td>0.003253</td>\n",
       "      <td>0.003263</td>\n",
       "      <td>0.0005</td>\n",
       "      <td>{'alpha': 0.0005}</td>\n",
       "      <td>-0.132631</td>\n",
       "      <td>-0.137849</td>\n",
       "      <td>-0.145592</td>\n",
       "      <td>-0.136143</td>\n",
       "      <td>...</td>\n",
       "      <td>-0.139768</td>\n",
       "      <td>0.005464</td>\n",
       "      <td>6</td>\n",
       "      <td>-0.132901</td>\n",
       "      <td>-0.130942</td>\n",
       "      <td>-0.128087</td>\n",
       "      <td>-0.130659</td>\n",
       "      <td>-0.130803</td>\n",
       "      <td>-0.130678</td>\n",
       "      <td>0.001532</td>\n",
       "    </tr>\n",
       "    <tr>\n",
       "      <td>6</td>\n",
       "      <td>0.009964</td>\n",
       "      <td>0.003365</td>\n",
       "      <td>0.004249</td>\n",
       "      <td>0.003508</td>\n",
       "      <td>0.001</td>\n",
       "      <td>{'alpha': 0.001}</td>\n",
       "      <td>-0.134480</td>\n",
       "      <td>-0.138647</td>\n",
       "      <td>-0.146607</td>\n",
       "      <td>-0.137943</td>\n",
       "      <td>...</td>\n",
       "      <td>-0.141963</td>\n",
       "      <td>0.006466</td>\n",
       "      <td>7</td>\n",
       "      <td>-0.135903</td>\n",
       "      <td>-0.134195</td>\n",
       "      <td>-0.130773</td>\n",
       "      <td>-0.133460</td>\n",
       "      <td>-0.133899</td>\n",
       "      <td>-0.133646</td>\n",
       "      <td>0.001658</td>\n",
       "    </tr>\n",
       "    <tr>\n",
       "      <td>7</td>\n",
       "      <td>0.008201</td>\n",
       "      <td>0.004964</td>\n",
       "      <td>0.001740</td>\n",
       "      <td>0.003008</td>\n",
       "      <td>0.005</td>\n",
       "      <td>{'alpha': 0.005}</td>\n",
       "      <td>-0.146448</td>\n",
       "      <td>-0.154510</td>\n",
       "      <td>-0.154351</td>\n",
       "      <td>-0.143137</td>\n",
       "      <td>...</td>\n",
       "      <td>-0.152784</td>\n",
       "      <td>0.007751</td>\n",
       "      <td>8</td>\n",
       "      <td>-0.149448</td>\n",
       "      <td>-0.148284</td>\n",
       "      <td>-0.148409</td>\n",
       "      <td>-0.149409</td>\n",
       "      <td>-0.145456</td>\n",
       "      <td>-0.148201</td>\n",
       "      <td>0.001456</td>\n",
       "    </tr>\n",
       "    <tr>\n",
       "      <td>8</td>\n",
       "      <td>0.009816</td>\n",
       "      <td>0.005803</td>\n",
       "      <td>0.000399</td>\n",
       "      <td>0.000798</td>\n",
       "      <td>0.01</td>\n",
       "      <td>{'alpha': 0.01}</td>\n",
       "      <td>-0.152325</td>\n",
       "      <td>-0.165185</td>\n",
       "      <td>-0.159384</td>\n",
       "      <td>-0.147402</td>\n",
       "      <td>...</td>\n",
       "      <td>-0.159466</td>\n",
       "      <td>0.009101</td>\n",
       "      <td>9</td>\n",
       "      <td>-0.157232</td>\n",
       "      <td>-0.156012</td>\n",
       "      <td>-0.154759</td>\n",
       "      <td>-0.158339</td>\n",
       "      <td>-0.154089</td>\n",
       "      <td>-0.156086</td>\n",
       "      <td>0.001558</td>\n",
       "    </tr>\n",
       "    <tr>\n",
       "      <td>9</td>\n",
       "      <td>0.006973</td>\n",
       "      <td>0.003579</td>\n",
       "      <td>0.004719</td>\n",
       "      <td>0.003857</td>\n",
       "      <td>0.02</td>\n",
       "      <td>{'alpha': 0.02}</td>\n",
       "      <td>-0.164582</td>\n",
       "      <td>-0.178705</td>\n",
       "      <td>-0.166287</td>\n",
       "      <td>-0.158459</td>\n",
       "      <td>...</td>\n",
       "      <td>-0.169718</td>\n",
       "      <td>0.008527</td>\n",
       "      <td>10</td>\n",
       "      <td>-0.167572</td>\n",
       "      <td>-0.167424</td>\n",
       "      <td>-0.167235</td>\n",
       "      <td>-0.168820</td>\n",
       "      <td>-0.164860</td>\n",
       "      <td>-0.167182</td>\n",
       "      <td>0.001288</td>\n",
       "    </tr>\n",
       "  </tbody>\n",
       "</table>\n",
       "<p>10 rows × 21 columns</p>\n",
       "</div>"
      ],
      "text/plain": [
       "   mean_fit_time  std_fit_time  mean_score_time  std_score_time param_alpha  \\\n",
       "0       0.138613      0.021913         0.003440        0.001625     2.5e-05   \n",
       "1       0.104004      0.015611         0.003892        0.003072       5e-05   \n",
       "2       0.097812      0.008240         0.004749        0.003922       1e-05   \n",
       "3       0.063798      0.016096         0.002000        0.003036      0.0001   \n",
       "4       0.047025      0.011389         0.001924        0.002954      0.0002   \n",
       "5       0.018107      0.005607         0.003253        0.003263      0.0005   \n",
       "6       0.009964      0.003365         0.004249        0.003508       0.001   \n",
       "7       0.008201      0.004964         0.001740        0.003008       0.005   \n",
       "8       0.009816      0.005803         0.000399        0.000798        0.01   \n",
       "9       0.006973      0.003579         0.004719        0.003857        0.02   \n",
       "\n",
       "               params  split0_test_score  split1_test_score  \\\n",
       "0  {'alpha': 2.5e-05}          -0.132507          -0.141277   \n",
       "1    {'alpha': 5e-05}          -0.132412          -0.140920   \n",
       "2    {'alpha': 1e-05}          -0.132521          -0.141547   \n",
       "3   {'alpha': 0.0001}          -0.132411          -0.140456   \n",
       "4   {'alpha': 0.0002}          -0.132332          -0.139768   \n",
       "5   {'alpha': 0.0005}          -0.132631          -0.137849   \n",
       "6    {'alpha': 0.001}          -0.134480          -0.138647   \n",
       "7    {'alpha': 0.005}          -0.146448          -0.154510   \n",
       "8     {'alpha': 0.01}          -0.152325          -0.165185   \n",
       "9     {'alpha': 0.02}          -0.164582          -0.178705   \n",
       "\n",
       "   split2_test_score  split3_test_score  ...  mean_test_score  std_test_score  \\\n",
       "0          -0.143957          -0.135949  ...        -0.139128        0.004246   \n",
       "1          -0.143991          -0.136007  ...        -0.139076        0.004256   \n",
       "2          -0.143942          -0.135928  ...        -0.139161        0.004260   \n",
       "3          -0.144104          -0.136102  ...        -0.139147        0.004328   \n",
       "4          -0.144379          -0.136007  ...        -0.139263        0.004613   \n",
       "5          -0.145592          -0.136143  ...        -0.139768        0.005464   \n",
       "6          -0.146607          -0.137943  ...        -0.141963        0.006466   \n",
       "7          -0.154351          -0.143137  ...        -0.152784        0.007751   \n",
       "8          -0.159384          -0.147402  ...        -0.159466        0.009101   \n",
       "9          -0.166287          -0.158459  ...        -0.169718        0.008527   \n",
       "\n",
       "   rank_test_score  split0_train_score  split1_train_score  \\\n",
       "0                2           -0.130304           -0.127895   \n",
       "1                1           -0.130396           -0.128176   \n",
       "2                4           -0.130232           -0.127744   \n",
       "3                3           -0.130589           -0.128521   \n",
       "4                5           -0.131102           -0.129009   \n",
       "5                6           -0.132901           -0.130942   \n",
       "6                7           -0.135903           -0.134195   \n",
       "7                8           -0.149448           -0.148284   \n",
       "8                9           -0.157232           -0.156012   \n",
       "9               10           -0.167572           -0.167424   \n",
       "\n",
       "   split2_train_score  split3_train_score  split4_train_score  \\\n",
       "0           -0.126537           -0.129131           -0.129218   \n",
       "1           -0.126571           -0.129269           -0.129366   \n",
       "2           -0.126530           -0.128991           -0.129075   \n",
       "3           -0.126661           -0.129504           -0.129510   \n",
       "4           -0.126873           -0.129763           -0.129809   \n",
       "5           -0.128087           -0.130659           -0.130803   \n",
       "6           -0.130773           -0.133460           -0.133899   \n",
       "7           -0.148409           -0.149409           -0.145456   \n",
       "8           -0.154759           -0.158339           -0.154089   \n",
       "9           -0.167235           -0.168820           -0.164860   \n",
       "\n",
       "   mean_train_score  std_train_score  \n",
       "0         -0.128617         0.001290  \n",
       "1         -0.128756         0.001299  \n",
       "2         -0.128514         0.001267  \n",
       "3         -0.128957         0.001321  \n",
       "4         -0.129311         0.001392  \n",
       "5         -0.130678         0.001532  \n",
       "6         -0.133646         0.001658  \n",
       "7         -0.148201         0.001456  \n",
       "8         -0.156086         0.001558  \n",
       "9         -0.167182         0.001288  \n",
       "\n",
       "[10 rows x 21 columns]"
      ]
     },
     "execution_count": 64,
     "metadata": {},
     "output_type": "execute_result"
    }
   ],
   "source": [
    "# Cross validation results\n",
    "\n",
    "lasso_cv_results = pd.DataFrame(lasso_model_cv.cv_results_)\n",
    "lasso_cv_results"
   ]
  },
  {
   "cell_type": "code",
   "execution_count": 65,
   "metadata": {},
   "outputs": [
    {
     "data": {
      "image/png": "[encoded data removed]",
      "text/plain": [
       "<Figure size 432x288 with 1 Axes>"
      ]
     },
     "metadata": {
      "needs_background": "light"
     },
     "output_type": "display_data"
    }
   ],
   "source": [
    "# Plotting Train and test error\n",
    "\n",
    "plot_train_test_error(lasso_cv_results)"
   ]
  },
  {
   "cell_type": "markdown",
   "metadata": {},
   "source": [
    "At Alpha=0.005, the difference between train and test error is minimum and from there on the difference is almost constant and the curves are almost parallel to each other."
   ]
  },
  {
   "cell_type": "code",
   "execution_count": 66,
   "metadata": {},
   "outputs": [
    {
     "data": {
      "text/plain": [
       "array([ 0.        ,  0.03563531,  0.        , -0.        ,  0.        ,\n",
       "        0.09413513,  0.        , -0.        ,  0.        ,  0.        ,\n",
       "        0.07013236,  0.        , -0.00530005,  0.08432222,  0.        ,\n",
       "       -0.        , -0.05513019,  0.        , -0.11778119,  0.        ,\n",
       "       -0.03853743,  0.05267569, -0.0199969 ,  0.        ,  0.04537191,\n",
       "       -0.        , -0.09355849, -0.        , -0.05852666, -0.00996771,\n",
       "       -0.        ,  0.        ,  0.        ,  0.        ,  0.05370612,\n",
       "        0.        ,  0.        , -0.14123552, -0.        ,  0.02615055,\n",
       "       -0.00423678, -0.        ,  0.09840128, -0.        ,  0.06821726,\n",
       "        0.03704064, -0.        , -0.        ,  0.06089869,  0.27667177])"
      ]
     },
     "execution_count": 66,
     "metadata": {},
     "output_type": "execute_result"
    }
   ],
   "source": [
    "# final fit\n",
    "\n",
    "lasso_alpha = 0.005\n",
    "\n",
    "lasso = Lasso(lasso_alpha)\n",
    "lasso.fit(X_train[lasso_col], y_train)\n",
    "lasso.coef_"
   ]
  },
  {
   "cell_type": "code",
   "execution_count": 67,
   "metadata": {},
   "outputs": [
    {
     "data": {
      "text/plain": [
       "0.7422218833126828"
      ]
     },
     "execution_count": 67,
     "metadata": {},
     "output_type": "execute_result"
    }
   ],
   "source": [
    "# r2 score on train data\n",
    "\n",
    "y_train_pred_lasso = lasso.predict(X_train[lasso_col])\n",
    "r2_score(y_train, y_train_pred_lasso)"
   ]
  },
  {
   "cell_type": "code",
   "execution_count": 68,
   "metadata": {},
   "outputs": [
    {
     "data": {
      "text/plain": [
       "0.7047565957232269"
      ]
     },
     "execution_count": 68,
     "metadata": {},
     "output_type": "execute_result"
    }
   ],
   "source": [
    "# r2 score on test data\n",
    "\n",
    "y_pred_final_lasso = lasso.predict(X_test[lasso_col])\n",
    "r2_score(y_test, y_pred_final_lasso)"
   ]
  },
  {
   "cell_type": "code",
   "execution_count": 69,
   "metadata": {},
   "outputs": [
    {
     "data": {
      "text/html": [
       "<div>\n",
       "<style scoped>\n",
       "    .dataframe tbody tr th:only-of-type {\n",
       "        vertical-align: middle;\n",
       "    }\n",
       "\n",
       "    .dataframe tbody tr th {\n",
       "        vertical-align: top;\n",
       "    }\n",
       "\n",
       "    .dataframe thead th {\n",
       "        text-align: right;\n",
       "    }\n",
       "</style>\n",
       "<table border=\"1\" class=\"dataframe\">\n",
       "  <thead>\n",
       "    <tr style=\"text-align: right;\">\n",
       "      <th></th>\n",
       "      <th>Feature_Name</th>\n",
       "      <th>Lasso_Coef</th>\n",
       "    </tr>\n",
       "  </thead>\n",
       "  <tbody>\n",
       "    <tr>\n",
       "      <td>49</td>\n",
       "      <td>GarageCars_3</td>\n",
       "      <td>0.276672</td>\n",
       "    </tr>\n",
       "    <tr>\n",
       "      <td>42</td>\n",
       "      <td>GarageType_Attchd</td>\n",
       "      <td>0.098401</td>\n",
       "    </tr>\n",
       "    <tr>\n",
       "      <td>5</td>\n",
       "      <td>BsmtExposure_Gd</td>\n",
       "      <td>0.094135</td>\n",
       "    </tr>\n",
       "    <tr>\n",
       "      <td>13</td>\n",
       "      <td>HeatingQC_Ex</td>\n",
       "      <td>0.084322</td>\n",
       "    </tr>\n",
       "    <tr>\n",
       "      <td>10</td>\n",
       "      <td>BsmtFinType1_GLQ</td>\n",
       "      <td>0.070132</td>\n",
       "    </tr>\n",
       "  </tbody>\n",
       "</table>\n",
       "</div>"
      ],
      "text/plain": [
       "         Feature_Name  Lasso_Coef\n",
       "49       GarageCars_3    0.276672\n",
       "42  GarageType_Attchd    0.098401\n",
       "5     BsmtExposure_Gd    0.094135\n",
       "13       HeatingQC_Ex    0.084322\n",
       "10   BsmtFinType1_GLQ    0.070132"
      ]
     },
     "execution_count": 69,
     "metadata": {},
     "output_type": "execute_result"
    }
   ],
   "source": [
    "# Top 5 features of Lasso\n",
    "lasso_top_features = pd.DataFrame(columns=['Feature_Name', 'Lasso_Coef'])\n",
    "lasso_top_features['Feature_Name'] = list(lasso_col)\n",
    "lasso_top_features['Lasso_Coef'] = lasso.coef_\n",
    "lasso_top_5 = lasso_top_features.sort_values('Lasso_Coef', ascending=False).head()\n",
    "lasso_top_5"
   ]
  },
  {
   "cell_type": "markdown",
   "metadata": {},
   "source": [
    "### Subjective Question 1"
   ]
  },
  {
   "cell_type": "code",
   "execution_count": 70,
   "metadata": {},
   "outputs": [
    {
     "data": {
      "text/plain": [
       "array([ 0.        ,  0.04013477,  0.        , -0.00156478,  0.        ,\n",
       "        0.04713286,  0.        , -0.        ,  0.        ,  0.        ,\n",
       "        0.0709176 , -0.        , -0.        ,  0.08001194,  0.        ,\n",
       "       -0.        , -0.04777237,  0.        , -0.13934995,  0.        ,\n",
       "       -0.03316943,  0.05396493, -0.01218129,  0.        ,  0.01124205,\n",
       "        0.        , -0.09513929, -0.        , -0.        , -0.        ,\n",
       "       -0.        ,  0.        ,  0.        ,  0.        ,  0.        ,\n",
       "        0.        ,  0.        , -0.16148688, -0.        ,  0.00763963,\n",
       "       -0.00512938, -0.        ,  0.1048725 , -0.        ,  0.04317315,\n",
       "        0.0040556 , -0.        , -0.02829629,  0.        ,  0.20610723])"
      ]
     },
     "execution_count": 70,
     "metadata": {},
     "output_type": "execute_result"
    }
   ],
   "source": [
    "# doubling alpha\n",
    "\n",
    "lasso_alpha = 0.01\n",
    "\n",
    "lasso = Lasso(lasso_alpha)\n",
    "lasso.fit(X_train[lasso_col], y_train)\n",
    "lasso.coef_"
   ]
  },
  {
   "cell_type": "code",
   "execution_count": 71,
   "metadata": {},
   "outputs": [
    {
     "data": {
      "text/plain": [
       "0.7096816727710815"
      ]
     },
     "execution_count": 71,
     "metadata": {},
     "output_type": "execute_result"
    }
   ],
   "source": [
    "# r2 score on train data\n",
    "\n",
    "y_train_pred_lasso = lasso.predict(X_train[lasso_col])\n",
    "r2_score(y_train, y_train_pred_lasso)"
   ]
  },
  {
   "cell_type": "code",
   "execution_count": 72,
   "metadata": {},
   "outputs": [
    {
     "data": {
      "text/plain": [
       "0.6708302665942475"
      ]
     },
     "execution_count": 72,
     "metadata": {},
     "output_type": "execute_result"
    }
   ],
   "source": [
    "# r2 score on test data\n",
    "\n",
    "y_pred_final_lasso = lasso.predict(X_test[lasso_col])\n",
    "r2_score(y_test, y_pred_final_lasso)"
   ]
  },
  {
   "cell_type": "code",
   "execution_count": 73,
   "metadata": {},
   "outputs": [
    {
     "data": {
      "text/html": [
       "<div>\n",
       "<style scoped>\n",
       "    .dataframe tbody tr th:only-of-type {\n",
       "        vertical-align: middle;\n",
       "    }\n",
       "\n",
       "    .dataframe tbody tr th {\n",
       "        vertical-align: top;\n",
       "    }\n",
       "\n",
       "    .dataframe thead th {\n",
       "        text-align: right;\n",
       "    }\n",
       "</style>\n",
       "<table border=\"1\" class=\"dataframe\">\n",
       "  <thead>\n",
       "    <tr style=\"text-align: right;\">\n",
       "      <th></th>\n",
       "      <th>Feature_Name</th>\n",
       "      <th>Lasso_Coef</th>\n",
       "    </tr>\n",
       "  </thead>\n",
       "  <tbody>\n",
       "    <tr>\n",
       "      <td>49</td>\n",
       "      <td>GarageCars_3</td>\n",
       "      <td>0.206107</td>\n",
       "    </tr>\n",
       "    <tr>\n",
       "      <td>42</td>\n",
       "      <td>GarageType_Attchd</td>\n",
       "      <td>0.104872</td>\n",
       "    </tr>\n",
       "    <tr>\n",
       "      <td>13</td>\n",
       "      <td>HeatingQC_Ex</td>\n",
       "      <td>0.080012</td>\n",
       "    </tr>\n",
       "    <tr>\n",
       "      <td>10</td>\n",
       "      <td>BsmtFinType1_GLQ</td>\n",
       "      <td>0.070918</td>\n",
       "    </tr>\n",
       "    <tr>\n",
       "      <td>21</td>\n",
       "      <td>HalfBath_1</td>\n",
       "      <td>0.053965</td>\n",
       "    </tr>\n",
       "  </tbody>\n",
       "</table>\n",
       "</div>"
      ],
      "text/plain": [
       "         Feature_Name  Lasso_Coef\n",
       "49       GarageCars_3    0.206107\n",
       "42  GarageType_Attchd    0.104872\n",
       "13       HeatingQC_Ex    0.080012\n",
       "10   BsmtFinType1_GLQ    0.070918\n",
       "21         HalfBath_1    0.053965"
      ]
     },
     "execution_count": 73,
     "metadata": {},
     "output_type": "execute_result"
    }
   ],
   "source": [
    "# Top 5 features of Lasso\n",
    "lasso_top_features = pd.DataFrame(columns=['Feature_Name', 'Lasso_Coef'])\n",
    "lasso_top_features['Feature_Name'] = list(lasso_col)\n",
    "lasso_top_features['Lasso_Coef'] = lasso.coef_\n",
    "lasso_top_5 = lasso_top_features.sort_values('Lasso_Coef', ascending=False).head()\n",
    "lasso_top_5"
   ]
  },
  {
   "cell_type": "markdown",
   "metadata": {},
   "source": [
    "From Lasso regression, we have almost similar predictor variables in top 5 except for ``BsmtExposure_Gd`` and ``HalfBath_1``.\n",
    "\n",
    "``GarageCars_3, GarageType_Attchd, HeatingQC_Ex, BsmtExposure_Gd`` and ``HalfBath_1`` are the predictor variable given by Lasso and all of them are premium eminities which inturn leads to hefty price tags on the property."
   ]
  },
  {
   "cell_type": "markdown",
   "metadata": {},
   "source": [
    "### Subjective Question 3: Rebuilding the model after removing top 5 predictor variables"
   ]
  },
  {
   "cell_type": "markdown",
   "metadata": {},
   "source": [
    "Our original top 5 predictor variables are ``GarageCars_3, GarageType_Attchd, BsmtExposure_Gd, HeatingQC_Ex`` and ``BsmtFinType1_GLQ``.\n",
    "\n",
    "After removing them we will be left with below 45 variables\n",
    "\n",
    "``['GarageFinish_Fin', 'GarageCars_2', 'TotRmsAbvGrd_10', 'HalfBath_1', 'BedroomAbvGr_4', 'GarageFinish_RFn',     'Foundation_PConc', 'FireplaceQu_Gd', 'GarageType_Detchd', 'FireplaceQu_TA', 'Fireplaces_1', 'TotRmsAbvGrd_12', 'TotRmsAbvGrd_11', 'GarageFinish_Unf', 'TotRmsAbvGrd_9', 'TotRmsAbvGrd_8', 'TotRmsAbvGrd_7', 'GarageCars_1', 'TotRmsAbvGrd_6', 'TotRmsAbvGrd_3', 'Foundation_CBlock', 'HeatingQC_Gd', 'BedroomAbvGr_3', 'BsmtQual_Gd', 'BsmtQual_TA', 'BsmtExposure_Av', 'BsmtExposure_Mn', 'BsmtExposure_No', 'BsmtFinType1_ALQ', 'BsmtFinType1_BLQ', 'BsmtFinType1_Rec', 'KitchenQual_Gd', 'HeatingQC_TA', 'BsmtFullBath_1', 'FullBath_2', 'FireplaceQu_No Fireplace', 'BsmtFinType1_Unf', 'TotRmsAbvGrd_5', 'BedroomAbvGr_2', 'HalfBath_0', 'BsmtFullBath_0', 'TotRmsAbvGrd_4', 'KitchenQual_TA', 'FullBath_1', 'Fireplaces_0']``"
   ]
  },
  {
   "cell_type": "code",
   "execution_count": 74,
   "metadata": {},
   "outputs": [
    {
     "data": {
      "text/plain": [
       "array(['BsmtExposure_Gd', 'GarageFinish_Fin', 'Foundation_PConc',\n",
       "       'BedroomAbvGr_4', 'FireplaceQu_Gd', 'GarageFinish_RFn',\n",
       "       'TotRmsAbvGrd_9', 'TotRmsAbvGrd_4', 'TotRmsAbvGrd_5',\n",
       "       'TotRmsAbvGrd_6', 'TotRmsAbvGrd_7', 'TotRmsAbvGrd_8',\n",
       "       'GarageFinish_Unf', 'TotRmsAbvGrd_10', 'TotRmsAbvGrd_11',\n",
       "       'TotRmsAbvGrd_3', 'Fireplaces_1', 'FireplaceQu_TA', 'GarageCars_2',\n",
       "       'GarageType_Detchd', 'TotRmsAbvGrd_12', 'Foundation_CBlock',\n",
       "       'BsmtFinType1_Unf', 'BedroomAbvGr_3', 'BsmtQual_Gd',\n",
       "       'BsmtExposure_Av', 'BsmtExposure_Mn', 'BsmtExposure_No',\n",
       "       'BsmtFinType1_ALQ', 'BsmtFinType1_BLQ', 'BsmtFinType1_Rec',\n",
       "       'KitchenQual_Gd', 'HeatingQC_Gd', 'HeatingQC_TA', 'BsmtFullBath_1',\n",
       "       'FullBath_2', 'BsmtQual_TA', 'FireplaceQu_No Fireplace',\n",
       "       'BedroomAbvGr_2', 'GarageCars_1', 'HalfBath_0', 'BsmtFullBath_0',\n",
       "       'KitchenQual_TA', 'FullBath_1', 'Fireplaces_0'], dtype=object)"
      ]
     },
     "execution_count": 74,
     "metadata": {},
     "output_type": "execute_result"
    }
   ],
   "source": [
    "# Delete top 5 predictor variables\n",
    "\n",
    "remaining_vars = lasso_top_features.sort_values('Lasso_Coef', ascending=False)['Feature_Name'].values[5:]\n",
    "remaining_vars"
   ]
  },
  {
   "cell_type": "code",
   "execution_count": 75,
   "metadata": {},
   "outputs": [
    {
     "name": "stdout",
     "output_type": "stream",
     "text": [
      "Fitting 5 folds for each of 10 candidates, totalling 50 fits\n"
     ]
    },
    {
     "name": "stderr",
     "output_type": "stream",
     "text": [
      "[Parallel(n_jobs=-1)]: Using backend LokyBackend with 8 concurrent workers.\n",
      "[Parallel(n_jobs=-1)]: Done  50 out of  50 | elapsed:    0.2s finished\n"
     ]
    },
    {
     "data": {
      "text/plain": [
       "GridSearchCV(cv=5, error_score='raise-deprecating',\n",
       "             estimator=Lasso(alpha=1.0, copy_X=True, fit_intercept=True,\n",
       "                             max_iter=1000, normalize=False, positive=False,\n",
       "                             precompute=False, random_state=None,\n",
       "                             selection='cyclic', tol=0.0001, warm_start=False),\n",
       "             iid='warn', n_jobs=-1,\n",
       "             param_grid={'alpha': [2.5e-05, 5e-05, 1e-05, 0.0001, 0.0002,\n",
       "                                   0.0005, 0.001, 0.005, 0.01, 0.02]},\n",
       "             pre_dispatch='2*n_jobs', refit=True, return_train_score=True,\n",
       "             scoring='neg_mean_absolute_error', verbose=1)"
      ]
     },
     "execution_count": 75,
     "metadata": {},
     "output_type": "execute_result"
    }
   ],
   "source": [
    "# Hyper parameter tuning\n",
    "\n",
    "lasso = Lasso()\n",
    "\n",
    "params = {\n",
    "    'alpha' : [0.000025, 0.00005, 0.00001, 0.0001, 0.0002, 0.0005, 0.001, 0.005, 0.01, 0.02]\n",
    "}\n",
    "\n",
    "lasso_model_cv = GridSearchCV(estimator=lasso,\n",
    "                              param_grid=params,\n",
    "                              scoring='neg_mean_absolute_error',\n",
    "                              n_jobs=-1,\n",
    "                              cv=5,\n",
    "                              verbose=1,\n",
    "                              return_train_score=True)\n",
    "lasso_model_cv.fit(X_train[remaining_vars], y_train)"
   ]
  },
  {
   "cell_type": "code",
   "execution_count": 76,
   "metadata": {},
   "outputs": [
    {
     "data": {
      "text/html": [
       "<div>\n",
       "<style scoped>\n",
       "    .dataframe tbody tr th:only-of-type {\n",
       "        vertical-align: middle;\n",
       "    }\n",
       "\n",
       "    .dataframe tbody tr th {\n",
       "        vertical-align: top;\n",
       "    }\n",
       "\n",
       "    .dataframe thead th {\n",
       "        text-align: right;\n",
       "    }\n",
       "</style>\n",
       "<table border=\"1\" class=\"dataframe\">\n",
       "  <thead>\n",
       "    <tr style=\"text-align: right;\">\n",
       "      <th></th>\n",
       "      <th>mean_fit_time</th>\n",
       "      <th>std_fit_time</th>\n",
       "      <th>mean_score_time</th>\n",
       "      <th>std_score_time</th>\n",
       "      <th>param_alpha</th>\n",
       "      <th>params</th>\n",
       "      <th>split0_test_score</th>\n",
       "      <th>split1_test_score</th>\n",
       "      <th>split2_test_score</th>\n",
       "      <th>split3_test_score</th>\n",
       "      <th>...</th>\n",
       "      <th>mean_test_score</th>\n",
       "      <th>std_test_score</th>\n",
       "      <th>rank_test_score</th>\n",
       "      <th>split0_train_score</th>\n",
       "      <th>split1_train_score</th>\n",
       "      <th>split2_train_score</th>\n",
       "      <th>split3_train_score</th>\n",
       "      <th>split4_train_score</th>\n",
       "      <th>mean_train_score</th>\n",
       "      <th>std_train_score</th>\n",
       "    </tr>\n",
       "  </thead>\n",
       "  <tbody>\n",
       "    <tr>\n",
       "      <td>0</td>\n",
       "      <td>0.089711</td>\n",
       "      <td>0.024820</td>\n",
       "      <td>0.008983</td>\n",
       "      <td>0.009646</td>\n",
       "      <td>2.5e-05</td>\n",
       "      <td>{'alpha': 2.5e-05}</td>\n",
       "      <td>-0.135142</td>\n",
       "      <td>-0.140730</td>\n",
       "      <td>-0.143480</td>\n",
       "      <td>-0.140358</td>\n",
       "      <td>...</td>\n",
       "      <td>-0.140781</td>\n",
       "      <td>0.003200</td>\n",
       "      <td>4</td>\n",
       "      <td>-0.132765</td>\n",
       "      <td>-0.131664</td>\n",
       "      <td>-0.129674</td>\n",
       "      <td>-0.131232</td>\n",
       "      <td>-0.132049</td>\n",
       "      <td>-0.131477</td>\n",
       "      <td>0.001033</td>\n",
       "    </tr>\n",
       "    <tr>\n",
       "      <td>1</td>\n",
       "      <td>0.059002</td>\n",
       "      <td>0.019673</td>\n",
       "      <td>0.003768</td>\n",
       "      <td>0.003455</td>\n",
       "      <td>5e-05</td>\n",
       "      <td>{'alpha': 5e-05}</td>\n",
       "      <td>-0.135012</td>\n",
       "      <td>-0.140288</td>\n",
       "      <td>-0.143475</td>\n",
       "      <td>-0.140291</td>\n",
       "      <td>...</td>\n",
       "      <td>-0.140690</td>\n",
       "      <td>0.003295</td>\n",
       "      <td>3</td>\n",
       "      <td>-0.132887</td>\n",
       "      <td>-0.131818</td>\n",
       "      <td>-0.129719</td>\n",
       "      <td>-0.131387</td>\n",
       "      <td>-0.132210</td>\n",
       "      <td>-0.131604</td>\n",
       "      <td>0.001064</td>\n",
       "    </tr>\n",
       "    <tr>\n",
       "      <td>2</td>\n",
       "      <td>0.082218</td>\n",
       "      <td>0.006216</td>\n",
       "      <td>0.004708</td>\n",
       "      <td>0.003335</td>\n",
       "      <td>1e-05</td>\n",
       "      <td>{'alpha': 1e-05}</td>\n",
       "      <td>-0.135203</td>\n",
       "      <td>-0.140885</td>\n",
       "      <td>-0.143499</td>\n",
       "      <td>-0.140436</td>\n",
       "      <td>...</td>\n",
       "      <td>-0.140811</td>\n",
       "      <td>0.003146</td>\n",
       "      <td>5</td>\n",
       "      <td>-0.132662</td>\n",
       "      <td>-0.131518</td>\n",
       "      <td>-0.129645</td>\n",
       "      <td>-0.131077</td>\n",
       "      <td>-0.131902</td>\n",
       "      <td>-0.131361</td>\n",
       "      <td>0.001004</td>\n",
       "    </tr>\n",
       "    <tr>\n",
       "      <td>3</td>\n",
       "      <td>0.031449</td>\n",
       "      <td>0.009844</td>\n",
       "      <td>0.002142</td>\n",
       "      <td>0.002132</td>\n",
       "      <td>0.0001</td>\n",
       "      <td>{'alpha': 0.0001}</td>\n",
       "      <td>-0.134950</td>\n",
       "      <td>-0.139771</td>\n",
       "      <td>-0.143509</td>\n",
       "      <td>-0.140167</td>\n",
       "      <td>...</td>\n",
       "      <td>-0.140605</td>\n",
       "      <td>0.003400</td>\n",
       "      <td>2</td>\n",
       "      <td>-0.133050</td>\n",
       "      <td>-0.132059</td>\n",
       "      <td>-0.129816</td>\n",
       "      <td>-0.131606</td>\n",
       "      <td>-0.132360</td>\n",
       "      <td>-0.131778</td>\n",
       "      <td>0.001088</td>\n",
       "    </tr>\n",
       "    <tr>\n",
       "      <td>4</td>\n",
       "      <td>0.017049</td>\n",
       "      <td>0.002622</td>\n",
       "      <td>0.003704</td>\n",
       "      <td>0.003379</td>\n",
       "      <td>0.0002</td>\n",
       "      <td>{'alpha': 0.0002}</td>\n",
       "      <td>-0.134944</td>\n",
       "      <td>-0.139164</td>\n",
       "      <td>-0.143533</td>\n",
       "      <td>-0.140042</td>\n",
       "      <td>...</td>\n",
       "      <td>-0.140564</td>\n",
       "      <td>0.003575</td>\n",
       "      <td>1</td>\n",
       "      <td>-0.133358</td>\n",
       "      <td>-0.132404</td>\n",
       "      <td>-0.130058</td>\n",
       "      <td>-0.131893</td>\n",
       "      <td>-0.132551</td>\n",
       "      <td>-0.132053</td>\n",
       "      <td>0.001103</td>\n",
       "    </tr>\n",
       "    <tr>\n",
       "      <td>5</td>\n",
       "      <td>0.011679</td>\n",
       "      <td>0.003120</td>\n",
       "      <td>0.001518</td>\n",
       "      <td>0.003037</td>\n",
       "      <td>0.0005</td>\n",
       "      <td>{'alpha': 0.0005}</td>\n",
       "      <td>-0.135310</td>\n",
       "      <td>-0.138685</td>\n",
       "      <td>-0.144198</td>\n",
       "      <td>-0.140302</td>\n",
       "      <td>...</td>\n",
       "      <td>-0.141255</td>\n",
       "      <td>0.004349</td>\n",
       "      <td>6</td>\n",
       "      <td>-0.134361</td>\n",
       "      <td>-0.133757</td>\n",
       "      <td>-0.131078</td>\n",
       "      <td>-0.132780</td>\n",
       "      <td>-0.133644</td>\n",
       "      <td>-0.133124</td>\n",
       "      <td>0.001141</td>\n",
       "    </tr>\n",
       "    <tr>\n",
       "      <td>6</td>\n",
       "      <td>0.015046</td>\n",
       "      <td>0.003883</td>\n",
       "      <td>0.001917</td>\n",
       "      <td>0.003358</td>\n",
       "      <td>0.001</td>\n",
       "      <td>{'alpha': 0.001}</td>\n",
       "      <td>-0.136932</td>\n",
       "      <td>-0.140704</td>\n",
       "      <td>-0.145998</td>\n",
       "      <td>-0.142198</td>\n",
       "      <td>...</td>\n",
       "      <td>-0.143786</td>\n",
       "      <td>0.005502</td>\n",
       "      <td>7</td>\n",
       "      <td>-0.137428</td>\n",
       "      <td>-0.136959</td>\n",
       "      <td>-0.133632</td>\n",
       "      <td>-0.135086</td>\n",
       "      <td>-0.136327</td>\n",
       "      <td>-0.135886</td>\n",
       "      <td>0.001374</td>\n",
       "    </tr>\n",
       "    <tr>\n",
       "      <td>7</td>\n",
       "      <td>0.008663</td>\n",
       "      <td>0.004864</td>\n",
       "      <td>0.004282</td>\n",
       "      <td>0.003238</td>\n",
       "      <td>0.005</td>\n",
       "      <td>{'alpha': 0.005}</td>\n",
       "      <td>-0.159605</td>\n",
       "      <td>-0.171926</td>\n",
       "      <td>-0.166203</td>\n",
       "      <td>-0.156973</td>\n",
       "      <td>...</td>\n",
       "      <td>-0.168156</td>\n",
       "      <td>0.010379</td>\n",
       "      <td>8</td>\n",
       "      <td>-0.163782</td>\n",
       "      <td>-0.162803</td>\n",
       "      <td>-0.165794</td>\n",
       "      <td>-0.164186</td>\n",
       "      <td>-0.159333</td>\n",
       "      <td>-0.163179</td>\n",
       "      <td>0.002152</td>\n",
       "    </tr>\n",
       "    <tr>\n",
       "      <td>8</td>\n",
       "      <td>0.008062</td>\n",
       "      <td>0.003703</td>\n",
       "      <td>0.002400</td>\n",
       "      <td>0.002943</td>\n",
       "      <td>0.01</td>\n",
       "      <td>{'alpha': 0.01}</td>\n",
       "      <td>-0.165270</td>\n",
       "      <td>-0.180261</td>\n",
       "      <td>-0.175136</td>\n",
       "      <td>-0.162584</td>\n",
       "      <td>...</td>\n",
       "      <td>-0.175336</td>\n",
       "      <td>0.011111</td>\n",
       "      <td>9</td>\n",
       "      <td>-0.174008</td>\n",
       "      <td>-0.171050</td>\n",
       "      <td>-0.172938</td>\n",
       "      <td>-0.172738</td>\n",
       "      <td>-0.168030</td>\n",
       "      <td>-0.171753</td>\n",
       "      <td>0.002089</td>\n",
       "    </tr>\n",
       "    <tr>\n",
       "      <td>9</td>\n",
       "      <td>0.007175</td>\n",
       "      <td>0.001253</td>\n",
       "      <td>0.001432</td>\n",
       "      <td>0.001790</td>\n",
       "      <td>0.02</td>\n",
       "      <td>{'alpha': 0.02}</td>\n",
       "      <td>-0.180442</td>\n",
       "      <td>-0.194192</td>\n",
       "      <td>-0.182624</td>\n",
       "      <td>-0.173360</td>\n",
       "      <td>...</td>\n",
       "      <td>-0.185926</td>\n",
       "      <td>0.009369</td>\n",
       "      <td>10</td>\n",
       "      <td>-0.186586</td>\n",
       "      <td>-0.184123</td>\n",
       "      <td>-0.185093</td>\n",
       "      <td>-0.185974</td>\n",
       "      <td>-0.180399</td>\n",
       "      <td>-0.184435</td>\n",
       "      <td>0.002183</td>\n",
       "    </tr>\n",
       "  </tbody>\n",
       "</table>\n",
       "<p>10 rows × 21 columns</p>\n",
       "</div>"
      ],
      "text/plain": [
       "   mean_fit_time  std_fit_time  mean_score_time  std_score_time param_alpha  \\\n",
       "0       0.089711      0.024820         0.008983        0.009646     2.5e-05   \n",
       "1       0.059002      0.019673         0.003768        0.003455       5e-05   \n",
       "2       0.082218      0.006216         0.004708        0.003335       1e-05   \n",
       "3       0.031449      0.009844         0.002142        0.002132      0.0001   \n",
       "4       0.017049      0.002622         0.003704        0.003379      0.0002   \n",
       "5       0.011679      0.003120         0.001518        0.003037      0.0005   \n",
       "6       0.015046      0.003883         0.001917        0.003358       0.001   \n",
       "7       0.008663      0.004864         0.004282        0.003238       0.005   \n",
       "8       0.008062      0.003703         0.002400        0.002943        0.01   \n",
       "9       0.007175      0.001253         0.001432        0.001790        0.02   \n",
       "\n",
       "               params  split0_test_score  split1_test_score  \\\n",
       "0  {'alpha': 2.5e-05}          -0.135142          -0.140730   \n",
       "1    {'alpha': 5e-05}          -0.135012          -0.140288   \n",
       "2    {'alpha': 1e-05}          -0.135203          -0.140885   \n",
       "3   {'alpha': 0.0001}          -0.134950          -0.139771   \n",
       "4   {'alpha': 0.0002}          -0.134944          -0.139164   \n",
       "5   {'alpha': 0.0005}          -0.135310          -0.138685   \n",
       "6    {'alpha': 0.001}          -0.136932          -0.140704   \n",
       "7    {'alpha': 0.005}          -0.159605          -0.171926   \n",
       "8     {'alpha': 0.01}          -0.165270          -0.180261   \n",
       "9     {'alpha': 0.02}          -0.180442          -0.194192   \n",
       "\n",
       "   split2_test_score  split3_test_score  ...  mean_test_score  std_test_score  \\\n",
       "0          -0.143480          -0.140358  ...        -0.140781        0.003200   \n",
       "1          -0.143475          -0.140291  ...        -0.140690        0.003295   \n",
       "2          -0.143499          -0.140436  ...        -0.140811        0.003146   \n",
       "3          -0.143509          -0.140167  ...        -0.140605        0.003400   \n",
       "4          -0.143533          -0.140042  ...        -0.140564        0.003575   \n",
       "5          -0.144198          -0.140302  ...        -0.141255        0.004349   \n",
       "6          -0.145998          -0.142198  ...        -0.143786        0.005502   \n",
       "7          -0.166203          -0.156973  ...        -0.168156        0.010379   \n",
       "8          -0.175136          -0.162584  ...        -0.175336        0.011111   \n",
       "9          -0.182624          -0.173360  ...        -0.185926        0.009369   \n",
       "\n",
       "   rank_test_score  split0_train_score  split1_train_score  \\\n",
       "0                4           -0.132765           -0.131664   \n",
       "1                3           -0.132887           -0.131818   \n",
       "2                5           -0.132662           -0.131518   \n",
       "3                2           -0.133050           -0.132059   \n",
       "4                1           -0.133358           -0.132404   \n",
       "5                6           -0.134361           -0.133757   \n",
       "6                7           -0.137428           -0.136959   \n",
       "7                8           -0.163782           -0.162803   \n",
       "8                9           -0.174008           -0.171050   \n",
       "9               10           -0.186586           -0.184123   \n",
       "\n",
       "   split2_train_score  split3_train_score  split4_train_score  \\\n",
       "0           -0.129674           -0.131232           -0.132049   \n",
       "1           -0.129719           -0.131387           -0.132210   \n",
       "2           -0.129645           -0.131077           -0.131902   \n",
       "3           -0.129816           -0.131606           -0.132360   \n",
       "4           -0.130058           -0.131893           -0.132551   \n",
       "5           -0.131078           -0.132780           -0.133644   \n",
       "6           -0.133632           -0.135086           -0.136327   \n",
       "7           -0.165794           -0.164186           -0.159333   \n",
       "8           -0.172938           -0.172738           -0.168030   \n",
       "9           -0.185093           -0.185974           -0.180399   \n",
       "\n",
       "   mean_train_score  std_train_score  \n",
       "0         -0.131477         0.001033  \n",
       "1         -0.131604         0.001064  \n",
       "2         -0.131361         0.001004  \n",
       "3         -0.131778         0.001088  \n",
       "4         -0.132053         0.001103  \n",
       "5         -0.133124         0.001141  \n",
       "6         -0.135886         0.001374  \n",
       "7         -0.163179         0.002152  \n",
       "8         -0.171753         0.002089  \n",
       "9         -0.184435         0.002183  \n",
       "\n",
       "[10 rows x 21 columns]"
      ]
     },
     "execution_count": 76,
     "metadata": {},
     "output_type": "execute_result"
    }
   ],
   "source": [
    "# Cross validation results\n",
    "\n",
    "lasso_cv_results = pd.DataFrame(lasso_model_cv.cv_results_)\n",
    "lasso_cv_results"
   ]
  },
  {
   "cell_type": "code",
   "execution_count": 77,
   "metadata": {},
   "outputs": [
    {
     "data": {
      "image/png": "[encoded data removed]",
      "text/plain": [
       "<Figure size 432x288 with 1 Axes>"
      ]
     },
     "metadata": {
      "needs_background": "light"
     },
     "output_type": "display_data"
    }
   ],
   "source": [
    "# Plotting Train and test error\n",
    "\n",
    "plot_train_test_error(lasso_cv_results)"
   ]
  },
  {
   "cell_type": "markdown",
   "metadata": {},
   "source": [
    "At Alpha=0.0125, the difference between train and test error is minimum and from there on the difference is constant and the curves are almost parallel to each other."
   ]
  },
  {
   "cell_type": "code",
   "execution_count": 78,
   "metadata": {},
   "outputs": [
    {
     "data": {
      "text/plain": [
       "array([ 0.13422824,  0.12523894,  0.09781235,  0.0556317 ,  0.04032084,\n",
       "        0.08921006,  0.        , -0.07069586, -0.02267643, -0.        ,\n",
       "        0.        ,  0.        ,  0.        ,  0.09587723,  0.        ,\n",
       "       -0.        , -0.        , -0.        , -0.00837739, -0.02218965,\n",
       "        0.        ,  0.        , -0.0372846 ,  0.00608048, -0.        ,\n",
       "        0.00832368,  0.        , -0.        , -0.        ,  0.        ,\n",
       "       -0.        , -0.        , -0.01426409, -0.04616909,  0.        ,\n",
       "        0.        , -0.02421627, -0.16201061, -0.02836666, -0.03200144,\n",
       "       -0.08240832, -0.08070574, -0.13005328, -0.12898611, -0.00450111])"
      ]
     },
     "execution_count": 78,
     "metadata": {},
     "output_type": "execute_result"
    }
   ],
   "source": [
    "# Rebuild model\n",
    "\n",
    "lasso_alpha = 0.005\n",
    "\n",
    "lasso = Lasso(lasso_alpha)\n",
    "lasso.fit(X_train[remaining_vars], y_train)\n",
    "lasso.coef_"
   ]
  },
  {
   "cell_type": "code",
   "execution_count": 79,
   "metadata": {},
   "outputs": [
    {
     "data": {
      "text/plain": [
       "0.6951775138746925"
      ]
     },
     "execution_count": 79,
     "metadata": {},
     "output_type": "execute_result"
    }
   ],
   "source": [
    "# r2 score on train data\n",
    "\n",
    "y_train_pred_lasso = lasso.predict(X_train[remaining_vars])\n",
    "r2_score(y_train, y_train_pred_lasso)"
   ]
  },
  {
   "cell_type": "code",
   "execution_count": 80,
   "metadata": {},
   "outputs": [
    {
     "data": {
      "text/plain": [
       "0.6389576025746604"
      ]
     },
     "execution_count": 80,
     "metadata": {},
     "output_type": "execute_result"
    }
   ],
   "source": [
    "# r2 score on test data\n",
    "\n",
    "y_pred_final_lasso = lasso.predict(X_test[remaining_vars])\n",
    "r2_score(y_test, y_pred_final_lasso)"
   ]
  },
  {
   "cell_type": "code",
   "execution_count": 81,
   "metadata": {},
   "outputs": [
    {
     "data": {
      "text/html": [
       "<div>\n",
       "<style scoped>\n",
       "    .dataframe tbody tr th:only-of-type {\n",
       "        vertical-align: middle;\n",
       "    }\n",
       "\n",
       "    .dataframe tbody tr th {\n",
       "        vertical-align: top;\n",
       "    }\n",
       "\n",
       "    .dataframe thead th {\n",
       "        text-align: right;\n",
       "    }\n",
       "</style>\n",
       "<table border=\"1\" class=\"dataframe\">\n",
       "  <thead>\n",
       "    <tr style=\"text-align: right;\">\n",
       "      <th></th>\n",
       "      <th>Feature_Name</th>\n",
       "      <th>Lasso_Coef</th>\n",
       "    </tr>\n",
       "  </thead>\n",
       "  <tbody>\n",
       "    <tr>\n",
       "      <td>0</td>\n",
       "      <td>BsmtExposure_Gd</td>\n",
       "      <td>0.134228</td>\n",
       "    </tr>\n",
       "    <tr>\n",
       "      <td>1</td>\n",
       "      <td>GarageFinish_Fin</td>\n",
       "      <td>0.125239</td>\n",
       "    </tr>\n",
       "    <tr>\n",
       "      <td>2</td>\n",
       "      <td>Foundation_PConc</td>\n",
       "      <td>0.097812</td>\n",
       "    </tr>\n",
       "    <tr>\n",
       "      <td>13</td>\n",
       "      <td>TotRmsAbvGrd_10</td>\n",
       "      <td>0.095877</td>\n",
       "    </tr>\n",
       "    <tr>\n",
       "      <td>5</td>\n",
       "      <td>GarageFinish_RFn</td>\n",
       "      <td>0.089210</td>\n",
       "    </tr>\n",
       "  </tbody>\n",
       "</table>\n",
       "</div>"
      ],
      "text/plain": [
       "        Feature_Name  Lasso_Coef\n",
       "0    BsmtExposure_Gd    0.134228\n",
       "1   GarageFinish_Fin    0.125239\n",
       "2   Foundation_PConc    0.097812\n",
       "13   TotRmsAbvGrd_10    0.095877\n",
       "5   GarageFinish_RFn    0.089210"
      ]
     },
     "execution_count": 81,
     "metadata": {},
     "output_type": "execute_result"
    }
   ],
   "source": [
    "# Top 5 features of Lasso after rebuilding\n",
    "\n",
    "lasso_top_features = pd.DataFrame(columns=['Feature_Name', 'Lasso_Coef'])\n",
    "lasso_top_features['Feature_Name'] = list(remaining_vars)\n",
    "lasso_top_features['Lasso_Coef'] = lasso.coef_\n",
    "lasso_top_5 = lasso_top_features.sort_values('Lasso_Coef', ascending=False).head()\n",
    "lasso_top_5"
   ]
  }
 ],
 "metadata": {
  "kernelspec": {
   "display_name": "Python 3",
   "language": "python",
   "name": "python3"
  },
  "language_info": {
   "codemirror_mode": {
    "name": "ipython",
    "version": 3
   },
   "file_extension": ".py",
   "mimetype": "text/x-python",
   "name": "python",
   "nbconvert_exporter": "python",
   "pygments_lexer": "ipython3",
   "version": "3.7.4"
  }
 },
 "nbformat": 4,
 "nbformat_minor": 2
}
